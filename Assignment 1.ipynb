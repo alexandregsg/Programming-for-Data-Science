{
 "cells": [
  {
   "cell_type": "markdown",
   "metadata": {
    "jp-MarkdownHeadingCollapsed": true
   },
   "source": [
    "# <span style=\"color:green\"> Start Here </span> \n",
    "\n",
    "[Please Complete the following form with your details]\n",
    "\n",
    "Student Name -  Alexandre Gentil Soares Gonçalves <br> \n",
    "Student id - 20240738 <br>\n",
    "Contact e-mail -  20240738@novaims.unl.pt <br>\n",
    "\n",
    "\n",
    "Student Name - Victoria Goon <br>\n",
    "Student id - 20240550 <br>\n",
    "Contact e-mail - 20240550@novaims.unl.pt <br>\n",
    "\n",
    "Disclaimer: We both did the whole notebook and discussed in a meeting which solutions and code was better or most readable, that's why some parts of the code are in a \"different\" coding style."
   ]
  },
  {
   "cell_type": "markdown",
   "metadata": {},
   "source": [
    "# <span style=\"color:brown\"> Part 1 -  Variable Declaration and Manipulation </span> \n",
    "\n",
    "## Exercise I - of Lists and Random numbers\n",
    "\n",
    "**1**: Declare a variable X that stores a list of 100 integers randomly sampled between -100 and 100.<br>\n",
    "Note: You are not allowed to use third party libraries -- such as Numpy, Pandas, or Scipy -- in this exercise."
   ]
  },
  {
   "cell_type": "code",
   "execution_count": 4,
   "metadata": {},
   "outputs": [],
   "source": [
    "import random as rd #import the random package in a seperate cell to prevent unintentional imports if paired with code"
   ]
  },
  {
   "cell_type": "code",
   "execution_count": 5,
   "metadata": {
    "scrolled": true
   },
   "outputs": [
    {
     "name": "stdout",
     "output_type": "stream",
     "text": [
      "[-50, 41, -85, 21, 37, 68, 20, 50, -21, -31, 100, -58, 77, -77, -76, -9, -23, -15, 85, 48, -60, 72, 61, -55, 0, 17, -4, -40, 92, 32, 86, -75, -67, 10, -83, -46, 15, 33, -16, 73, 71, 26, 58, 47, -30, 6, 21, 71, -26, 8, -80, -67, 35, -27, -58, 45, -75, 39, 82, 46, -25, 32, 48, 83, 4, -46, -4, 99, -91, 28, -72, -8, 38, 52, -22, 20, 33, -55, 92, 38, 13, -71, -64, 63, 30, 64, 30, 57, -3, 90, -10, -3, -23, -61, -46, -23, -59, -28, 71, -9]\n"
     ]
    }
   ],
   "source": [
    "# Create an empty list\n",
    "X = []\n",
    "\n",
    "# Loop through range of 0 to 100 to make 100 iteractions\n",
    "for i in range(100):\n",
    "    # Generate a random number between -100 and 100\n",
    "    num = rd.randint(-100,100)\n",
    "    # Append it to the previous list\n",
    "    X.append(num)\n",
    "\n",
    "print(X)"
   ]
  },
  {
   "cell_type": "markdown",
   "metadata": {},
   "source": [
    "**2**: How many odd numbers are in list X?\n"
   ]
  },
  {
   "cell_type": "code",
   "execution_count": 7,
   "metadata": {},
   "outputs": [
    {
     "name": "stdout",
     "output_type": "stream",
     "text": [
      "49\n"
     ]
    }
   ],
   "source": [
    "# Variable to count the number of odds\n",
    "count_odds = 0 \n",
    "\n",
    "# Looping through the previous list X so that we can check if the given number is odd or even\n",
    "for num in X:\n",
    "    # So if the remainder of a number divided by 2 is not 0 , then the number is odd \n",
    "    if num % 2 != 0:\n",
    "        # Increment the variable as we are looping through the list X\n",
    "        count_odds += 1\n",
    "    # If the remainder of a number divided by 2 is  0 , then the number is even \n",
    "    else:\n",
    "        # So if the 1st condition is not verified, then we skip incrementing count_odds\n",
    "        continue\n",
    "\n",
    "print(count_odds)"
   ]
  },
  {
   "cell_type": "markdown",
   "metadata": {},
   "source": [
    "**2.1** Check if there are as many even numbers as there are odd numbers, else discard the list and generate a new one."
   ]
  },
  {
   "cell_type": "code",
   "execution_count": 9,
   "metadata": {},
   "outputs": [
    {
     "name": "stdout",
     "output_type": "stream",
     "text": [
      "51\n",
      "[]\n",
      "[29, -65, -29, -63, 15, -99, 97, 37, -56, -54, 94, 7, -52, -62, -39, 66, 19, -26, -90, -62, -46, 47, -66, 65, 26, 75, -30, -21, -8, 1, 69, -46, 69, 33, -19, 47, -72, 83, -84, -57, 36, 17, 51, -74, -84, 37, -38, -16, 54, -76, -81, -9, 20, -87, -14, 45, -96, -95, -27, -71, -1, 25, 59, -65, -18, 33, -90, -95, -79, -29, -41, 94, -2, 30, -96, -43, -9, -23, 70, 1, 29, 28, -86, 22, 68, 16, -60, 38, -24, 93, -58, 3, 41, 22, 94, 13, 46, -27, -71, -62]\n",
      "100\n"
     ]
    }
   ],
   "source": [
    "# Variable to count the number of evens\n",
    "count_evens = 0\n",
    "\n",
    "# Looping through the previous list X so that we can check if the given number is even\n",
    "for num in X:\n",
    "    # If the remainder of a number divided by 2 is  0 , then the number is even \n",
    "    if num % 2 == 0:\n",
    "        # Increment the variable as we are looping through the list X\n",
    "        count_evens += 1\n",
    "    # If the remainder of a number divided by 2 is not 0 , then the number is odd \n",
    "    else:\n",
    "        # So if the 1st condition is not verified, then we skip incrementing count_evens\n",
    "        continue\n",
    "\n",
    "print(count_evens)        \n",
    "\n",
    "# If count of evens isn't the same as count of odds, we clear the previous list (because it's said to discard the list if count_evens is not equal to count_odds)\n",
    "if count_evens != count_odds:\n",
    "    # Method to clear the list\n",
    "    X.clear()\n",
    "    print(X)\n",
    "\n",
    "    # Same logic as Ex.1\n",
    "    for i in range(0,100):\n",
    "        num = rd.randint(-100,100)\n",
    "        X.append(num)\n",
    "\n",
    "print(X)\n",
    "print(len(X))"
   ]
  },
  {
   "cell_type": "markdown",
   "metadata": {},
   "source": [
    "**2.2** Create a pipeline to automatically perform the tasks above such that you avoid having to run the cells multiple times to reach the desired outcome."
   ]
  },
  {
   "cell_type": "code",
   "execution_count": 11,
   "metadata": {
    "scrolled": true
   },
   "outputs": [
    {
     "name": "stdout",
     "output_type": "stream",
     "text": [
      "Iterations: 2 : Even count #50 == Odd count #50\n",
      "[91, 23, -57, 23, 1, 98, -57, 92, -85, -46, -54, -1, -10, 8, -63, -54, -42, 68, -84, 12, 43, -30, 69, -87, 100, -70, -8, 5, -1, 20, -84, 58, 67, -95, -61, 90, -1, 33, -61, 50, 97, 92, 23, 19, -49, -96, -76, 15, 65, 56, -86, -52, 56, 66, 95, 31, -69, 55, 70, -15, 62, -74, 9, 17, 49, -58, 32, 19, 81, 25, -90, 96, 81, 75, 20, 62, 20, -76, 4, -9, -31, -86, 87, -41, -64, 34, -51, -62, 52, -97, 49, 59, -63, 82, 63, -18, 8, 24, 10, -87]\n"
     ]
    }
   ],
   "source": [
    "# initialize variables outside of loop to preserve them for after the loop (scope)\n",
    "matching_odd_even_counts = False\n",
    "X = [] # the variable to hold the result\n",
    "iterations = 1 # a variable to count # of interations to see how long it takes\n",
    "\n",
    "# using a while loop to run until condition is achieved, no matter how many iterations it takes\n",
    "# the condition being \"generate the same number of odds as evens randomly\"\n",
    "while matching_odd_even_counts == False:\n",
    "    # generate list with 100 random ints between -100 and 100\n",
    "    for i in range(100):\n",
    "        X.append(rd.randint(-100, 100))\n",
    "    # get odd integer count\n",
    "    odd_count = len(list(filter(lambda x : x%2 != 0, X))) # using lambda function in filter to remove all the evens from the list\n",
    "    # get even integer count\n",
    "    even_count = len(list(filter(lambda x : x%2 == 0, X))) # using lambda function in filter to remove all the odds from the list\n",
    "\n",
    "    # compare the counts to see if they match. If they match, break the while loop by setting our marker to True\n",
    "    if odd_count == even_count:\n",
    "        matching_odd_even_counts = True\n",
    "    else: # if the counts don't match, reset X to being empty\n",
    "        X = [] # clears list\n",
    "        iterations += 1\n",
    "\n",
    "# contain counts to prove matching lengths\n",
    "odd_count = len(list(filter(lambda x : x%2 != 0, X)))\n",
    "even_count = len(list(filter(lambda x : x%2 == 0, X)))\n",
    "\n",
    "print(\"Iterations: \"+str(iterations)+\" : Even count #\" + str(even_count) + \" == Odd count #\" + str(odd_count))\n",
    "print(X)\n",
    "    "
   ]
  },
  {
   "cell_type": "markdown",
   "metadata": {},
   "source": [
    "**3**: Print the number of digits that the 5th and 100th element of the list have. <br>\n",
    "*Note: For instance, the number 1 contains one digit, the number 10 contains two digits, the number -2 contains one digit.*"
   ]
  },
  {
   "cell_type": "code",
   "execution_count": 13,
   "metadata": {},
   "outputs": [
    {
     "name": "stdout",
     "output_type": "stream",
     "text": [
      "98 -87\n",
      "2 2\n"
     ]
    }
   ],
   "source": [
    "digits_X = [] #list that will store the number of digits that each element has\n",
    "\n",
    "# Looping through the list X\n",
    "for num in X:\n",
    "    # variable that will count in the inner loop, the number of digits that each num has (we had to convert it to str, so that we could iterate over it)\n",
    "    digits_count = 0 \n",
    "    # So we convert num to str and then apply strip method on str to remove the negative numbers (\"-\") \n",
    "    stripped_str = str(num).strip(\"-\")\n",
    "    # Inner loop that loops through each number in stripped string (that is no longer negative)\n",
    "    for number in stripped_str:\n",
    "        # Count the digits of each string and increase them by one on each iteraction\n",
    "        digits_count += 1 \n",
    "    # In the end of the loop , append the number of words in each string to the list Digits_X\n",
    "    digits_X.append(digits_count)\n",
    "        \n",
    "print(X[5] , X[99])\n",
    "print(digits_X[5] , digits_X[99]) #printing accordingly \n"
   ]
  },
  {
   "cell_type": "markdown",
   "metadata": {},
   "source": [
    "**4**: Is the sum total of all the numbers in the list even or odd?"
   ]
  },
  {
   "cell_type": "code",
   "execution_count": 15,
   "metadata": {},
   "outputs": [
    {
     "name": "stdout",
     "output_type": "stream",
     "text": [
      "The sum of all numbers: (410), is even\n"
     ]
    }
   ],
   "source": [
    "# Variable that stores the sum of the total of the numbers in the list X\n",
    "sum_total = 0 \n",
    "\n",
    "# Looping through list X\n",
    "for num in X:\n",
    "    # Adding the value of the current element to sum_total for each iteration\n",
    "    sum_total += num\n",
    "\n",
    "# See if the sum_total variable is even\n",
    "if sum_total % 2 == 0:\n",
    "    print(f\"The sum of all numbers: ({sum_total}), is even\")\n",
    "# If the sum_total var. is not even , then it's odd\n",
    "else:\n",
    "    print(f\"The sum of all numbers: ({sum_total}), is odd\")"
   ]
  },
  {
   "cell_type": "markdown",
   "metadata": {},
   "source": [
    "**5**: What is the average of the list X?"
   ]
  },
  {
   "cell_type": "code",
   "execution_count": 17,
   "metadata": {},
   "outputs": [
    {
     "name": "stdout",
     "output_type": "stream",
     "text": [
      "The average of X is 4.1\n"
     ]
    }
   ],
   "source": [
    "# Variable that stores the average (sum of all values divided by the number of values (which is given by the length of the list))\n",
    "average_X = sum_total / len(X)\n",
    "\n",
    "print(f\"The average of X is {average_X}\")"
   ]
  },
  {
   "cell_type": "markdown",
   "metadata": {},
   "source": [
    "**5.1.** What is the population standard deviation? <br>"
   ]
  },
  {
   "cell_type": "code",
   "execution_count": 19,
   "metadata": {},
   "outputs": [
    {
     "name": "stdout",
     "output_type": "stream",
     "text": [
      "The population standard deviation of X is 59.79339428398424\n"
     ]
    }
   ],
   "source": [
    "#sd_X = SQR(sum(from i to N , xi - average_X)**2/len(X))\n",
    "\n",
    "# Variable that stores the sum(from i to N , xi - average_X)**2 \n",
    "sd_sum = 0 \n",
    "\n",
    "for num in X:\n",
    "    # Adding the squared difference between the mean and the current x value\n",
    "    sd_sum += (num - average_X)**2\n",
    "\n",
    "# Just compute the standard deviation for the sample\n",
    "sd_X = (sd_sum/len(X))**0.5\n",
    "\n",
    "print(f\"The population standard deviation of X is {sd_X}\")"
   ]
  },
  {
   "cell_type": "markdown",
   "metadata": {},
   "source": [
    "**6**: Sort list X in descending order and store the result in variable Xsort. <br>"
   ]
  },
  {
   "cell_type": "code",
   "execution_count": 21,
   "metadata": {},
   "outputs": [
    {
     "name": "stdout",
     "output_type": "stream",
     "text": [
      "[100, 98, 97, 96, 95, 92, 92, 91, 90, 87, 82, 81, 81, 75, 70, 69, 68, 67, 66, 65, 63, 62, 62, 59, 58, 56, 56, 55, 52, 50, 49, 49, 43, 34, 33, 32, 31, 25, 24, 23, 23, 23, 20, 20, 20, 19, 19, 17, 15, 12, 10, 9, 8, 8, 5, 4, 1, -1, -1, -1, -8, -9, -10, -15, -18, -30, -31, -41, -42, -46, -49, -51, -52, -54, -54, -57, -57, -58, -61, -61, -62, -63, -63, -64, -69, -70, -74, -76, -76, -84, -84, -85, -86, -86, -87, -87, -90, -95, -96, -97]\n"
     ]
    }
   ],
   "source": [
    "# Sorts the list X in descending order and assigns the sorted list to Xsort\n",
    "XSort = sorted(X,reverse=True)\n",
    "print(XSort)"
   ]
  },
  {
   "cell_type": "markdown",
   "metadata": {},
   "source": [
    "**6.1** Then replace each value in Xsort with index i as the sum of the values with index i-1 and i. <br> "
   ]
  },
  {
   "cell_type": "code",
   "execution_count": 23,
   "metadata": {},
   "outputs": [
    {
     "name": "stdout",
     "output_type": "stream",
     "text": [
      "[100, 198, 195, 193, 191, 187, 184, 183, 181, 177, 169, 163, 162, 156, 145, 139, 137, 135, 133, 131, 128, 125, 124, 121, 117, 114, 112, 111, 107, 102, 99, 98, 92, 77, 67, 65, 63, 56, 49, 47, 46, 46, 43, 40, 40, 39, 38, 36, 32, 27, 22, 19, 17, 16, 13, 9, 5, 0, -2, -2, -9, -17, -19, -25, -33, -48, -61, -72, -83, -88, -95, -100, -103, -106, -108, -111, -114, -115, -119, -122, -123, -125, -126, -127, -133, -139, -144, -150, -152, -160, -168, -169, -171, -172, -173, -174, -177, -185, -191, -193]\n"
     ]
    }
   ],
   "source": [
    "result = [] # create temporary list to hold result while looping through and doing the calculations to prevent changes while looping\n",
    "result.append(XSort[0]) # we will skip the first value in the loop since index X[-1] isn't a value we want to add to the beginning of the list\n",
    "for i in range(1, len(XSort)): # loop through only 1 - 99 instead of 0 - 99\n",
    "    result.append(XSort[i] + XSort[i-1])\n",
    "\n",
    "XSort = result # assign XSort to the desired variable since instructions didnt mention creating a new variable\n",
    "print(XSort)"
   ]
  },
  {
   "cell_type": "markdown",
   "metadata": {},
   "source": [
    "## Exercise II - The Most Uncool Band\n",
    "\n",
    "**7**: Consider the dictionaries  *songs* and *users* that are declared in the cell below. <br>\n",
    "Create a list with the names of the people who listened to more than one song. Print the List. <br>"
   ]
  },
  {
   "cell_type": "code",
   "execution_count": 25,
   "metadata": {},
   "outputs": [],
   "source": [
    "songs = {\n",
    "    \"4589\": \"Mr. Blue Sky, Calling America, Twilight, Night in the City\",\n",
    "    \"7312\": \"Strange Magic, Sweet Talkin' Woman, Turn to Stone\",\n",
    "    \"9641\": \"Confusion, Last Train to London, All Over the World, Hold On Tight\",\n",
    "    \"2853\": \"Can't Get It Out of My Head, Showdown, Twilight\",\n",
    "    \"6704\": \"Ticket to the Moon, Here Is the News, Twilight, Secret Messages, Four Little Diamonds\"\n",
    "}"
   ]
  },
  {
   "cell_type": "code",
   "execution_count": 26,
   "metadata": {},
   "outputs": [
    {
     "name": "stdout",
     "output_type": "stream",
     "text": [
      "List of all the users who listened to more than one song:\n",
      "['Eve', 'Diana', 'Alice', 'Charlie', 'Bob']\n"
     ]
    }
   ],
   "source": [
    "users = {\n",
    "    \"4589\": \"Eve\",\n",
    "    \"7312\": \"Diana\",\n",
    "    \"9641\": \"Alice\",\n",
    "    \"2853\": \"Charlie\",\n",
    "    \"6704\": \"Bob\"\n",
    "}\n",
    "\n",
    "# create variable to hold the users who've listened to multiple songs\n",
    "multi_listeners = []\n",
    "for key in users.keys(): # grab the keys from users to use in the songs dict\n",
    "    if key in songs: # in case the user wasn't listed in the songs dict\n",
    "        users_songs_str = songs[key]  # grab the string representing the list of songs\n",
    "        users_songs_list = users_songs_str.split(\",\") # split the string by \",\" to get the seperate songs\n",
    "        if len(users_songs_list) > 1: # if there is more than 1 song, add them to the multi_listeners list\n",
    "            multi_listeners.append(users[key]) # save their name and not their ID number\n",
    "\n",
    "print(\"List of all the users who listened to more than one song:\")\n",
    "print(multi_listeners)\n",
    "\n"
   ]
  },
  {
   "cell_type": "markdown",
   "metadata": {},
   "source": [
    "**7.1** What is the name of the user who listened to the most songs?\n",
    "\n",
    "*Tip: You will want to check the methods associated with string manipulation. See the link: <br>\n",
    "https://python-reference.readthedocs.io/en/latest/docs/unicode/index.html*"
   ]
  },
  {
   "cell_type": "code",
   "execution_count": 28,
   "metadata": {},
   "outputs": [
    {
     "name": "stdout",
     "output_type": "stream",
     "text": [
      "The user Bob listened to the most songs : 5 songs.\n"
     ]
    }
   ],
   "source": [
    "max_listened_to_count = 0 # will hold the count to be beat by other users\n",
    "max_listened_to_user = \"\" # will hold the name of the user who holds the max song count in that iteration\n",
    "for key in users.keys(): # loop through the user IDs\n",
    "    if key in songs: # if the user exists in the song list\n",
    "        users_songs_str = songs[key] # grab the string representing the whole song list\n",
    "        users_songs_list = users_songs_str.split(\",\") # split the songs by comma\n",
    "        if len(users_songs_list) > max_listened_to_count: # if the length of the songs listened to is > than the one in my holding variables, replace the value of the holding variables\n",
    "            max_listened_to_count = len(users_songs_list)\n",
    "            max_listened_to_user = users[key] # replace the name as well\n",
    "\n",
    "print(\"The user \" + max_listened_to_user + \" listened to the most songs : \" + str(max_listened_to_count) + \" songs.\")"
   ]
  },
  {
   "cell_type": "markdown",
   "metadata": {},
   "source": [
    "**7.2** What is the name of the most popular song?"
   ]
  },
  {
   "cell_type": "code",
   "execution_count": 30,
   "metadata": {},
   "outputs": [
    {
     "name": "stdout",
     "output_type": "stream",
     "text": [
      "This/These are the song(s) that was/were listened to the most:\n",
      "['Twilight']\n"
     ]
    }
   ],
   "source": [
    "# grab every song to compile into a single list in an easily iterable way\n",
    "list_of_songs = []\n",
    "for user_account in songs.keys():\n",
    "    songs_list = songs[user_account].split(\",\")\n",
    "    list_of_songs += songs_list\n",
    "\n",
    "list_of_songs = map(lambda x : x.strip(), list_of_songs) # remove any leading and trailing white space\n",
    "set_of_strings = set(list_of_songs) # remove duplicates\n",
    "songs_dict = dict.fromkeys(set_of_strings, 0) # create a dictionary and initialize the values with 0. The values will represent the amount of times the song was listened to\n",
    "\n",
    "# run through the users listened to songs and add a point for each song come across\n",
    "for user_account in songs.keys():\n",
    "    songs_list = songs[user_account].split(\",\")\n",
    "    for song in songs_list:\n",
    "        song = song.strip() # strip the white space from the song to make sure the match is correct\n",
    "        if song in set_of_strings: # use the set since its basically the keys of the dict\n",
    "            songs_dict[song] += 1\n",
    "\n",
    "max_value = max(songs_dict.values()) # find the max value from the list of values in the dictionary\n",
    "\n",
    "max_listens = []\n",
    "for song in songs_dict.keys(): # loop thru the dict to find the key that matches the max value found previously (there could be multiple so I have it try to add any song with a matching max value)\n",
    "    if songs_dict[song] == max_value:\n",
    "        max_listens.append(song)\n",
    "\n",
    "print(\"This/These are the song(s) that was/were listened to the most:\")\n",
    "print(max_listens)"
   ]
  },
  {
   "cell_type": "markdown",
   "metadata": {},
   "source": [
    "# <span style=\"color:brown\"> Part 2 -  Data loading and analysis  </span>\n",
    "\n",
    "## Exercise I - Alice what do you have to say?\n",
    "\n",
    "**8**: Load the Alice text file into a variable called Alice. <br>\n",
    "\n",
    "*Note: Use a relative filepath in relation to the location of your notebook.*"
   ]
  },
  {
   "cell_type": "code",
   "execution_count": 32,
   "metadata": {},
   "outputs": [],
   "source": [
    "Alice = open(\"alice.txt\", \"r\")\n",
    "read = Alice.readlines()"
   ]
  },
  {
   "cell_type": "markdown",
   "metadata": {},
   "source": [
    "**9**: Create a list in which each element is a word from the file *Alice*. Store that list in a variable called *wAlice*. <br>\n",
    "\n",
    "*Note: You will need to do some text parsing here. In particular to split the sentences into words. It is also a good practice to normalize words so that words \"Hello\" and \"hello\" become identical, by making all letters lower case. <br>*\n",
    "\n",
    "*Tip: check the following links for a discussion on regular expressions. Also consult the methods available for string manipulation.*\n",
    "\n",
    "https://docs.python.org/3/library/re.html\n",
    "\n",
    "https://stackoverflow.com/questions/1276764/stripping-everything-but-alphanumeric-chars-from-a-string-in-python"
   ]
  },
  {
   "cell_type": "code",
   "execution_count": 34,
   "metadata": {},
   "outputs": [
    {
     "name": "stdout",
     "output_type": "stream",
     "text": [
      "['alice', 'was', 'beginning', 'to', 'get', 'very', 'tired', 'of', 'sitting', 'by', 'her', 'sister', 'on', 'the', 'bank', 'and', 'of', 'having', 'nothing', 'to', 'do', 'once', 'or', 'twice', 'she', 'had', 'peeped', 'into', 'the', 'book', 'her', 'sister', 'was', 'reading', 'but', 'it', 'had', 'no', 'pictures', 'or', 'conversations', 'in', 'it', 'and', 'what', 'is', 'the', 'use', 'of', 'a', 'book', 'thought', 'alice', 'without', 'pictures', 'or', 'conversation']\n"
     ]
    }
   ],
   "source": [
    "wAlice = []\n",
    "\n",
    "for line in read:\n",
    "    # Generates a list with the multiple word from the original Alice list, but every word is lowercase (lower method) and by using the split method \n",
    "    # (with 1 blank space because every word is separated from the other by 1 blank space) in that line string we get a list of words   \n",
    "    splited_list = line.lower().split(\" \")\n",
    "    # Iterate over each word in the splited_list so that we can remove non-alphanumeric chars\n",
    "    for word in splited_list:\n",
    "        #The filter() method selected one item at a time from the string iterable, applied the str.isalnum function that we passed as the first argument\n",
    "        # and selected an item from the string iterable based on the output of the str.isalnum function. If the str.isalnum returns True, the current \n",
    "        # item will be selected by the filter() method; otherwise, it will not.\n",
    "        clean_str = ''.join(filter(str.isalnum, word))\n",
    "        # Append the clean str to the wAlice list\n",
    "        wAlice.append(clean_str)\n",
    "\n",
    "print(wAlice)        "
   ]
  },
  {
   "cell_type": "markdown",
   "metadata": {},
   "source": [
    "##### Using the list *wAlice* answer the following questions:<br>\n",
    "**10**: How many words are in the file Alice.txt? <br>"
   ]
  },
  {
   "cell_type": "code",
   "execution_count": 36,
   "metadata": {},
   "outputs": [
    {
     "name": "stdout",
     "output_type": "stream",
     "text": [
      "57\n"
     ]
    }
   ],
   "source": [
    "# As the list is already splited in words , we just have to use the len method as it returns the number of elements in the list\n",
    "print(len(wAlice))"
   ]
  },
  {
   "cell_type": "markdown",
   "metadata": {},
   "source": [
    "**11**: What is the longest and smallest word in the text file?\n",
    "\n",
    "*Note: Length in this case is measured in terms of the number of characters.*"
   ]
  },
  {
   "cell_type": "code",
   "execution_count": 38,
   "metadata": {},
   "outputs": [
    {
     "name": "stdout",
     "output_type": "stream",
     "text": [
      "Longest word: conversations\n",
      "Smallest word: a\n"
     ]
    }
   ],
   "source": [
    "# Set max_word initially to empty string to be filled by the biggest string later\n",
    "max_word = \"\"\n",
    "# Set min word to the first value and check if it is the smallest (starting with empty string would result with the min word being an empty string) \n",
    "min_word = wAlice[0]\n",
    "# Loop trough the wAlice list \n",
    "for word in wAlice:\n",
    "    # if the length of the current word is bigger than the previous max length then...\n",
    "    if len(word) > len(max_word):\n",
    "        # then replace it with the current length word\n",
    "        max_word = word\n",
    "     # if the length of the current word is smaller than the previous smaller length then...\n",
    "    if len(word) < len(min_word):\n",
    "        # then replace it with the current length word\n",
    "        min_word = word\n",
    "\n",
    "print(\"Longest word: \" + max_word)\n",
    "print(\"Smallest word: \" + min_word)"
   ]
  },
  {
   "cell_type": "markdown",
   "metadata": {},
   "source": [
    "**12**: Delete all the repeated words from *wAlice*. "
   ]
  },
  {
   "cell_type": "code",
   "execution_count": 40,
   "metadata": {},
   "outputs": [],
   "source": [
    "wAlice = set(wAlice) # cast to a set as sets can't hold multiple duplicate values"
   ]
  },
  {
   "cell_type": "markdown",
   "metadata": {},
   "source": [
    "**12.1**:How many different words does the text contain?"
   ]
  },
  {
   "cell_type": "code",
   "execution_count": 42,
   "metadata": {},
   "outputs": [
    {
     "name": "stdout",
     "output_type": "stream",
     "text": [
      "Alice's new length is: 41\n"
     ]
    }
   ],
   "source": [
    "# the instructions didnt mention anything on whether it considers words in different tenses (i.e. 'conversations' versus 'conversation')\n",
    "# as the same or not so they will be considered as different words in this case.\n",
    "print(\"Alice's new length is: \" + str(len(wAlice)))"
   ]
  },
  {
   "cell_type": "markdown",
   "metadata": {},
   "source": [
    "## Exercise II - Of Countries I Love\n",
    "\n",
    "Consider the list countries in the cell below. <br>\n",
    "It consists of a list of the 3-digit ISO codes of a set of countries of interest.\n",
    "\n",
    "**Note**: If you find the below list of tuples to be erroneous, correct it accordingly and comment on your correction."
   ]
  },
  {
   "cell_type": "code",
   "execution_count": 44,
   "metadata": {},
   "outputs": [],
   "source": [
    "countries = [\n",
    "\n",
    "('PRT','Portugal','Europe'),\n",
    "('ISL','Israel','Asia'),\n",
    "('COL','Colombia','South America'),\n",
    "('NEV','Nevada','North America'),\n",
    "('JPN','Japan','Asia'),\n",
    "('RUS','Russia','well... which part?'), \n",
    "('DEN','Denmark','Europe'),\n",
    "('NOR','Norway','Europe')\n",
    "]"
   ]
  },
  {
   "cell_type": "markdown",
   "metadata": {},
   "source": [
    "**Now consider the file *cdata.csv* that you should download.** <br>\n",
    "\n",
    "The file contains several information about countries, and is organized as follows:\n",
    "1. Column 1 is the 3-digit **ISO Code**\n",
    "2. Column 2 is the **Full Name** of the country\n",
    "3. Column 3 is the **Continent** of the country\n",
    "4. Column 4 is the **Population Size** in 2010\n",
    "5. Column 5 is the **GDP per capita** in 2010"
   ]
  },
  {
   "cell_type": "markdown",
   "metadata": {},
   "source": [
    "**13**: Using the Library CSV from Python STL, load the file *cdata.csv* into an object called *raw*. "
   ]
  },
  {
   "cell_type": "code",
   "execution_count": 47,
   "metadata": {},
   "outputs": [],
   "source": [
    "import csv # import the library\n",
    "\n",
    "raw = [] # create variable in scope i would like to use it in\n",
    "with open('cdata.csv', 'r') as csvfile: # read the csv file (assign as \"csvfile\")\n",
    "    data_reader = csv.reader(csvfile, delimiter='\\n') # make the reader preserve the rows by delimiting at \\n\n",
    "    for row in data_reader: # loop through each row (data_reader stores the entire row in 1 string) in the text\n",
    "        raw.append(row[0].split(\",\")) # for some reason each is within its own list so grab the first element and split the row by comma (comma delimited) and add to raw\n"
   ]
  },
  {
   "cell_type": "markdown",
   "metadata": {},
   "source": [
    "**13.1**: Create a dictionary called *cData* in which the key corresponds to the 3-digit ISO Code and the value is a tuple with the information contained in the 2nd to the 5th of column of the cdata file."
   ]
  },
  {
   "cell_type": "code",
   "execution_count": 49,
   "metadata": {},
   "outputs": [],
   "source": [
    "header = row[0] # save the headers for later use\n",
    "raw = raw[1:] # remove headers from the rest of the data\n",
    "cData = {} # create variable for holding the dict\n",
    "for row in raw: # for each row in my raw data\n",
    "    cData[row[0]] = row[1:] # create a new key in the dict (using the iso code) and assign the variable to the rest of the row (excluding the iso code which is index 0)\n"
   ]
  },
  {
   "cell_type": "code",
   "execution_count": 50,
   "metadata": {},
   "outputs": [
    {
     "name": "stdout",
     "output_type": "stream",
     "text": [
      "Countries to be fixed: \n",
      "['COL', 'Colombia', 'South America']\n",
      "['NEV', 'Nevada', 'North America']\n",
      "['DEN', 'Denmark', 'Europe']\n",
      "------------\n",
      "Final countries list to be used\n",
      "['PRT', 'Portugal', 'Europe']\n",
      "['ISL', 'Iceland', 'Europe']\n",
      "['JPN', 'Japan', 'Asia']\n",
      "['RUS', 'Russia', 'Asia']\n",
      "['NOR', 'Norway', 'Europe']\n",
      "['DNK', 'Denmark', 'Europe']\n",
      "['USA', 'United States', 'NorthAmerica']\n"
     ]
    }
   ],
   "source": [
    "# clean the countries list to be better queried and analyzed together with cData\n",
    "\n",
    "# collecting seperated columns to make comparing against the countries list/tuples easier\n",
    "list_of_continents = []\n",
    "list_of_countries = []\n",
    "for nation in cData:\n",
    "    list_of_continents.append(cData[nation][1]) # collect all the possible continents in the cData dataset\n",
    "    list_of_countries.append(cData[nation][0]) # collect all the possible country names in the cData dataset\n",
    "set_of_continents = set(list_of_continents) # make a set of all the unique continents to compare against the countries list\n",
    "\n",
    "# loop through the countries and save any country that exists in the cData set, but discard any that dont\n",
    "new_countries = []\n",
    "to_be_fixed_countries = []\n",
    "\n",
    "for nation in countries:\n",
    "    nation = list(nation)\n",
    "    iso = nation[0].lower()\n",
    "    # if the country iso or the name isnt in the list, place in to-be-fixed list and skip to next iteration\n",
    "    if iso not in cData.keys() or nation[1] not in list_of_countries:\n",
    "        to_be_fixed_countries.append(nation)\n",
    "        continue\n",
    "    # if the country iso exists and the continent isnt listed in the set of cData continents, replace with the cData value for that iso\n",
    "    if iso in cData.keys() and nation[2] not in set_of_continents: # check if \n",
    "        # replace the continent in countries with the one in cData\n",
    "        nation[2] = cData[iso][1]\n",
    "    if iso in cData.keys() and nation[1].lower() != cData[iso][0]:\n",
    "        nation = [iso.upper(), cData[iso][0], cData[iso][1]]\n",
    "    \n",
    "    new_countries.append(nation) # add the nation to the new_countries list\n",
    "\n",
    "# print the discarded countries to see if any can be salvaged manually\n",
    "print(\"Countries to be fixed: \")\n",
    "for nation in to_be_fixed_countries:\n",
    "    print(nation)\n",
    "\n",
    "print(\"------------\") # add a stylized line break for readability\n",
    "\n",
    "# Denmark was flagged as the iso mismatched from the  cData, fixing manually\n",
    "new_countries.append([\"DNK\", \"Denmark\", \"Europe\"])\n",
    "\n",
    "# Nevada can be transformed into USA since USA is in the cData set and Nevada is a state in the USA - adding manually\n",
    "new_countries.append([\"USA\", \"United States\", \"NorthAmerica\"])\n",
    "\n",
    "countries = new_countries # set countries to the fixed\n",
    "\n",
    "# print(new_countries)\n",
    "# print(\"-------------\")\n",
    "print(\"Final countries list to be used\")\n",
    "for nation in countries:\n",
    "    print(nation)"
   ]
  },
  {
   "cell_type": "markdown",
   "metadata": {},
   "source": [
    "**14**: Using *cData*, identify what is the most common Continent among the nations in the list *countries*."
   ]
  },
  {
   "cell_type": "code",
   "execution_count": 52,
   "metadata": {},
   "outputs": [
    {
     "name": "stdout",
     "output_type": "stream",
     "text": [
      "List of isos to check from countries list in cData: {'NOR', 'JPN', 'ISL', 'PRT', 'USA', 'DNK', 'RUS'}\n",
      "\n",
      "This/These are the continent(s) that occured the most (4 times): ['Europe']\n"
     ]
    }
   ],
   "source": [
    "list_of_iso = [] # creating a list of isos from the countries list\n",
    "for nation in countries:  # loop through the countries to get the isos\n",
    "    list_of_iso.append(nation[0]) # collect all the possible isos in the countries dataset\n",
    "set_of_iso = set(list_of_iso) # make a set of all the unique isos to use as keys for the cData to grap the values for those countries\n",
    "\n",
    "print(\"List of isos to check from countries list in cData: \" + str(set_of_iso) + \"\\n\")\n",
    "\n",
    "new_list_of_countries_from_cData = [] # create a new temp list for holding the cData versions of the countries list\n",
    "for iso in set_of_iso: # loop through newly gathered isos\n",
    "    new_list_of_countries_from_cData.append(cData[iso.lower()]) # save the data from cData into the new temp countries list\n",
    "\n",
    "list_of_continents = [] # creating another temp list for having a unique set of continent occurance - will be used as keys for upcoming dictionary\n",
    "for nation in countries: \n",
    "    list_of_continents.append(nation[2]) # collect all the possible continents in the continents dataset\n",
    "set_of_continents = set(list_of_continents) # make a set of all the unique continents to compare against the new_list_of_countries_from_cData list\n",
    "\n",
    "continents = dict.fromkeys(set_of_continents, 0) # use set of continents just generated as keys for dict and set all values to 0\n",
    "for row in new_list_of_countries_from_cData: # loop through the new_list_of_countries_from_cData and count how many continent occurences we find\n",
    "    continent = row[1] # save continent in easily accessed variable / readable\n",
    "    if continent in set_of_continents: # if the continent string is among the continents in the countries list\n",
    "        continents[continent] += 1   # add a point for that continent\n",
    "\n",
    "\n",
    "max_value = max(continents.values()) # find the max value from the list of values in the dictionary\n",
    "max_continents = []\n",
    "for continent in continents.keys(): # loop thru the dict to find the key that matches the max value found previously (there could be multiple so I have it try to add any song with a matching max value)\n",
    "    if continents[continent] == max_value:\n",
    "        max_continents.append(continent)\n",
    "\n",
    "print(\"This/These are the continent(s) that occured the most (\" + str(max_value) + \" times): \" + str(max_continents))\n",
    "# print(max_continents)"
   ]
  },
  {
   "cell_type": "markdown",
   "metadata": {},
   "source": [
    "**15**: Using *cData*, identify what is the the most populated nation in the list *countries*."
   ]
  },
  {
   "cell_type": "code",
   "execution_count": 54,
   "metadata": {},
   "outputs": [
    {
     "name": "stdout",
     "output_type": "stream",
     "text": [
      "The country with the highest population is United States with a population of 308.6413879394531 mil.\n"
     ]
    }
   ],
   "source": [
    "max_population = 0\n",
    "max_country = \"\"\n",
    "for nation in countries: # loop through the nations in the 'countries' list\n",
    "    iso = nation[0].lower() # index 0 = the iso code (convert to lower case to match in the cData)\n",
    "    if iso in cData: # if the iso code is found, then figure out which is max\n",
    "        if max_population < float(cData[iso][2]): # index 2 = population\n",
    "            max_population = float(cData[iso][2])\n",
    "            max_country = cData[iso][0] # index 0 is the country name for cData\n",
    "\n",
    "print(\"The country with the highest population is \" + max_country + \" with a population of \" + str(max_population) + \" mil.\")"
   ]
  },
  {
   "cell_type": "markdown",
   "metadata": {},
   "source": [
    "**16**: Compare the average GDP per capita of the nations in the list *countries* with the average GDP of the countries in cdata file. What can you conclude?"
   ]
  },
  {
   "cell_type": "code",
   "execution_count": 56,
   "metadata": {},
   "outputs": [
    {
     "name": "stdout",
     "output_type": "stream",
     "text": [
      "Average in Countries List: 41149.50328468379\n",
      "Average in cData dict: 18014.65454394603\n"
     ]
    }
   ],
   "source": [
    "countries_gdp = 0\n",
    "total_countries_found = 0\n",
    "for nation in countries: # loop through 'countries' list to accumulate the gdp for those within the cData list\n",
    "    iso = nation[0].lower() # index 0 = the iso code\n",
    "    if iso in cData:\n",
    "        countries_gdp += float(cData[iso][3]) # index 3 = gdp\n",
    "        total_countries_found += 1 # keep track of total countries found to use to compute average\n",
    "\n",
    "cData_gdp = 0\n",
    "for iso in cData:\n",
    "    cData_gdp += float(cData[iso][3]) # index 3 = gdp\n",
    "\n",
    "print(\"Average in Countries List: \" + str(countries_gdp / total_countries_found))\n",
    "print(\"Average in cData dict: \" + str(cData_gdp / len(cData)))"
   ]
  },
  {
   "cell_type": "code",
   "execution_count": 57,
   "metadata": {},
   "outputs": [
    {
     "name": "stdout",
     "output_type": "stream",
     "text": [
      "The average GDP in the 'countries' list is much higher than the average GDP in the 'cData' file despite cData having more rows. Thus the\n",
      "      countries chosen in the 'countries' list have a higher GDP.\n",
      "So as the countries selected in 'countries' list are fewer than all the cData ones, and probably have a higher GDP than the others, the mean will\n",
      "       be higher\n"
     ]
    }
   ],
   "source": [
    "print(\"\"\"The average GDP in the 'countries' list is much higher than the average GDP in the 'cData' file despite cData having more rows. Thus the\n",
    "      countries chosen in the 'countries' list have a higher GDP.\"\"\")\n",
    "\n",
    "print(\"\"\"So as the countries selected in 'countries' list are fewer than all the cData ones, and probably have a higher GDP than the others, the mean will\n",
    "       be higher\"\"\") "
   ]
  },
  {
   "cell_type": "markdown",
   "metadata": {},
   "source": [
    "# <span style=\"color:brown\"> Part 3 - Functions hurt nobody </span>\n",
    "\n",
    "## Exercise I - I hate math\n",
    "\n",
    "##### Consider the following equation:\n",
    "\n",
    "\\begin{equation}\n",
    "    y = 6x^2 + 3x + 2 + cos(x)\n",
    "\\end{equation}\n",
    "\n",
    "**17**: Write a function called *f* that takes one argument, x, and returns y according to the equation above. *Note: You should use the module math to solve this exercise.*"
   ]
  },
  {
   "cell_type": "code",
   "execution_count": 59,
   "metadata": {},
   "outputs": [],
   "source": [
    "import math # import library\n",
    "\n",
    "# variables are defined in the traditional way that math formulas are denoted with \"a\" being the first expression, \"b\" being the second, and etc\n",
    "\n",
    "# define function with one argument (x)\n",
    "def f(x): \n",
    "    a = 6 * (x**2) # 6x^2\n",
    "    b = 3 * x # 3x\n",
    "    c = 2 # constant s\n",
    "    cosine = math.cos(x) # the cosine of x\n",
    "    return a + b + c + cosine # return the result of the formula \"6x^2 + 3x + 2 + cos(x)\""
   ]
  },
  {
   "cell_type": "markdown",
   "metadata": {},
   "source": [
    "**17.1**: Call the function for x = 2 and print the answer."
   ]
  },
  {
   "cell_type": "code",
   "execution_count": 61,
   "metadata": {},
   "outputs": [
    {
     "name": "stdout",
     "output_type": "stream",
     "text": [
      "31.583853163452858\n"
     ]
    }
   ],
   "source": [
    "print(f(2))"
   ]
  },
  {
   "cell_type": "markdown",
   "metadata": {},
   "source": [
    "##### Consider the following sequence of numbers:\n",
    "\n",
    "\\begin{equation}\n",
    "    x_0 = 0;  \\\\\n",
    "    x_{n} = x_{n-1} - n; ~~~ \\textit{ if} ~~~ x_{n-1}-n > 0 ~~~ \\textit{ and is not already in the sequence}\\\\\n",
    "    x_{n} = x_{n-1} + n; ~~~ \\textit{ otherwise} ~~~ ~~~ ~~~ ~~~ ~~ ~~~ ~~~ ~~~ ~~~ ~~~ ~ ~~~ ~~~ ~~~ ~~~ ~~~ ~~~ ~ ~~~ ~~~ ~~~~ ~~~ ~~~ ~~~ ~ \\\\\n",
    "\\end{equation}\n",
    "\n",
    "**17.2**: Write a function that returns the nth digit of the above defined sequence. <br>\n",
    "\n",
    "*Note: the above sequence is also known as the Recamán's sequence, and it was invented by Bernardo Recamán Santos (Bogotá, Colombia)*"
   ]
  },
  {
   "cell_type": "code",
   "execution_count": 63,
   "metadata": {},
   "outputs": [],
   "source": [
    "def Recamán(max_num): # didnt know accents could be accepted in function names\n",
    "    result = [0] # set x0 = to 0 initially\n",
    "    for n in range(1,max_num): # loop until specified final iteration, start at 1 since (n-1) would give unwanted results at index 0\n",
    "        y = result[n-1] - n # compute x[n-1] - n and set as 'y'\n",
    "        if y > 0 and y not in result: # if y is not negative and isnt in the results list, set it as x (to be added later)\n",
    "            x = y\n",
    "        else: # if y is either negative of in the list, add n instead of subtracting it\n",
    "            x = result[n-1] + n\n",
    "        result.append(x)\n",
    "\n",
    "    return result[-1]"
   ]
  },
  {
   "cell_type": "markdown",
   "metadata": {},
   "source": [
    "**17.3** Write a function named isPrime that takes an integer as input and outputs True if the number is prime and False if the number if not prime. "
   ]
  },
  {
   "cell_type": "code",
   "execution_count": 65,
   "metadata": {},
   "outputs": [],
   "source": [
    "# A prime number (n) is bigger than 1 and it's divisible only by itself (n) and by 1.\n",
    "\n",
    "# One simple method but not too efficient is to check whether a number is prime or not is to check if the number (n) is multiple of some number\n",
    "# between 2 and the sqr(n).\n",
    "\n",
    "def isPrime(n):\n",
    "    # Number 1 is not prime so if n equals 1 we return False\n",
    "    if n == 1:\n",
    "        return False\n",
    "    else:\n",
    "        # Condition to check the divisibility of the integer n by the numbers that allows him to be a prime or not\n",
    "        for i in range(2,int(math.sqrt(n)+1)):\n",
    "            if n % i == 0: # If n is divisible by any number within the range (2,sqr(n+1)) then the number is not Prime and therefore the function returns False\n",
    "                return False\n",
    "        return True # This is outside the loop and only reached if no divisors were found"
   ]
  },
  {
   "cell_type": "markdown",
   "metadata": {},
   "source": [
    "**17.4** Test your function against some examples to show that it works as expected."
   ]
  },
  {
   "cell_type": "code",
   "execution_count": 67,
   "metadata": {},
   "outputs": [
    {
     "name": "stdout",
     "output_type": "stream",
     "text": [
      "Recamán:\n",
      "Recamán Sequence 5: 2\n",
      "Recamán Sequence 9: 12\n",
      "---------------\n",
      "Is Prime:\n",
      "Number #2 is Prime? True\n",
      "Number #3 is Prime? True\n",
      "Number #4 is Prime? False\n",
      "Number #291 is Prime? False\n",
      "Number #293 is Prime? True\n"
     ]
    }
   ],
   "source": [
    "print(\"Recamán:\")\n",
    "print(\"Recamán Sequence 5: \" + str(Recamán(5)))\n",
    "print(\"Recamán Sequence 9: \" + str(Recamán(9)))\n",
    "print(\"---------------\")\n",
    "print(\"Is Prime:\")\n",
    "print(\"Number #2 is Prime? \" + str(isPrime(2))) # prime\n",
    "print(\"Number #3 is Prime? \" + str(isPrime(3))) # prime\n",
    "print(\"Number #4 is Prime? \" + str(isPrime(4))) # not prime\n",
    "print(\"Number #291 is Prime? \" + str(isPrime(291))) # not prime\n",
    "print(\"Number #293 is Prime? \" + str(isPrime(293))) # prime"
   ]
  },
  {
   "cell_type": "markdown",
   "metadata": {},
   "source": [
    "## Exercise II - Monty Hall Problem\n"
   ]
  },
  {
   "cell_type": "markdown",
   "metadata": {},
   "source": [
    "**18**: The Monty Hall Problem is a probability puzzle loosely based on the American television game show \"Let's Make a Deal\" and named after its original host, Monty Hall. The puzzle can be stated as follows\n",
    "\n",
    "> Suppose you're on a game show, and you're given the choice of three doors: Behind one door is a car; behind the others, goats. You pick a door, say No. 1, and the host, who knows what's behind the doors, opens another door, say No. 3, which has a goat. He then says to you, \"Do you want to pick door No. 2?\" Is it to your advantage to switch your choice? <br>\n",
    "+info: https://en.wikipedia.org/wiki/Monty_Hall_problem\n",
    "\n",
    "While intuitively your guess might be that the chances of winning the car is 1/3 independently of the choice to switch doors or not. Howewver, the odds of winning if you switch doors are 2/3 and greater than if you decide not to switch. While there are theoretical solutions to this problem that allow us to estimate the correct odds of winning in each scenario -- switching or not doors -- an alternative way to proof such outcome is through computer simulations. That is the goal of this exercise, to write the necessary components to simulate the Monty Hall problem and validate the theoretical results through simulations.\n",
    "\n",
    "In this exercise, start by implementing a function that simulates one instance of the Monty Hall problem. \n",
    "In that sense, write a function called MontyHall that accepts **one argument**:\n",
    "- A boolean (True/False, or 1/0) that specifies if the player switches doors or not (after the host has opened his door, which contains a goat).\n",
    "The function should return True if the player wins the car or False if not.\n",
    "\n",
    "Naturally, for the function to reproduce the contest it needs to consider and perform some actions, such as:\n",
    "- Set up the game, that is, create the necessary variables to store the information about three doors and what they have behind, as well as an indicator to track the choice of the player.\n",
    "- Given the initial choice of the player, simulate the opening of one of the two remaining doors that contains a goat.\n",
    "- Given the last two doors left, simulate if the player wants to switch or not his/her choice given their strategy (defined by the input boolean argument of the function).\n",
    "- Output the result, if the contestant correctly guesses which door hides the car or if not.\n",
    "\n",
    "The function MontyHall should simulate one instance of the contest given the choice of the player (to switch or not).\n",
    "\n",
    "**The goal is to understand, statistically, which action leads to the highest probability of winning.** <br>\n",
    "*Note: You should use the library random to solve this exercise.*"
   ]
  },
  {
   "cell_type": "code",
   "execution_count": 70,
   "metadata": {},
   "outputs": [
    {
     "data": {
      "text/plain": [
       "True"
      ]
     },
     "execution_count": 70,
     "metadata": {},
     "output_type": "execute_result"
    }
   ],
   "source": [
    "# Step 1 : Variables to store the information about the 3 doors and what door has behind \n",
    "# Step 2: Indicator to track the choice of the player\n",
    "\n",
    "import random \n",
    "\n",
    "def MontyHall(Boolean):\n",
    "    player_choice = random.randint(0,2) # First choice of the door that the player makes\n",
    "\n",
    "\n",
    "    # Index 0 -> represents door 1 , index 1 -> represents door 2 , index 2 -> represents door 3\n",
    "    # Initialize the list with value so that we can later replace them \n",
    "    doors = [0,1,2] \n",
    "    # Creates a random index to store the value \"Car\"\n",
    "    random_car_index = random.randint(0,2)\n",
    "\n",
    "    # Assign Car to a random position in the list \n",
    "    doors[random_car_index] = \"Car\"\n",
    "    \n",
    "\n",
    "    # Fills in the rest of the values in the list \n",
    "    \n",
    "    for i in range(0,3):\n",
    "        if doors[i] == \"Car\":\n",
    "            continue\n",
    "        else:\n",
    "            doors[i] = \"Goat\"\n",
    "\n",
    "\n",
    "    host_choices_list = [] # The host can choose 2 positions (depending obviously on the position where \"Car\" is, so we have to make an empty list to make that assumption)\n",
    "\n",
    "    # Loop through the indexes of doors list to get the position where host could chose a goat\n",
    "    for i in range(0,len(doors)):\n",
    "        # We don't want the position where car is , because the host will not reveal the car thereby we just pick the positions where the goats are\n",
    "        if doors[i] != \"Car\":\n",
    "            # Just append one of the goats indexes\n",
    "            host_choices_list.append(i)\n",
    "        else:\n",
    "            # So say if \"car\" is in the first position then just skip that iteration and go through the rest of the list\n",
    "            continue\n",
    "\n",
    "    # Randomly select the choice of the host, which is conditional on the position where car is -> This part simulates this step \"Given the initial choice of the player, simulate the opening of one of the two remaining doors that contains a goat.\"\n",
    "    host_choice = random.choice(host_choices_list)\n",
    "\n",
    "    # Variable that defines the player strategy defined in the input(Boolean) (True if switch , False if staying) , just to clarify it we attributed the input Boolean to a var. \n",
    "    switch_doors = Boolean \n",
    "\n",
    "    if switch_doors == True:\n",
    "        if player_choice == random_car_index:\n",
    "            return False # Player initially chose the car, but switched, so they lose\n",
    "        else:\n",
    "            return True # Player initially chose a goat, switched, and now wins the car\n",
    "    else:\n",
    "        # This branch of the if else statement, models the decision of not switching doors which can lead in the fact of winning (if player_choice == random_car_index) or losing if  player_choice != random_car_index)\n",
    "        if player_choice == random_car_index:\n",
    "            return True\n",
    "        else:\n",
    "            return False\n",
    "      \n",
    "\n",
    "MontyHall(True)"
   ]
  },
  {
   "cell_type": "markdown",
   "metadata": {},
   "source": [
    "**18.1** Now that you have a function that simulates an instance of the Monty Hall problem, implement an experiment where you repeat many times (thousands of times) for each of the two possible scenarios: player switching the door, and player not switcing the door. Keep track of the results and estimate the frequencies of wins for each scenario and discuss if the results are inline with the theoretical odds."
   ]
  },
  {
   "cell_type": "code",
   "execution_count": 72,
   "metadata": {},
   "outputs": [
    {
     "name": "stdout",
     "output_type": "stream",
     "text": [
      "The probability of winning a car in MontyHall contest switching doors is 66.14 %\n",
      "The probability of winning a car in MontyHall contest not switching doors is 34.14 %\n",
      "\n",
      " The results match what we would expect , as we expected that switching doors would result in a bigger probability of winning than not \n",
      "        switching, and the thereotical odds of switching are 2/3 thereby our simulation with 10000 trials match that result.\n"
     ]
    }
   ],
   "source": [
    "MontyHall_Switching = []\n",
    "MontyHall_Staying = [] \n",
    "\n",
    "# Loop through to make 10000 trials\n",
    "for i in range(10000):\n",
    "    # Scenario where player switches\n",
    "    MontyHall_Switching.append(MontyHall(True))  \n",
    "    # Scenario where player doesn't switch\n",
    "    MontyHall_Staying.append(MontyHall(False))    \n",
    "\n",
    "# Determining probabilities of winning with a switch and without a switch and divided by the nr of trials (10000)\n",
    "\n",
    "Prob_winning_switching = (MontyHall_Switching.count(True) / 10000) * 100\n",
    "\n",
    "Prob_winning_staying = (MontyHall_Staying.count(True) / 10000) * 100\n",
    "\n",
    "print(f\"The probability of winning a car in MontyHall contest switching doors is {Prob_winning_switching} %\")\n",
    "\n",
    "print(f\"The probability of winning a car in MontyHall contest not switching doors is {Prob_winning_staying} %\")\n",
    "\n",
    "print(\"\"\"\\n The results match what we would expect , as we expected that switching doors would result in a bigger probability of winning than not \n",
    "        switching, and the thereotical odds of switching are 2/3 thereby our simulation with 10000 trials match that result.\"\"\")\n"
   ]
  },
  {
   "cell_type": "markdown",
   "metadata": {},
   "source": [
    "## Exercise III\n",
    "\n",
    "**19**: Consider the list *A*, declared below. <br>\n",
    "Use the function map() to change the values of A by adding 1 to each value if it is even and subtracting 1 from it otherwise.\n",
    "\n",
    "**Note**: Carefully consider the values of list A and adapt your code accordingly to deal with number that are represented as strings."
   ]
  },
  {
   "cell_type": "code",
   "execution_count": 74,
   "metadata": {},
   "outputs": [],
   "source": [
    "A = [460,3347,3044,490,699,\"1258\",1804,973,2223,3416,\"2879\",1058,2915,2422,351,\"1543\",1020,208,643,\"795\",3337,\"2585\",471,2623,1077]"
   ]
  },
  {
   "cell_type": "code",
   "execution_count": 75,
   "metadata": {},
   "outputs": [
    {
     "name": "stdout",
     "output_type": "stream",
     "text": [
      "[461, 3346, 3045, 491, 698, 1259, 1805, 972, 2222, 3417, 2878, 1059, 2914, 2423, 350, 1542, 1021, 209, 642, 794, 3336, 2584, 470, 2622, 1076]\n"
     ]
    }
   ],
   "source": [
    "# The inner map converts into integers every element of the iterable A\n",
    "# After it, that list is the iterable for the outer map (the one that has the conditions of even or not) \n",
    "# So then, it just sees whether x is even (if so add 1) , and if not subtract 1\n",
    "\n",
    "A_ch = list(map(lambda x: x + 1 if x % 2 == 0 else x - 1, map(int, A))) \n",
    "\n",
    "print(A_ch)"
   ]
  },
  {
   "cell_type": "markdown",
   "metadata": {},
   "source": [
    "**20**: Create a list B with the same size of A, where each element is True if the associated value in list A is greater than 700, else is False."
   ]
  },
  {
   "cell_type": "code",
   "execution_count": 77,
   "metadata": {},
   "outputs": [
    {
     "name": "stdout",
     "output_type": "stream",
     "text": [
      "[False, True, True, False, False, True, True, True, True, True, True, True, True, True, False, True, True, False, False, True, True, True, False, True, True]\n"
     ]
    }
   ],
   "source": [
    "# creating a new list which will only be filled with Bool values. The Bool values is determined by the x (which is cast to an int)\n",
    "# where if x > 700, it will return a True and fill the corresponding index in the new list with True. If not over 700, then it \n",
    "# will be filled with False.\n",
    "\n",
    "# in this instance, i created a new list where every value is casted to an integer\n",
    "casted_A = list(map(lambda x: int(x), A))\n",
    "\n",
    "B = map(lambda x : True if int(x) > 700 else False, casted_A)\n",
    "print(list(B))"
   ]
  },
  {
   "cell_type": "markdown",
   "metadata": {},
   "source": [
    "**21**: Create a list L that contains the Logarithm of base 10 of each value in A. <br>\n",
    "\n",
    "*Note: You should use the module math to solve this exercise.*"
   ]
  },
  {
   "cell_type": "code",
   "execution_count": 79,
   "metadata": {},
   "outputs": [
    {
     "name": "stdout",
     "output_type": "stream",
     "text": [
      "[2.662757831681574, 3.5246557123577773, 3.4834446480985353, 2.690196080028514, 2.8444771757456815, 3.09968064110925, 3.256236533205923, 2.988112840268352, 3.3469394626989906, 3.5335178620169674, 3.459241664878082, 3.024485667699167, 3.464638559095033, 3.3841741388070337, 2.545307116465824, 3.188365926063148, 3.0086001717619175, 2.3180633349627615, 2.808210972924222, 2.9003671286564705, 3.5233562066547925, 3.412460547429961, 2.673020907128896, 3.4187982905903533, 3.0322157032979815]\n"
     ]
    }
   ],
   "source": [
    "import math \n",
    "\n",
    "# Here we just do a simple application of log10 to each element, our variable x, in the iterable list A_ch \n",
    "L = list(map(lambda x: math.log10(x) , casted_A))\n",
    "\n",
    "print(L)"
   ]
  },
  {
   "cell_type": "markdown",
   "metadata": {},
   "source": [
    "**22**: How many numbers in A are greater than 1000? <br>\n",
    "\n",
    "*Note: You should use the function filter().*"
   ]
  },
  {
   "cell_type": "code",
   "execution_count": 81,
   "metadata": {},
   "outputs": [
    {
     "name": "stdout",
     "output_type": "stream",
     "text": [
      "Total greater than 1000: 16\n"
     ]
    }
   ],
   "source": [
    "# Filter takes 2 arguments, a function (in this case, the lambda function) and an iterable (here, list A_ch). \n",
    "# The function is applied to each element of the iterable, and only the elements that evaluate to True are included in the result\n",
    "big_1K = list(filter(lambda x: x>1000,casted_A))\n",
    "\n",
    "print(\"Total greater than 1000: \" + str(len(list(big_1K))))"
   ]
  },
  {
   "cell_type": "markdown",
   "metadata": {},
   "source": [
    "**23** Use the function isPrime, that you declared in 17.3, to identify which numbers from A are prime. Note that depending on your implementation of isPrime this task can take more or less time. Use filter to achieve this task."
   ]
  },
  {
   "cell_type": "code",
   "execution_count": 83,
   "metadata": {},
   "outputs": [
    {
     "name": "stdout",
     "output_type": "stream",
     "text": [
      "[3347, 2879, 1543, 643]\n"
     ]
    }
   ],
   "source": [
    "# Same as prev. ex (22) , but now the function is isPrime\n",
    "A_prime = list(filter(isPrime,casted_A))\n",
    "\n",
    "print(A_prime)"
   ]
  },
  {
   "cell_type": "markdown",
   "metadata": {},
   "source": [
    "### Congratulations, it is done!"
   ]
  }
 ],
 "metadata": {
  "kernelspec": {
   "display_name": "Python 3 (ipykernel)",
   "language": "python",
   "name": "python3"
  },
  "language_info": {
   "codemirror_mode": {
    "name": "ipython",
    "version": 3
   },
   "file_extension": ".py",
   "mimetype": "text/x-python",
   "name": "python",
   "nbconvert_exporter": "python",
   "pygments_lexer": "ipython3",
   "version": "3.12.4"
  }
 },
 "nbformat": 4,
 "nbformat_minor": 4
}
