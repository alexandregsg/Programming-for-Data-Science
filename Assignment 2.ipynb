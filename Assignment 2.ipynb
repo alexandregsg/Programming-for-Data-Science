{
  "cells": [
    {
      "cell_type": "markdown",
      "metadata": {
        "id": "-tZaNYwhNwGa"
      },
      "source": [
        "# Programming for Data Science 2024\n",
        "## Homework Assigment Two\n",
        "Homework activities aim at testing not only your ability to put into practice the concepts you have learned during the Lectures and Labs, but also your ability to explore the Python documentation as a resource. Above all, it is an opportunity for you to challenge yourself and practice. If you are having difficulties with the assignment reach out for support using moodle's Discussion Forum."
      ]
    },
    {
      "cell_type": "markdown",
      "metadata": {
        "id": "NCMjNowoNwGi"
      },
      "source": [
        "### Description\n",
        "\n",
        "This homework assignment will test your capacity to **load and manipulate data with Pandas**.\n",
        "    \n",
        "The goal is to develop intuition on filtering, arranging, and merging data, which will be useful for the next homework assignment.<br/>\n",
        "Fill the empty cells with your code and deliver a copy of this notebook to Moodle. <br/>\n",
        "    \n",
        "Your submission will be graded according to the following guidelines:\n",
        "1. **Execution** (does your program does what is asked from the exercise?\n",
        "2. **Objectivity** (are you using the adequate libraries? are you using a library ... )\n",
        "3. **Readability** of your code (including comments, variables naming, supporting text, etc ...)\n",
        "\n",
        "**Comment your code properly**, which includes naming your variables in a meaningful manner. **Badly documented code will be penalized.**\n",
        "\n",
        "This assignment is to be done in pairs, and remember that you can't have the same pair from the previous and subsequent assignments.\n",
        "\n",
        "**Students that are caught cheating will obtain a score of 0 points.** <br>\n",
        "\n",
        "Homework 2 is worth 25% of your final grade.    \n",
        "\n",
        "The submission package should correspond to a .zip archive (.rar files are not accepted) with the following files:\n",
        "1. Jupyter Notebook with the output of all the cells;\n",
        "2. HTML print of your Jupyter Notebook (in Jupyter go to File -> Download as -> HTML);\n",
        "3. All text or .csv files that are exported as part of the exercises. **Please don't upload the files downloaded/imported as part of the exercises.**\n",
        "\n",
        "**Please change the name of the notebook to \"H2.\\<student_1_id\\>_\\<student_2_id\\>.ipynb\", replacing \\<student_id\\> by your student_id.** <br>\n",
        "\n",
        "Submission is done through the respective Moodle activity, and only one of the group members should submit the files. <br>\n",
        "The deadline is the **19th of October at 12:00**. <br>\n",
        "A penalty of 1 point per day late will be applied to late deliveries. <br>\n",
        "**In this notebook, you are allowed to use Pandas and Numpy.**"
      ]
    },
    {
      "cell_type": "code",
      "execution_count": 1,
      "metadata": {
        "id": "cGZm4Ut3NwGj"
      },
      "outputs": [],
      "source": [
        "#importing necessary libraries\n",
        "import numpy as np\n",
        "import pandas as pd"
      ]
    },
    {
      "cell_type": "markdown",
      "metadata": {
        "id": "xL0GEjpTNwGl"
      },
      "source": [
        "# <span style=\"color:brown\"> Start Here </span>\n",
        "\n",
        "[Please Complete the following form with your details]\n",
        "\n",
        "Student Name - João Cardoso<br>\n",
        "Student id - 20240529 <br>\n",
        "Contact e-mail - 20240529@novaims.unl.pt <br>\n",
        "\n",
        "\n",
        "Student Name - Alexandre Gentil Soares Gonçalves<br>\n",
        "Student id - 20240738 <br>\n",
        "Contact e-mail - 20240738@novaims.unl.pt <br>"
      ]
    },
    {
      "cell_type": "markdown",
      "metadata": {
        "id": "RNivlEtLNwGm"
      },
      "source": [
        "# <span style=\"color:brown\"> Part 1 - Get the Data </span>"
      ]
    },
    {
      "cell_type": "markdown",
      "metadata": {
        "id": "l4aRguVKNwGm"
      },
      "source": [
        "## Download and Load the World Development Indicators Dataset\n",
        "\n",
        "We will work with the **World Development Indicators dataset**, which should be downloaded from the world bank data catalog.<br/>\n",
        "Hence, the first step is to unzip the data given on Moodle, you can do this by running the cell below. <br/>"
      ]
    },
    {
      "cell_type": "code",
      "execution_count": 2,
      "metadata": {
        "id": "bb7RS9b3VRzR"
      },
      "outputs": [],
      "source": [
        "import os\n",
        "import zipfile\n",
        "\n",
        "def load_and_extract_zip(filename):\n",
        "    \"\"\"\n",
        "    Loads and extracts a ZIP file depending on the environment: Google Colab or local machine.\n",
        "\n",
        "    Arguments:\n",
        "    filename -- The name of the ZIP file to extract.\n",
        "    \"\"\"\n",
        "    try:\n",
        "        # Check if running in Google Colab\n",
        "        import google.colab\n",
        "        print(\"Detected environment: Google Colab\")\n",
        "\n",
        "        # Mount Google Drive and set the working directory\n",
        "        from google.colab import drive\n",
        "        drive.mount('/content/drive')\n",
        "\n",
        "        # Set the working directory\n",
        "        wd = \"/content/drive/MyDrive/Nova_IMS/Programming for Data Science/assignment_ii/\"\n",
        "        os.chdir(wd)  # Change to the working directory\n",
        "        full_path = os.path.join(wd, filename)  # Full path to the file\n",
        "\n",
        "    except ImportError:\n",
        "        # If google.colab isn't available, we're running locally\n",
        "        print(\"Detected environment: Local\")\n",
        "\n",
        "        # Set the local directory (modify this path based on your local setup)\n",
        "        wd = os.getcwd()  # Current working directory\n",
        "        full_path = os.path.join(wd, filename)  # Full path to the file\n",
        "\n",
        "    # Extract the ZIP file\n",
        "    try:\n",
        "        with zipfile.ZipFile(full_path, 'r') as z:\n",
        "            z.extractall()  # Extract all contents of the ZIP file\n",
        "            print(f\"File extracted successfully from: {full_path}\")\n",
        "    except FileNotFoundError:\n",
        "        print(f\"File not found at: {full_path}\")\n",
        "    except zipfile.BadZipFile:\n",
        "        print(f\"Error: The file {full_path} is not a valid ZIP archive.\")\n"
      ]
    },
    {
      "cell_type": "code",
      "execution_count": 3,
      "metadata": {
        "colab": {
          "base_uri": "https://localhost:8080/",
          "height": 315
        },
        "id": "pg5aaMawVtHx",
        "outputId": "035455ee-b91d-47d9-925f-34b74c27cdcc"
      },
      "outputs": [
        {
          "name": "stdout",
          "output_type": "stream",
          "text": [
            "Detected environment: Local\n",
            "File extracted successfully from: c:\\Users\\alexg\\Ambiente de Trabalho\\Mestrado Data Science NOVA IMS\\1st semester\\Programming for DS\\Assignments\\2nd_assignment\\WDI_csv.zip\n"
          ]
        }
      ],
      "source": [
        "load_and_extract_zip(\"WDI_csv.zip\")"
      ]
    },
    {
      "cell_type": "markdown",
      "metadata": {
        "id": "a4molY70NwGn"
      },
      "source": [
        "*The above code downloads a zip archive to the working folder, which by default is the the location of this notebook in your computer. <br/>\n",
        "Secondly, and since the document downloaded is a zip archive, it extracts the documents from the archive. <br/>\n",
        "The contents include multiple .csv files, however we will be working only with the document 'WDICSV.csv'. <br/>*\n",
        "\n",
        "**1.** In the cell bellow, use Pandas to open the file \"WDICSV.csv\" and **save** it to a variable called **wdi**.<br/>"
      ]
    },
    {
      "cell_type": "code",
      "execution_count": 4,
      "metadata": {
        "id": "rsnR6Iv7NwGn"
      },
      "outputs": [],
      "source": [
        "# Define the path for the WDI CSV file\n",
        "path = \"WDICSV.csv\"\n",
        "\n",
        "# load csv\n",
        "wdi = pd.read_csv(path)"
      ]
    },
    {
      "cell_type": "markdown",
      "metadata": {
        "id": "u0T4BqCfNwGo"
      },
      "source": [
        "**2.** Check the top of the dataframe to ensure it was loaded correctly."
      ]
    },
    {
      "cell_type": "code",
      "execution_count": 5,
      "metadata": {
        "id": "Yhi4TiQ-NwGo"
      },
      "outputs": [
        {
          "data": {
            "text/html": [
              "<div>\n",
              "<style scoped>\n",
              "    .dataframe tbody tr th:only-of-type {\n",
              "        vertical-align: middle;\n",
              "    }\n",
              "\n",
              "    .dataframe tbody tr th {\n",
              "        vertical-align: top;\n",
              "    }\n",
              "\n",
              "    .dataframe thead th {\n",
              "        text-align: right;\n",
              "    }\n",
              "</style>\n",
              "<table border=\"1\" class=\"dataframe\">\n",
              "  <thead>\n",
              "    <tr style=\"text-align: right;\">\n",
              "      <th></th>\n",
              "      <th>Country Name</th>\n",
              "      <th>Country Code</th>\n",
              "      <th>Indicator Name</th>\n",
              "      <th>Indicator Code</th>\n",
              "      <th>1960</th>\n",
              "      <th>1961</th>\n",
              "      <th>1962</th>\n",
              "      <th>1963</th>\n",
              "      <th>1964</th>\n",
              "      <th>1965</th>\n",
              "      <th>...</th>\n",
              "      <th>2014</th>\n",
              "      <th>2015</th>\n",
              "      <th>2016</th>\n",
              "      <th>2017</th>\n",
              "      <th>2018</th>\n",
              "      <th>2019</th>\n",
              "      <th>2020</th>\n",
              "      <th>2021</th>\n",
              "      <th>2022</th>\n",
              "      <th>2023</th>\n",
              "    </tr>\n",
              "  </thead>\n",
              "  <tbody>\n",
              "    <tr>\n",
              "      <th>0</th>\n",
              "      <td>Africa Eastern and Southern</td>\n",
              "      <td>AFE</td>\n",
              "      <td>Access to clean fuels and technologies for coo...</td>\n",
              "      <td>EG.CFT.ACCS.ZS</td>\n",
              "      <td>NaN</td>\n",
              "      <td>NaN</td>\n",
              "      <td>NaN</td>\n",
              "      <td>NaN</td>\n",
              "      <td>NaN</td>\n",
              "      <td>NaN</td>\n",
              "      <td>...</td>\n",
              "      <td>17.401410</td>\n",
              "      <td>17.911234</td>\n",
              "      <td>18.463874</td>\n",
              "      <td>18.924037</td>\n",
              "      <td>19.437054</td>\n",
              "      <td>20.026254</td>\n",
              "      <td>20.647969</td>\n",
              "      <td>21.165877</td>\n",
              "      <td>21.863139</td>\n",
              "      <td>NaN</td>\n",
              "    </tr>\n",
              "    <tr>\n",
              "      <th>1</th>\n",
              "      <td>Africa Eastern and Southern</td>\n",
              "      <td>AFE</td>\n",
              "      <td>Access to clean fuels and technologies for coo...</td>\n",
              "      <td>EG.CFT.ACCS.RU.ZS</td>\n",
              "      <td>NaN</td>\n",
              "      <td>NaN</td>\n",
              "      <td>NaN</td>\n",
              "      <td>NaN</td>\n",
              "      <td>NaN</td>\n",
              "      <td>NaN</td>\n",
              "      <td>...</td>\n",
              "      <td>6.728819</td>\n",
              "      <td>7.005877</td>\n",
              "      <td>7.308571</td>\n",
              "      <td>7.547226</td>\n",
              "      <td>7.875917</td>\n",
              "      <td>8.243018</td>\n",
              "      <td>8.545483</td>\n",
              "      <td>8.906711</td>\n",
              "      <td>9.261320</td>\n",
              "      <td>NaN</td>\n",
              "    </tr>\n",
              "    <tr>\n",
              "      <th>2</th>\n",
              "      <td>Africa Eastern and Southern</td>\n",
              "      <td>AFE</td>\n",
              "      <td>Access to clean fuels and technologies for coo...</td>\n",
              "      <td>EG.CFT.ACCS.UR.ZS</td>\n",
              "      <td>NaN</td>\n",
              "      <td>NaN</td>\n",
              "      <td>NaN</td>\n",
              "      <td>NaN</td>\n",
              "      <td>NaN</td>\n",
              "      <td>NaN</td>\n",
              "      <td>...</td>\n",
              "      <td>38.080931</td>\n",
              "      <td>38.422282</td>\n",
              "      <td>38.722108</td>\n",
              "      <td>38.993157</td>\n",
              "      <td>39.337872</td>\n",
              "      <td>39.695279</td>\n",
              "      <td>40.137847</td>\n",
              "      <td>40.522209</td>\n",
              "      <td>41.011132</td>\n",
              "      <td>NaN</td>\n",
              "    </tr>\n",
              "    <tr>\n",
              "      <th>3</th>\n",
              "      <td>Africa Eastern and Southern</td>\n",
              "      <td>AFE</td>\n",
              "      <td>Access to electricity (% of population)</td>\n",
              "      <td>EG.ELC.ACCS.ZS</td>\n",
              "      <td>NaN</td>\n",
              "      <td>NaN</td>\n",
              "      <td>NaN</td>\n",
              "      <td>NaN</td>\n",
              "      <td>NaN</td>\n",
              "      <td>NaN</td>\n",
              "      <td>...</td>\n",
              "      <td>31.860474</td>\n",
              "      <td>33.903800</td>\n",
              "      <td>38.854624</td>\n",
              "      <td>40.199898</td>\n",
              "      <td>43.017148</td>\n",
              "      <td>44.381259</td>\n",
              "      <td>46.264875</td>\n",
              "      <td>48.100862</td>\n",
              "      <td>48.711995</td>\n",
              "      <td>NaN</td>\n",
              "    </tr>\n",
              "    <tr>\n",
              "      <th>4</th>\n",
              "      <td>Africa Eastern and Southern</td>\n",
              "      <td>AFE</td>\n",
              "      <td>Access to electricity, rural (% of rural popul...</td>\n",
              "      <td>EG.ELC.ACCS.RU.ZS</td>\n",
              "      <td>NaN</td>\n",
              "      <td>NaN</td>\n",
              "      <td>NaN</td>\n",
              "      <td>NaN</td>\n",
              "      <td>NaN</td>\n",
              "      <td>NaN</td>\n",
              "      <td>...</td>\n",
              "      <td>17.619475</td>\n",
              "      <td>16.500171</td>\n",
              "      <td>24.605861</td>\n",
              "      <td>25.396929</td>\n",
              "      <td>27.037528</td>\n",
              "      <td>29.137914</td>\n",
              "      <td>31.001049</td>\n",
              "      <td>32.777910</td>\n",
              "      <td>33.747907</td>\n",
              "      <td>NaN</td>\n",
              "    </tr>\n",
              "  </tbody>\n",
              "</table>\n",
              "<p>5 rows × 68 columns</p>\n",
              "</div>"
            ],
            "text/plain": [
              "                  Country Name Country Code  \\\n",
              "0  Africa Eastern and Southern          AFE   \n",
              "1  Africa Eastern and Southern          AFE   \n",
              "2  Africa Eastern and Southern          AFE   \n",
              "3  Africa Eastern and Southern          AFE   \n",
              "4  Africa Eastern and Southern          AFE   \n",
              "\n",
              "                                      Indicator Name     Indicator Code  1960  \\\n",
              "0  Access to clean fuels and technologies for coo...     EG.CFT.ACCS.ZS   NaN   \n",
              "1  Access to clean fuels and technologies for coo...  EG.CFT.ACCS.RU.ZS   NaN   \n",
              "2  Access to clean fuels and technologies for coo...  EG.CFT.ACCS.UR.ZS   NaN   \n",
              "3            Access to electricity (% of population)     EG.ELC.ACCS.ZS   NaN   \n",
              "4  Access to electricity, rural (% of rural popul...  EG.ELC.ACCS.RU.ZS   NaN   \n",
              "\n",
              "   1961  1962  1963  1964  1965  ...       2014       2015       2016  \\\n",
              "0   NaN   NaN   NaN   NaN   NaN  ...  17.401410  17.911234  18.463874   \n",
              "1   NaN   NaN   NaN   NaN   NaN  ...   6.728819   7.005877   7.308571   \n",
              "2   NaN   NaN   NaN   NaN   NaN  ...  38.080931  38.422282  38.722108   \n",
              "3   NaN   NaN   NaN   NaN   NaN  ...  31.860474  33.903800  38.854624   \n",
              "4   NaN   NaN   NaN   NaN   NaN  ...  17.619475  16.500171  24.605861   \n",
              "\n",
              "        2017       2018       2019       2020       2021       2022  2023  \n",
              "0  18.924037  19.437054  20.026254  20.647969  21.165877  21.863139   NaN  \n",
              "1   7.547226   7.875917   8.243018   8.545483   8.906711   9.261320   NaN  \n",
              "2  38.993157  39.337872  39.695279  40.137847  40.522209  41.011132   NaN  \n",
              "3  40.199898  43.017148  44.381259  46.264875  48.100862  48.711995   NaN  \n",
              "4  25.396929  27.037528  29.137914  31.001049  32.777910  33.747907   NaN  \n",
              "\n",
              "[5 rows x 68 columns]"
            ]
          },
          "execution_count": 5,
          "metadata": {},
          "output_type": "execute_result"
        }
      ],
      "source": [
        "# Print the first 5 rows of the DataFrame\n",
        "wdi.head()"
      ]
    },
    {
      "cell_type": "markdown",
      "metadata": {
        "id": "KeG06k2BNwGo"
      },
      "source": [
        "## Download and Load the Penn World Table V9.0\n",
        "\n",
        "We will additionally use data from the pwt v9.0 tables. <br/>\n",
        "\n",
        "**Run the following cell to download the dataset**."
      ]
    },
    {
      "cell_type": "code",
      "execution_count": 6,
      "metadata": {
        "id": "4PnVvYYJNwGo"
      },
      "outputs": [
        {
          "data": {
            "text/plain": [
              "('pwt90.xlsx', <http.client.HTTPMessage at 0x212c5a5b370>)"
            ]
          },
          "execution_count": 6,
          "metadata": {},
          "output_type": "execute_result"
        }
      ],
      "source": [
        "# import module urlib\n",
        "import urllib\n",
        "# download the file from the internet\n",
        "urllib.request.urlretrieve(\"https://www.rug.nl/ggdc/docs/pwt90.xlsx\", \"pwt90.xlsx\")"
      ]
    },
    {
      "cell_type": "markdown",
      "metadata": {
        "id": "hP6lhKvSNwGp"
      },
      "source": [
        "**3.** In the following cell, open and read the file 'pwt90.xlsx' and **save** it into variable **pwt**. <br/>"
      ]
    },
    {
      "cell_type": "code",
      "execution_count": 7,
      "metadata": {
        "id": "RZxtXgAbNwGp"
      },
      "outputs": [],
      "source": [
        "# open and read the file 'pwt90.xlsx' Data tab\n",
        "pwt = pd.read_excel(\"pwt90.xlsx\", sheet_name=\"Data\")"
      ]
    },
    {
      "cell_type": "markdown",
      "metadata": {
        "id": "t7LC7Ck6NwGp"
      },
      "source": [
        "**4.** Check the top of the dataframe to ensure it was loaded correctly."
      ]
    },
    {
      "cell_type": "code",
      "execution_count": 8,
      "metadata": {
        "id": "4ti9DtDjNwGp",
        "scrolled": true
      },
      "outputs": [
        {
          "data": {
            "text/html": [
              "<div>\n",
              "<style scoped>\n",
              "    .dataframe tbody tr th:only-of-type {\n",
              "        vertical-align: middle;\n",
              "    }\n",
              "\n",
              "    .dataframe tbody tr th {\n",
              "        vertical-align: top;\n",
              "    }\n",
              "\n",
              "    .dataframe thead th {\n",
              "        text-align: right;\n",
              "    }\n",
              "</style>\n",
              "<table border=\"1\" class=\"dataframe\">\n",
              "  <thead>\n",
              "    <tr style=\"text-align: right;\">\n",
              "      <th></th>\n",
              "      <th>countrycode</th>\n",
              "      <th>country</th>\n",
              "      <th>currency_unit</th>\n",
              "      <th>year</th>\n",
              "      <th>rgdpe</th>\n",
              "      <th>rgdpo</th>\n",
              "      <th>pop</th>\n",
              "      <th>emp</th>\n",
              "      <th>avh</th>\n",
              "      <th>hc</th>\n",
              "      <th>...</th>\n",
              "      <th>csh_g</th>\n",
              "      <th>csh_x</th>\n",
              "      <th>csh_m</th>\n",
              "      <th>csh_r</th>\n",
              "      <th>pl_c</th>\n",
              "      <th>pl_i</th>\n",
              "      <th>pl_g</th>\n",
              "      <th>pl_x</th>\n",
              "      <th>pl_m</th>\n",
              "      <th>pl_k</th>\n",
              "    </tr>\n",
              "  </thead>\n",
              "  <tbody>\n",
              "    <tr>\n",
              "      <th>0</th>\n",
              "      <td>ABW</td>\n",
              "      <td>Aruba</td>\n",
              "      <td>Aruban Guilder</td>\n",
              "      <td>1950</td>\n",
              "      <td>NaN</td>\n",
              "      <td>NaN</td>\n",
              "      <td>NaN</td>\n",
              "      <td>NaN</td>\n",
              "      <td>NaN</td>\n",
              "      <td>NaN</td>\n",
              "      <td>...</td>\n",
              "      <td>NaN</td>\n",
              "      <td>NaN</td>\n",
              "      <td>NaN</td>\n",
              "      <td>NaN</td>\n",
              "      <td>NaN</td>\n",
              "      <td>NaN</td>\n",
              "      <td>NaN</td>\n",
              "      <td>NaN</td>\n",
              "      <td>NaN</td>\n",
              "      <td>NaN</td>\n",
              "    </tr>\n",
              "    <tr>\n",
              "      <th>1</th>\n",
              "      <td>ABW</td>\n",
              "      <td>Aruba</td>\n",
              "      <td>Aruban Guilder</td>\n",
              "      <td>1951</td>\n",
              "      <td>NaN</td>\n",
              "      <td>NaN</td>\n",
              "      <td>NaN</td>\n",
              "      <td>NaN</td>\n",
              "      <td>NaN</td>\n",
              "      <td>NaN</td>\n",
              "      <td>...</td>\n",
              "      <td>NaN</td>\n",
              "      <td>NaN</td>\n",
              "      <td>NaN</td>\n",
              "      <td>NaN</td>\n",
              "      <td>NaN</td>\n",
              "      <td>NaN</td>\n",
              "      <td>NaN</td>\n",
              "      <td>NaN</td>\n",
              "      <td>NaN</td>\n",
              "      <td>NaN</td>\n",
              "    </tr>\n",
              "    <tr>\n",
              "      <th>2</th>\n",
              "      <td>ABW</td>\n",
              "      <td>Aruba</td>\n",
              "      <td>Aruban Guilder</td>\n",
              "      <td>1952</td>\n",
              "      <td>NaN</td>\n",
              "      <td>NaN</td>\n",
              "      <td>NaN</td>\n",
              "      <td>NaN</td>\n",
              "      <td>NaN</td>\n",
              "      <td>NaN</td>\n",
              "      <td>...</td>\n",
              "      <td>NaN</td>\n",
              "      <td>NaN</td>\n",
              "      <td>NaN</td>\n",
              "      <td>NaN</td>\n",
              "      <td>NaN</td>\n",
              "      <td>NaN</td>\n",
              "      <td>NaN</td>\n",
              "      <td>NaN</td>\n",
              "      <td>NaN</td>\n",
              "      <td>NaN</td>\n",
              "    </tr>\n",
              "    <tr>\n",
              "      <th>3</th>\n",
              "      <td>ABW</td>\n",
              "      <td>Aruba</td>\n",
              "      <td>Aruban Guilder</td>\n",
              "      <td>1953</td>\n",
              "      <td>NaN</td>\n",
              "      <td>NaN</td>\n",
              "      <td>NaN</td>\n",
              "      <td>NaN</td>\n",
              "      <td>NaN</td>\n",
              "      <td>NaN</td>\n",
              "      <td>...</td>\n",
              "      <td>NaN</td>\n",
              "      <td>NaN</td>\n",
              "      <td>NaN</td>\n",
              "      <td>NaN</td>\n",
              "      <td>NaN</td>\n",
              "      <td>NaN</td>\n",
              "      <td>NaN</td>\n",
              "      <td>NaN</td>\n",
              "      <td>NaN</td>\n",
              "      <td>NaN</td>\n",
              "    </tr>\n",
              "    <tr>\n",
              "      <th>4</th>\n",
              "      <td>ABW</td>\n",
              "      <td>Aruba</td>\n",
              "      <td>Aruban Guilder</td>\n",
              "      <td>1954</td>\n",
              "      <td>NaN</td>\n",
              "      <td>NaN</td>\n",
              "      <td>NaN</td>\n",
              "      <td>NaN</td>\n",
              "      <td>NaN</td>\n",
              "      <td>NaN</td>\n",
              "      <td>...</td>\n",
              "      <td>NaN</td>\n",
              "      <td>NaN</td>\n",
              "      <td>NaN</td>\n",
              "      <td>NaN</td>\n",
              "      <td>NaN</td>\n",
              "      <td>NaN</td>\n",
              "      <td>NaN</td>\n",
              "      <td>NaN</td>\n",
              "      <td>NaN</td>\n",
              "      <td>NaN</td>\n",
              "    </tr>\n",
              "  </tbody>\n",
              "</table>\n",
              "<p>5 rows × 47 columns</p>\n",
              "</div>"
            ],
            "text/plain": [
              "  countrycode country   currency_unit  year  rgdpe  rgdpo  pop  emp  avh  hc  \\\n",
              "0         ABW   Aruba  Aruban Guilder  1950    NaN    NaN  NaN  NaN  NaN NaN   \n",
              "1         ABW   Aruba  Aruban Guilder  1951    NaN    NaN  NaN  NaN  NaN NaN   \n",
              "2         ABW   Aruba  Aruban Guilder  1952    NaN    NaN  NaN  NaN  NaN NaN   \n",
              "3         ABW   Aruba  Aruban Guilder  1953    NaN    NaN  NaN  NaN  NaN NaN   \n",
              "4         ABW   Aruba  Aruban Guilder  1954    NaN    NaN  NaN  NaN  NaN NaN   \n",
              "\n",
              "   ...  csh_g  csh_x  csh_m  csh_r  pl_c  pl_i  pl_g  pl_x  pl_m  pl_k  \n",
              "0  ...    NaN    NaN    NaN    NaN   NaN   NaN   NaN   NaN   NaN   NaN  \n",
              "1  ...    NaN    NaN    NaN    NaN   NaN   NaN   NaN   NaN   NaN   NaN  \n",
              "2  ...    NaN    NaN    NaN    NaN   NaN   NaN   NaN   NaN   NaN   NaN  \n",
              "3  ...    NaN    NaN    NaN    NaN   NaN   NaN   NaN   NaN   NaN   NaN  \n",
              "4  ...    NaN    NaN    NaN    NaN   NaN   NaN   NaN   NaN   NaN   NaN  \n",
              "\n",
              "[5 rows x 47 columns]"
            ]
          },
          "execution_count": 8,
          "metadata": {},
          "output_type": "execute_result"
        }
      ],
      "source": [
        "pwt.head()"
      ]
    },
    {
      "cell_type": "markdown",
      "metadata": {
        "id": "emFAh8rQNwGp"
      },
      "source": [
        "# <span style=\"color:brown\"> Part 2 - Data Processing </span>"
      ]
    },
    {
      "cell_type": "markdown",
      "metadata": {
        "id": "f7IoNpFMNwGp"
      },
      "source": [
        "## Data Wrangling\n",
        "\n",
        "Now that we have loaded our data we are ready to start playing with it. <br/>\n",
        "\n",
        "**5.** Start by printing all the column values in the cell below."
      ]
    },
    {
      "cell_type": "code",
      "execution_count": 9,
      "metadata": {
        "id": "Wc5u_EilNwGq"
      },
      "outputs": [
        {
          "name": "stdout",
          "output_type": "stream",
          "text": [
            "Columns in WDI Dataset:\n",
            "Index(['Country Name', 'Country Code', 'Indicator Name', 'Indicator Code',\n",
            "       '1960', '1961', '1962', '1963', '1964', '1965', '1966', '1967', '1968',\n",
            "       '1969', '1970', '1971', '1972', '1973', '1974', '1975', '1976', '1977',\n",
            "       '1978', '1979', '1980', '1981', '1982', '1983', '1984', '1985', '1986',\n",
            "       '1987', '1988', '1989', '1990', '1991', '1992', '1993', '1994', '1995',\n",
            "       '1996', '1997', '1998', '1999', '2000', '2001', '2002', '2003', '2004',\n",
            "       '2005', '2006', '2007', '2008', '2009', '2010', '2011', '2012', '2013',\n",
            "       '2014', '2015', '2016', '2017', '2018', '2019', '2020', '2021', '2022',\n",
            "       '2023'],\n",
            "      dtype='object')\n",
            "\n",
            "Columns in PWT Dataset:\n",
            "Index(['countrycode', 'country', 'currency_unit', 'year', 'rgdpe', 'rgdpo',\n",
            "       'pop', 'emp', 'avh', 'hc', 'ccon', 'cda', 'cgdpe', 'cgdpo', 'ck',\n",
            "       'ctfp', 'cwtfp', 'rgdpna', 'rconna', 'rdana', 'rkna', 'rtfpna',\n",
            "       'rwtfpna', 'labsh', 'delta', 'xr', 'pl_con', 'pl_da', 'pl_gdpo',\n",
            "       'i_cig', 'i_xm', 'i_xr', 'i_outlier', 'cor_exp', 'statcap', 'csh_c',\n",
            "       'csh_i', 'csh_g', 'csh_x', 'csh_m', 'csh_r', 'pl_c', 'pl_i', 'pl_g',\n",
            "       'pl_x', 'pl_m', 'pl_k'],\n",
            "      dtype='object')\n"
          ]
        }
      ],
      "source": [
        "print(\"Columns in WDI Dataset:\")\n",
        "print(wdi.columns)\n",
        "\n",
        "print(\"\\nColumns in PWT Dataset:\")\n",
        "print(pwt.columns)"
      ]
    },
    {
      "cell_type": "markdown",
      "metadata": {
        "id": "Y02-mr2PNwGq"
      },
      "source": [
        "**6.** List the values in the column 'Country Name'.You will get a list with repeated values, **delete all duplicates** to ease your analysis. <br/>\n",
        "\n",
        "*Tip: There is a method in the pandas library that allows to do this easily.*"
      ]
    },
    {
      "cell_type": "code",
      "execution_count": 10,
      "metadata": {
        "id": "BUbCN7KoNwGq",
        "scrolled": true
      },
      "outputs": [
        {
          "data": {
            "text/plain": [
              "0            Africa Eastern and Southern\n",
              "1488          Africa Western and Central\n",
              "2976                          Arab World\n",
              "4464              Caribbean small states\n",
              "5952      Central Europe and the Baltics\n",
              "                       ...              \n",
              "388368             Virgin Islands (U.S.)\n",
              "389856                West Bank and Gaza\n",
              "391344                       Yemen, Rep.\n",
              "392832                            Zambia\n",
              "394320                          Zimbabwe\n",
              "Name: Country Name, Length: 266, dtype: object"
            ]
          },
          "execution_count": 10,
          "metadata": {},
          "output_type": "execute_result"
        }
      ],
      "source": [
        "# drop duplicates method is called on the column \"Country names\" erasing duplicates\n",
        "# A series is returned with unique values\n",
        "unique_countries = wdi['Country Name'].drop_duplicates()\n",
        "unique_countries\n"
      ]
    },
    {
      "cell_type": "markdown",
      "metadata": {
        "id": "nECX64uzNwGq"
      },
      "source": [
        "You might notice that while the bottom rows represent Countries, the top rows represent aggregates of countries (e.g., world regions). <br/> We are only interested in **working with country-level data**, and as such we need to filter out all the unnecessary rows."
      ]
    },
    {
      "cell_type": "markdown",
      "metadata": {
        "id": "aINPEY3TNwGq"
      },
      "source": [
        "**7.** Save all the values of column 'Country Name' in a variable called **cnames**. <br/>"
      ]
    },
    {
      "cell_type": "code",
      "execution_count": 11,
      "metadata": {
        "id": "6FAzL2pSNwGq"
      },
      "outputs": [
        {
          "data": {
            "text/plain": [
              "0    Africa Eastern and Southern\n",
              "1    Africa Eastern and Southern\n",
              "2    Africa Eastern and Southern\n",
              "3    Africa Eastern and Southern\n",
              "4    Africa Eastern and Southern\n",
              "Name: Country Name, dtype: object"
            ]
          },
          "execution_count": 11,
          "metadata": {},
          "output_type": "execute_result"
        }
      ],
      "source": [
        "# drop duplicates method is called on the wdi column \"Country names\" erasing duplicates\n",
        "cnames = wdi['Country Name'] # returns a Series with duplicated values\n",
        "cnames.head()"
      ]
    },
    {
      "cell_type": "code",
      "execution_count": 12,
      "metadata": {
        "id": "LAvi5jquTWE5"
      },
      "outputs": [
        {
          "data": {
            "text/plain": [
              "395808"
            ]
          },
          "execution_count": 12,
          "metadata": {},
          "output_type": "execute_result"
        }
      ],
      "source": [
        "# length of cnames Series\n",
        "len(cnames)"
      ]
    },
    {
      "cell_type": "markdown",
      "metadata": {
        "id": "_enYqQ1lNwGq"
      },
      "source": [
        "**7.1.** Delete all duplicate values.<br>"
      ]
    },
    {
      "cell_type": "code",
      "execution_count": 13,
      "metadata": {
        "id": "k4uogffkNwGq"
      },
      "outputs": [],
      "source": [
        "# Drop duplicates in the series cnames\n",
        "cnames = pd.Series(cnames).drop_duplicates()"
      ]
    },
    {
      "cell_type": "code",
      "execution_count": 14,
      "metadata": {
        "id": "QkPhLvaOTa4g"
      },
      "outputs": [
        {
          "data": {
            "text/plain": [
              "266"
            ]
          },
          "execution_count": 14,
          "metadata": {},
          "output_type": "execute_result"
        }
      ],
      "source": [
        "# length of cnames without duplicates\n",
        "len(cnames)"
      ]
    },
    {
      "cell_type": "code",
      "execution_count": 15,
      "metadata": {
        "id": "K9draUJx6PXn"
      },
      "outputs": [
        {
          "data": {
            "text/plain": [
              "0            Africa Eastern and Southern\n",
              "1488          Africa Western and Central\n",
              "2976                          Arab World\n",
              "4464              Caribbean small states\n",
              "5952      Central Europe and the Baltics\n",
              "                       ...              \n",
              "388368             Virgin Islands (U.S.)\n",
              "389856                West Bank and Gaza\n",
              "391344                       Yemen, Rep.\n",
              "392832                            Zambia\n",
              "394320                          Zimbabwe\n",
              "Name: Country Name, Length: 266, dtype: object"
            ]
          },
          "execution_count": 15,
          "metadata": {},
          "output_type": "execute_result"
        }
      ],
      "source": [
        "cnames"
      ]
    },
    {
      "cell_type": "markdown",
      "metadata": {
        "id": "xLbX208tNwGq"
      },
      "source": [
        "**7.2.** Print the names that do not represent countries."
      ]
    },
    {
      "cell_type": "code",
      "execution_count": 16,
      "metadata": {
        "id": "FxRXUflG6t1T"
      },
      "outputs": [
        {
          "name": "stdout",
          "output_type": "stream",
          "text": [
            "Aggregates (non-country names) in WDI dataframe:\n",
            "0                           Africa Eastern and Southern\n",
            "1                            Africa Western and Central\n",
            "2                                            Arab World\n",
            "3                                Caribbean small states\n",
            "4                        Central Europe and the Baltics\n",
            "5                            Early-demographic dividend\n",
            "6                                   East Asia & Pacific\n",
            "7           East Asia & Pacific (excluding high income)\n",
            "8            East Asia & Pacific (IDA & IBRD countries)\n",
            "9                                             Euro area\n",
            "10                                Europe & Central Asia\n",
            "11        Europe & Central Asia (excluding high income)\n",
            "12         Europe & Central Asia (IDA & IBRD countries)\n",
            "13                                       European Union\n",
            "14             Fragile and conflict affected situations\n",
            "15               Heavily indebted poor countries (HIPC)\n",
            "16                                          High income\n",
            "17                                            IBRD only\n",
            "18                                     IDA & IBRD total\n",
            "19                                            IDA blend\n",
            "20                                             IDA only\n",
            "21                                            IDA total\n",
            "22                            Late-demographic dividend\n",
            "23                            Latin America & Caribbean\n",
            "24    Latin America & Caribbean (excluding high income)\n",
            "25    Latin America & the Caribbean (IDA & IBRD coun...\n",
            "26         Least developed countries: UN classification\n",
            "27                                  Low & middle income\n",
            "28                                           Low income\n",
            "29                                  Lower middle income\n",
            "30                           Middle East & North Africa\n",
            "31    Middle East & North Africa (excluding high inc...\n",
            "32    Middle East & North Africa (IDA & IBRD countries)\n",
            "33                                        Middle income\n",
            "34                                        North America\n",
            "35                                       Not classified\n",
            "36                                         OECD members\n",
            "37                                   Other small states\n",
            "38                          Pacific island small states\n",
            "39                            Post-demographic dividend\n",
            "40                             Pre-demographic dividend\n",
            "41                                         Small states\n",
            "42                                           South Asia\n",
            "43                              South Asia (IDA & IBRD)\n",
            "44                                   Sub-Saharan Africa\n",
            "45           Sub-Saharan Africa (excluding high income)\n",
            "46            Sub-Saharan Africa (IDA & IBRD countries)\n",
            "47                                  Upper middle income\n",
            "48                                                World\n",
            "dtype: object\n"
          ]
        }
      ],
      "source": [
        "# Find the index of the first row where country code = 'AFG' in the wdi dataframe , which is done by calling .min() on the index\n",
        "first_row_country_wdi = wdi[wdi['Country Code'] == 'AFG'].index.min()\n",
        "\n",
        "# List all distinct names for countries in wdi dataframe where index < first_row_country_wdi (i.e., they are aggregates)\n",
        "# Converting to Series to make it easier for reading\n",
        "aggregates = pd.Series(wdi.loc[wdi.index < first_row_country_wdi, 'Country Name'].unique())\n",
        "\n",
        "# Print the aggregates\n",
        "print(\"Aggregates (non-country names) in WDI dataframe:\")\n",
        "print(aggregates)\n"
      ]
    },
    {
      "cell_type": "markdown",
      "metadata": {
        "id": "6GAg65Q-NwGr"
      },
      "source": [
        "You can take advantage of the structure of the dataset to realize that aggregates (Continents, Regions, etc) are all located on the top of the series 'cnames'. Moreover, since the series is small you can easily validate this assumption manually and then use that information to extract a slice of all the entries that represent non-countries entities.<br/>\n",
        "\n",
        "**8.** In the next cell filter out, from **wdi**, the rows in which 'Country Name' represents an aggregate of countries.<br/>"
      ]
    },
    {
      "cell_type": "code",
      "execution_count": 17,
      "metadata": {
        "id": "SOVv2A347i0I"
      },
      "outputs": [
        {
          "data": {
            "text/html": [
              "<div>\n",
              "<style scoped>\n",
              "    .dataframe tbody tr th:only-of-type {\n",
              "        vertical-align: middle;\n",
              "    }\n",
              "\n",
              "    .dataframe tbody tr th {\n",
              "        vertical-align: top;\n",
              "    }\n",
              "\n",
              "    .dataframe thead th {\n",
              "        text-align: right;\n",
              "    }\n",
              "</style>\n",
              "<table border=\"1\" class=\"dataframe\">\n",
              "  <thead>\n",
              "    <tr style=\"text-align: right;\">\n",
              "      <th></th>\n",
              "      <th>Country Name</th>\n",
              "      <th>Country Code</th>\n",
              "      <th>Indicator Name</th>\n",
              "      <th>Indicator Code</th>\n",
              "      <th>1960</th>\n",
              "      <th>1961</th>\n",
              "      <th>1962</th>\n",
              "      <th>1963</th>\n",
              "      <th>1964</th>\n",
              "      <th>1965</th>\n",
              "      <th>...</th>\n",
              "      <th>2014</th>\n",
              "      <th>2015</th>\n",
              "      <th>2016</th>\n",
              "      <th>2017</th>\n",
              "      <th>2018</th>\n",
              "      <th>2019</th>\n",
              "      <th>2020</th>\n",
              "      <th>2021</th>\n",
              "      <th>2022</th>\n",
              "      <th>2023</th>\n",
              "    </tr>\n",
              "  </thead>\n",
              "  <tbody>\n",
              "    <tr>\n",
              "      <th>72912</th>\n",
              "      <td>Afghanistan</td>\n",
              "      <td>AFG</td>\n",
              "      <td>Access to clean fuels and technologies for coo...</td>\n",
              "      <td>EG.CFT.ACCS.ZS</td>\n",
              "      <td>NaN</td>\n",
              "      <td>NaN</td>\n",
              "      <td>NaN</td>\n",
              "      <td>NaN</td>\n",
              "      <td>NaN</td>\n",
              "      <td>NaN</td>\n",
              "      <td>...</td>\n",
              "      <td>26.100000</td>\n",
              "      <td>27.600000</td>\n",
              "      <td>28.800000</td>\n",
              "      <td>30.300000</td>\n",
              "      <td>31.400000</td>\n",
              "      <td>32.60000</td>\n",
              "      <td>33.800000</td>\n",
              "      <td>34.90000</td>\n",
              "      <td>36.100000</td>\n",
              "      <td>NaN</td>\n",
              "    </tr>\n",
              "    <tr>\n",
              "      <th>72913</th>\n",
              "      <td>Afghanistan</td>\n",
              "      <td>AFG</td>\n",
              "      <td>Access to clean fuels and technologies for coo...</td>\n",
              "      <td>EG.CFT.ACCS.RU.ZS</td>\n",
              "      <td>NaN</td>\n",
              "      <td>NaN</td>\n",
              "      <td>NaN</td>\n",
              "      <td>NaN</td>\n",
              "      <td>NaN</td>\n",
              "      <td>NaN</td>\n",
              "      <td>...</td>\n",
              "      <td>10.200000</td>\n",
              "      <td>11.400000</td>\n",
              "      <td>12.600000</td>\n",
              "      <td>13.500000</td>\n",
              "      <td>14.500000</td>\n",
              "      <td>15.60000</td>\n",
              "      <td>16.400000</td>\n",
              "      <td>17.40000</td>\n",
              "      <td>18.500000</td>\n",
              "      <td>NaN</td>\n",
              "    </tr>\n",
              "    <tr>\n",
              "      <th>72914</th>\n",
              "      <td>Afghanistan</td>\n",
              "      <td>AFG</td>\n",
              "      <td>Access to clean fuels and technologies for coo...</td>\n",
              "      <td>EG.CFT.ACCS.UR.ZS</td>\n",
              "      <td>NaN</td>\n",
              "      <td>NaN</td>\n",
              "      <td>NaN</td>\n",
              "      <td>NaN</td>\n",
              "      <td>NaN</td>\n",
              "      <td>NaN</td>\n",
              "      <td>...</td>\n",
              "      <td>78.000000</td>\n",
              "      <td>79.500000</td>\n",
              "      <td>80.500000</td>\n",
              "      <td>81.600000</td>\n",
              "      <td>82.600000</td>\n",
              "      <td>83.20000</td>\n",
              "      <td>83.800000</td>\n",
              "      <td>84.50000</td>\n",
              "      <td>85.000000</td>\n",
              "      <td>NaN</td>\n",
              "    </tr>\n",
              "    <tr>\n",
              "      <th>72915</th>\n",
              "      <td>Afghanistan</td>\n",
              "      <td>AFG</td>\n",
              "      <td>Access to electricity (% of population)</td>\n",
              "      <td>EG.ELC.ACCS.ZS</td>\n",
              "      <td>NaN</td>\n",
              "      <td>NaN</td>\n",
              "      <td>NaN</td>\n",
              "      <td>NaN</td>\n",
              "      <td>NaN</td>\n",
              "      <td>NaN</td>\n",
              "      <td>...</td>\n",
              "      <td>89.500000</td>\n",
              "      <td>71.500000</td>\n",
              "      <td>97.700000</td>\n",
              "      <td>97.700000</td>\n",
              "      <td>93.400000</td>\n",
              "      <td>97.70000</td>\n",
              "      <td>97.700000</td>\n",
              "      <td>97.70000</td>\n",
              "      <td>85.300000</td>\n",
              "      <td>NaN</td>\n",
              "    </tr>\n",
              "    <tr>\n",
              "      <th>72916</th>\n",
              "      <td>Afghanistan</td>\n",
              "      <td>AFG</td>\n",
              "      <td>Access to electricity, rural (% of rural popul...</td>\n",
              "      <td>EG.ELC.ACCS.RU.ZS</td>\n",
              "      <td>NaN</td>\n",
              "      <td>NaN</td>\n",
              "      <td>NaN</td>\n",
              "      <td>NaN</td>\n",
              "      <td>NaN</td>\n",
              "      <td>NaN</td>\n",
              "      <td>...</td>\n",
              "      <td>86.500000</td>\n",
              "      <td>64.600000</td>\n",
              "      <td>97.100000</td>\n",
              "      <td>97.100000</td>\n",
              "      <td>91.600000</td>\n",
              "      <td>97.10000</td>\n",
              "      <td>97.100000</td>\n",
              "      <td>97.10000</td>\n",
              "      <td>81.700000</td>\n",
              "      <td>NaN</td>\n",
              "    </tr>\n",
              "    <tr>\n",
              "      <th>...</th>\n",
              "      <td>...</td>\n",
              "      <td>...</td>\n",
              "      <td>...</td>\n",
              "      <td>...</td>\n",
              "      <td>...</td>\n",
              "      <td>...</td>\n",
              "      <td>...</td>\n",
              "      <td>...</td>\n",
              "      <td>...</td>\n",
              "      <td>...</td>\n",
              "      <td>...</td>\n",
              "      <td>...</td>\n",
              "      <td>...</td>\n",
              "      <td>...</td>\n",
              "      <td>...</td>\n",
              "      <td>...</td>\n",
              "      <td>...</td>\n",
              "      <td>...</td>\n",
              "      <td>...</td>\n",
              "      <td>...</td>\n",
              "      <td>...</td>\n",
              "    </tr>\n",
              "    <tr>\n",
              "      <th>395803</th>\n",
              "      <td>Zimbabwe</td>\n",
              "      <td>ZWE</td>\n",
              "      <td>Women who believe a husband is justified in be...</td>\n",
              "      <td>SG.VAW.REFU.ZS</td>\n",
              "      <td>NaN</td>\n",
              "      <td>NaN</td>\n",
              "      <td>NaN</td>\n",
              "      <td>NaN</td>\n",
              "      <td>NaN</td>\n",
              "      <td>NaN</td>\n",
              "      <td>...</td>\n",
              "      <td>NaN</td>\n",
              "      <td>14.500000</td>\n",
              "      <td>NaN</td>\n",
              "      <td>NaN</td>\n",
              "      <td>NaN</td>\n",
              "      <td>NaN</td>\n",
              "      <td>NaN</td>\n",
              "      <td>NaN</td>\n",
              "      <td>NaN</td>\n",
              "      <td>NaN</td>\n",
              "    </tr>\n",
              "    <tr>\n",
              "      <th>395804</th>\n",
              "      <td>Zimbabwe</td>\n",
              "      <td>ZWE</td>\n",
              "      <td>Women who were first married by age 15 (% of w...</td>\n",
              "      <td>SP.M15.2024.FE.ZS</td>\n",
              "      <td>NaN</td>\n",
              "      <td>NaN</td>\n",
              "      <td>NaN</td>\n",
              "      <td>NaN</td>\n",
              "      <td>NaN</td>\n",
              "      <td>NaN</td>\n",
              "      <td>...</td>\n",
              "      <td>NaN</td>\n",
              "      <td>3.700000</td>\n",
              "      <td>NaN</td>\n",
              "      <td>NaN</td>\n",
              "      <td>NaN</td>\n",
              "      <td>5.40000</td>\n",
              "      <td>NaN</td>\n",
              "      <td>NaN</td>\n",
              "      <td>NaN</td>\n",
              "      <td>NaN</td>\n",
              "    </tr>\n",
              "    <tr>\n",
              "      <th>395805</th>\n",
              "      <td>Zimbabwe</td>\n",
              "      <td>ZWE</td>\n",
              "      <td>Women who were first married by age 18 (% of w...</td>\n",
              "      <td>SP.M18.2024.FE.ZS</td>\n",
              "      <td>NaN</td>\n",
              "      <td>NaN</td>\n",
              "      <td>NaN</td>\n",
              "      <td>NaN</td>\n",
              "      <td>NaN</td>\n",
              "      <td>NaN</td>\n",
              "      <td>...</td>\n",
              "      <td>NaN</td>\n",
              "      <td>32.400000</td>\n",
              "      <td>NaN</td>\n",
              "      <td>NaN</td>\n",
              "      <td>NaN</td>\n",
              "      <td>33.70000</td>\n",
              "      <td>NaN</td>\n",
              "      <td>NaN</td>\n",
              "      <td>NaN</td>\n",
              "      <td>NaN</td>\n",
              "    </tr>\n",
              "    <tr>\n",
              "      <th>395806</th>\n",
              "      <td>Zimbabwe</td>\n",
              "      <td>ZWE</td>\n",
              "      <td>Women's share of population ages 15+ living wi...</td>\n",
              "      <td>SH.DYN.AIDS.FE.ZS</td>\n",
              "      <td>NaN</td>\n",
              "      <td>NaN</td>\n",
              "      <td>NaN</td>\n",
              "      <td>NaN</td>\n",
              "      <td>NaN</td>\n",
              "      <td>NaN</td>\n",
              "      <td>...</td>\n",
              "      <td>59.606951</td>\n",
              "      <td>59.740456</td>\n",
              "      <td>59.888983</td>\n",
              "      <td>60.053623</td>\n",
              "      <td>60.216147</td>\n",
              "      <td>60.37761</td>\n",
              "      <td>60.551609</td>\n",
              "      <td>60.69318</td>\n",
              "      <td>60.825294</td>\n",
              "      <td>NaN</td>\n",
              "    </tr>\n",
              "    <tr>\n",
              "      <th>395807</th>\n",
              "      <td>Zimbabwe</td>\n",
              "      <td>ZWE</td>\n",
              "      <td>Young people (ages 15-24) newly infected with HIV</td>\n",
              "      <td>SH.HIV.INCD.YG</td>\n",
              "      <td>NaN</td>\n",
              "      <td>NaN</td>\n",
              "      <td>NaN</td>\n",
              "      <td>NaN</td>\n",
              "      <td>NaN</td>\n",
              "      <td>NaN</td>\n",
              "      <td>...</td>\n",
              "      <td>18000.000000</td>\n",
              "      <td>16000.000000</td>\n",
              "      <td>14000.000000</td>\n",
              "      <td>11000.000000</td>\n",
              "      <td>8400.000000</td>\n",
              "      <td>6900.00000</td>\n",
              "      <td>5900.000000</td>\n",
              "      <td>5200.00000</td>\n",
              "      <td>4900.000000</td>\n",
              "      <td>NaN</td>\n",
              "    </tr>\n",
              "  </tbody>\n",
              "</table>\n",
              "<p>322896 rows × 68 columns</p>\n",
              "</div>"
            ],
            "text/plain": [
              "       Country Name Country Code  \\\n",
              "72912   Afghanistan          AFG   \n",
              "72913   Afghanistan          AFG   \n",
              "72914   Afghanistan          AFG   \n",
              "72915   Afghanistan          AFG   \n",
              "72916   Afghanistan          AFG   \n",
              "...             ...          ...   \n",
              "395803     Zimbabwe          ZWE   \n",
              "395804     Zimbabwe          ZWE   \n",
              "395805     Zimbabwe          ZWE   \n",
              "395806     Zimbabwe          ZWE   \n",
              "395807     Zimbabwe          ZWE   \n",
              "\n",
              "                                           Indicator Name     Indicator Code  \\\n",
              "72912   Access to clean fuels and technologies for coo...     EG.CFT.ACCS.ZS   \n",
              "72913   Access to clean fuels and technologies for coo...  EG.CFT.ACCS.RU.ZS   \n",
              "72914   Access to clean fuels and technologies for coo...  EG.CFT.ACCS.UR.ZS   \n",
              "72915             Access to electricity (% of population)     EG.ELC.ACCS.ZS   \n",
              "72916   Access to electricity, rural (% of rural popul...  EG.ELC.ACCS.RU.ZS   \n",
              "...                                                   ...                ...   \n",
              "395803  Women who believe a husband is justified in be...     SG.VAW.REFU.ZS   \n",
              "395804  Women who were first married by age 15 (% of w...  SP.M15.2024.FE.ZS   \n",
              "395805  Women who were first married by age 18 (% of w...  SP.M18.2024.FE.ZS   \n",
              "395806  Women's share of population ages 15+ living wi...  SH.DYN.AIDS.FE.ZS   \n",
              "395807  Young people (ages 15-24) newly infected with HIV     SH.HIV.INCD.YG   \n",
              "\n",
              "        1960  1961  1962  1963  1964  1965  ...          2014          2015  \\\n",
              "72912    NaN   NaN   NaN   NaN   NaN   NaN  ...     26.100000     27.600000   \n",
              "72913    NaN   NaN   NaN   NaN   NaN   NaN  ...     10.200000     11.400000   \n",
              "72914    NaN   NaN   NaN   NaN   NaN   NaN  ...     78.000000     79.500000   \n",
              "72915    NaN   NaN   NaN   NaN   NaN   NaN  ...     89.500000     71.500000   \n",
              "72916    NaN   NaN   NaN   NaN   NaN   NaN  ...     86.500000     64.600000   \n",
              "...      ...   ...   ...   ...   ...   ...  ...           ...           ...   \n",
              "395803   NaN   NaN   NaN   NaN   NaN   NaN  ...           NaN     14.500000   \n",
              "395804   NaN   NaN   NaN   NaN   NaN   NaN  ...           NaN      3.700000   \n",
              "395805   NaN   NaN   NaN   NaN   NaN   NaN  ...           NaN     32.400000   \n",
              "395806   NaN   NaN   NaN   NaN   NaN   NaN  ...     59.606951     59.740456   \n",
              "395807   NaN   NaN   NaN   NaN   NaN   NaN  ...  18000.000000  16000.000000   \n",
              "\n",
              "                2016          2017         2018        2019         2020  \\\n",
              "72912      28.800000     30.300000    31.400000    32.60000    33.800000   \n",
              "72913      12.600000     13.500000    14.500000    15.60000    16.400000   \n",
              "72914      80.500000     81.600000    82.600000    83.20000    83.800000   \n",
              "72915      97.700000     97.700000    93.400000    97.70000    97.700000   \n",
              "72916      97.100000     97.100000    91.600000    97.10000    97.100000   \n",
              "...              ...           ...          ...         ...          ...   \n",
              "395803           NaN           NaN          NaN         NaN          NaN   \n",
              "395804           NaN           NaN          NaN     5.40000          NaN   \n",
              "395805           NaN           NaN          NaN    33.70000          NaN   \n",
              "395806     59.888983     60.053623    60.216147    60.37761    60.551609   \n",
              "395807  14000.000000  11000.000000  8400.000000  6900.00000  5900.000000   \n",
              "\n",
              "              2021         2022  2023  \n",
              "72912     34.90000    36.100000   NaN  \n",
              "72913     17.40000    18.500000   NaN  \n",
              "72914     84.50000    85.000000   NaN  \n",
              "72915     97.70000    85.300000   NaN  \n",
              "72916     97.10000    81.700000   NaN  \n",
              "...            ...          ...   ...  \n",
              "395803         NaN          NaN   NaN  \n",
              "395804         NaN          NaN   NaN  \n",
              "395805         NaN          NaN   NaN  \n",
              "395806    60.69318    60.825294   NaN  \n",
              "395807  5200.00000  4900.000000   NaN  \n",
              "\n",
              "[322896 rows x 68 columns]"
            ]
          },
          "metadata": {},
          "output_type": "display_data"
        }
      ],
      "source": [
        "# Filter out rows in 'wdi' where 'Country Name' represents an aggregate (the ~ negates the condition meaning it removes aggregates and keeps only country names)\n",
        "\n",
        "wdi = wdi[~wdi['Country Name'].isin(aggregates)]\n",
        "\n",
        "# Print the first few rows to confirm\n",
        "display(wdi)\n",
        "\n",
        "# Other alternatives could be\n",
        "# using loc\n",
        "# wdi = wdi.loc[first_row_country_wdi: , : ]\n",
        "# using boolean indexing\n",
        "# wdi = wdi[~(wdi.index < first_row_country_wdi)]"
      ]
    },
    {
      "cell_type": "markdown",
      "metadata": {
        "id": "PTfR2qo_NwGr"
      },
      "source": [
        "**9.** Check that the top of the **wdi** dataframe now only has countries and not aggregates of countries."
      ]
    },
    {
      "cell_type": "code",
      "execution_count": 18,
      "metadata": {
        "id": "SodXx5-4NwGr"
      },
      "outputs": [
        {
          "data": {
            "text/html": [
              "<div>\n",
              "<style scoped>\n",
              "    .dataframe tbody tr th:only-of-type {\n",
              "        vertical-align: middle;\n",
              "    }\n",
              "\n",
              "    .dataframe tbody tr th {\n",
              "        vertical-align: top;\n",
              "    }\n",
              "\n",
              "    .dataframe thead th {\n",
              "        text-align: right;\n",
              "    }\n",
              "</style>\n",
              "<table border=\"1\" class=\"dataframe\">\n",
              "  <thead>\n",
              "    <tr style=\"text-align: right;\">\n",
              "      <th></th>\n",
              "      <th>Country Name</th>\n",
              "      <th>Country Code</th>\n",
              "      <th>Indicator Name</th>\n",
              "      <th>Indicator Code</th>\n",
              "      <th>1960</th>\n",
              "      <th>1961</th>\n",
              "      <th>1962</th>\n",
              "      <th>1963</th>\n",
              "      <th>1964</th>\n",
              "      <th>1965</th>\n",
              "      <th>...</th>\n",
              "      <th>2014</th>\n",
              "      <th>2015</th>\n",
              "      <th>2016</th>\n",
              "      <th>2017</th>\n",
              "      <th>2018</th>\n",
              "      <th>2019</th>\n",
              "      <th>2020</th>\n",
              "      <th>2021</th>\n",
              "      <th>2022</th>\n",
              "      <th>2023</th>\n",
              "    </tr>\n",
              "  </thead>\n",
              "  <tbody>\n",
              "    <tr>\n",
              "      <th>72912</th>\n",
              "      <td>Afghanistan</td>\n",
              "      <td>AFG</td>\n",
              "      <td>Access to clean fuels and technologies for coo...</td>\n",
              "      <td>EG.CFT.ACCS.ZS</td>\n",
              "      <td>NaN</td>\n",
              "      <td>NaN</td>\n",
              "      <td>NaN</td>\n",
              "      <td>NaN</td>\n",
              "      <td>NaN</td>\n",
              "      <td>NaN</td>\n",
              "      <td>...</td>\n",
              "      <td>26.1</td>\n",
              "      <td>27.6</td>\n",
              "      <td>28.8</td>\n",
              "      <td>30.3</td>\n",
              "      <td>31.4</td>\n",
              "      <td>32.6</td>\n",
              "      <td>33.8</td>\n",
              "      <td>34.9</td>\n",
              "      <td>36.1</td>\n",
              "      <td>NaN</td>\n",
              "    </tr>\n",
              "    <tr>\n",
              "      <th>72913</th>\n",
              "      <td>Afghanistan</td>\n",
              "      <td>AFG</td>\n",
              "      <td>Access to clean fuels and technologies for coo...</td>\n",
              "      <td>EG.CFT.ACCS.RU.ZS</td>\n",
              "      <td>NaN</td>\n",
              "      <td>NaN</td>\n",
              "      <td>NaN</td>\n",
              "      <td>NaN</td>\n",
              "      <td>NaN</td>\n",
              "      <td>NaN</td>\n",
              "      <td>...</td>\n",
              "      <td>10.2</td>\n",
              "      <td>11.4</td>\n",
              "      <td>12.6</td>\n",
              "      <td>13.5</td>\n",
              "      <td>14.5</td>\n",
              "      <td>15.6</td>\n",
              "      <td>16.4</td>\n",
              "      <td>17.4</td>\n",
              "      <td>18.5</td>\n",
              "      <td>NaN</td>\n",
              "    </tr>\n",
              "  </tbody>\n",
              "</table>\n",
              "<p>2 rows × 68 columns</p>\n",
              "</div>"
            ],
            "text/plain": [
              "      Country Name Country Code  \\\n",
              "72912  Afghanistan          AFG   \n",
              "72913  Afghanistan          AFG   \n",
              "\n",
              "                                          Indicator Name     Indicator Code  \\\n",
              "72912  Access to clean fuels and technologies for coo...     EG.CFT.ACCS.ZS   \n",
              "72913  Access to clean fuels and technologies for coo...  EG.CFT.ACCS.RU.ZS   \n",
              "\n",
              "       1960  1961  1962  1963  1964  1965  ...  2014  2015  2016  2017  2018  \\\n",
              "72912   NaN   NaN   NaN   NaN   NaN   NaN  ...  26.1  27.6  28.8  30.3  31.4   \n",
              "72913   NaN   NaN   NaN   NaN   NaN   NaN  ...  10.2  11.4  12.6  13.5  14.5   \n",
              "\n",
              "       2019  2020  2021  2022  2023  \n",
              "72912  32.6  33.8  34.9  36.1   NaN  \n",
              "72913  15.6  16.4  17.4  18.5   NaN  \n",
              "\n",
              "[2 rows x 68 columns]"
            ]
          },
          "execution_count": 18,
          "metadata": {},
          "output_type": "execute_result"
        }
      ],
      "source": [
        "wdi.head(2)"
      ]
    },
    {
      "cell_type": "markdown",
      "metadata": {
        "id": "G397_iCQNwGr"
      },
      "source": [
        "**10.** Reset the indexes of **wdi**. Perform this operation in-place."
      ]
    },
    {
      "cell_type": "code",
      "execution_count": 19,
      "metadata": {
        "id": "gVai8du6NwGr"
      },
      "outputs": [],
      "source": [
        "# reset index and keep old index as column\n",
        "wdi.reset_index(inplace=True)"
      ]
    },
    {
      "cell_type": "markdown",
      "metadata": {
        "id": "LqLMC5z0NwGr"
      },
      "source": [
        "**11.** Show that the indexes have been reseted."
      ]
    },
    {
      "cell_type": "code",
      "execution_count": 20,
      "metadata": {
        "id": "OCKevwX5NwGr",
        "scrolled": true
      },
      "outputs": [
        {
          "data": {
            "text/html": [
              "<div>\n",
              "<style scoped>\n",
              "    .dataframe tbody tr th:only-of-type {\n",
              "        vertical-align: middle;\n",
              "    }\n",
              "\n",
              "    .dataframe tbody tr th {\n",
              "        vertical-align: top;\n",
              "    }\n",
              "\n",
              "    .dataframe thead th {\n",
              "        text-align: right;\n",
              "    }\n",
              "</style>\n",
              "<table border=\"1\" class=\"dataframe\">\n",
              "  <thead>\n",
              "    <tr style=\"text-align: right;\">\n",
              "      <th></th>\n",
              "      <th>index</th>\n",
              "      <th>Country Name</th>\n",
              "      <th>Country Code</th>\n",
              "      <th>Indicator Name</th>\n",
              "      <th>Indicator Code</th>\n",
              "      <th>1960</th>\n",
              "      <th>1961</th>\n",
              "      <th>1962</th>\n",
              "      <th>1963</th>\n",
              "      <th>1964</th>\n",
              "      <th>...</th>\n",
              "      <th>2014</th>\n",
              "      <th>2015</th>\n",
              "      <th>2016</th>\n",
              "      <th>2017</th>\n",
              "      <th>2018</th>\n",
              "      <th>2019</th>\n",
              "      <th>2020</th>\n",
              "      <th>2021</th>\n",
              "      <th>2022</th>\n",
              "      <th>2023</th>\n",
              "    </tr>\n",
              "  </thead>\n",
              "  <tbody>\n",
              "    <tr>\n",
              "      <th>0</th>\n",
              "      <td>72912</td>\n",
              "      <td>Afghanistan</td>\n",
              "      <td>AFG</td>\n",
              "      <td>Access to clean fuels and technologies for coo...</td>\n",
              "      <td>EG.CFT.ACCS.ZS</td>\n",
              "      <td>NaN</td>\n",
              "      <td>NaN</td>\n",
              "      <td>NaN</td>\n",
              "      <td>NaN</td>\n",
              "      <td>NaN</td>\n",
              "      <td>...</td>\n",
              "      <td>26.1</td>\n",
              "      <td>27.6</td>\n",
              "      <td>28.8</td>\n",
              "      <td>30.3</td>\n",
              "      <td>31.4</td>\n",
              "      <td>32.6</td>\n",
              "      <td>33.8</td>\n",
              "      <td>34.9</td>\n",
              "      <td>36.1</td>\n",
              "      <td>NaN</td>\n",
              "    </tr>\n",
              "    <tr>\n",
              "      <th>1</th>\n",
              "      <td>72913</td>\n",
              "      <td>Afghanistan</td>\n",
              "      <td>AFG</td>\n",
              "      <td>Access to clean fuels and technologies for coo...</td>\n",
              "      <td>EG.CFT.ACCS.RU.ZS</td>\n",
              "      <td>NaN</td>\n",
              "      <td>NaN</td>\n",
              "      <td>NaN</td>\n",
              "      <td>NaN</td>\n",
              "      <td>NaN</td>\n",
              "      <td>...</td>\n",
              "      <td>10.2</td>\n",
              "      <td>11.4</td>\n",
              "      <td>12.6</td>\n",
              "      <td>13.5</td>\n",
              "      <td>14.5</td>\n",
              "      <td>15.6</td>\n",
              "      <td>16.4</td>\n",
              "      <td>17.4</td>\n",
              "      <td>18.5</td>\n",
              "      <td>NaN</td>\n",
              "    </tr>\n",
              "  </tbody>\n",
              "</table>\n",
              "<p>2 rows × 69 columns</p>\n",
              "</div>"
            ],
            "text/plain": [
              "   index Country Name Country Code  \\\n",
              "0  72912  Afghanistan          AFG   \n",
              "1  72913  Afghanistan          AFG   \n",
              "\n",
              "                                      Indicator Name     Indicator Code  1960  \\\n",
              "0  Access to clean fuels and technologies for coo...     EG.CFT.ACCS.ZS   NaN   \n",
              "1  Access to clean fuels and technologies for coo...  EG.CFT.ACCS.RU.ZS   NaN   \n",
              "\n",
              "   1961  1962  1963  1964  ...  2014  2015  2016  2017  2018  2019  2020  \\\n",
              "0   NaN   NaN   NaN   NaN  ...  26.1  27.6  28.8  30.3  31.4  32.6  33.8   \n",
              "1   NaN   NaN   NaN   NaN  ...  10.2  11.4  12.6  13.5  14.5  15.6  16.4   \n",
              "\n",
              "   2021  2022  2023  \n",
              "0  34.9  36.1   NaN  \n",
              "1  17.4  18.5   NaN  \n",
              "\n",
              "[2 rows x 69 columns]"
            ]
          },
          "execution_count": 20,
          "metadata": {},
          "output_type": "execute_result"
        }
      ],
      "source": [
        "wdi.head(2)"
      ]
    },
    {
      "cell_type": "markdown",
      "metadata": {
        "id": "qVCapVlJNwGr"
      },
      "source": [
        "*Note that when reseting the index, pandas appends a new column at the begining of the data frame, which holds the previous index values.*"
      ]
    },
    {
      "cell_type": "markdown",
      "metadata": {
        "id": "0WWu5qB6NwGr"
      },
      "source": [
        "## Indicator Codes and Indicator Names\n",
        "\n",
        "**12.** Select the columns 'Indicator Name' and 'Indicator Code'.Then, delete all the duplicates, and print the top 5 and bottom 5 values. <br/>\n",
        "\n",
        "*Note: You should be able to do everything in a single line of code for the top 5 values and a single line for the bottom 5 values.*"
      ]
    },
    {
      "cell_type": "code",
      "execution_count": 21,
      "metadata": {
        "id": "Z3ISJz_pAZVl"
      },
      "outputs": [
        {
          "data": {
            "text/html": [
              "<div>\n",
              "<style scoped>\n",
              "    .dataframe tbody tr th:only-of-type {\n",
              "        vertical-align: middle;\n",
              "    }\n",
              "\n",
              "    .dataframe tbody tr th {\n",
              "        vertical-align: top;\n",
              "    }\n",
              "\n",
              "    .dataframe thead th {\n",
              "        text-align: right;\n",
              "    }\n",
              "</style>\n",
              "<table border=\"1\" class=\"dataframe\">\n",
              "  <thead>\n",
              "    <tr style=\"text-align: right;\">\n",
              "      <th></th>\n",
              "      <th>Indicator Name</th>\n",
              "      <th>Indicator Code</th>\n",
              "    </tr>\n",
              "  </thead>\n",
              "  <tbody>\n",
              "    <tr>\n",
              "      <th>0</th>\n",
              "      <td>Access to clean fuels and technologies for coo...</td>\n",
              "      <td>EG.CFT.ACCS.ZS</td>\n",
              "    </tr>\n",
              "    <tr>\n",
              "      <th>1</th>\n",
              "      <td>Access to clean fuels and technologies for coo...</td>\n",
              "      <td>EG.CFT.ACCS.RU.ZS</td>\n",
              "    </tr>\n",
              "    <tr>\n",
              "      <th>2</th>\n",
              "      <td>Access to clean fuels and technologies for coo...</td>\n",
              "      <td>EG.CFT.ACCS.UR.ZS</td>\n",
              "    </tr>\n",
              "    <tr>\n",
              "      <th>3</th>\n",
              "      <td>Access to electricity (% of population)</td>\n",
              "      <td>EG.ELC.ACCS.ZS</td>\n",
              "    </tr>\n",
              "    <tr>\n",
              "      <th>4</th>\n",
              "      <td>Access to electricity, rural (% of rural popul...</td>\n",
              "      <td>EG.ELC.ACCS.RU.ZS</td>\n",
              "    </tr>\n",
              "    <tr>\n",
              "      <th>...</th>\n",
              "      <td>...</td>\n",
              "      <td>...</td>\n",
              "    </tr>\n",
              "    <tr>\n",
              "      <th>1483</th>\n",
              "      <td>Women who believe a husband is justified in be...</td>\n",
              "      <td>SG.VAW.REFU.ZS</td>\n",
              "    </tr>\n",
              "    <tr>\n",
              "      <th>1484</th>\n",
              "      <td>Women who were first married by age 15 (% of w...</td>\n",
              "      <td>SP.M15.2024.FE.ZS</td>\n",
              "    </tr>\n",
              "    <tr>\n",
              "      <th>1485</th>\n",
              "      <td>Women who were first married by age 18 (% of w...</td>\n",
              "      <td>SP.M18.2024.FE.ZS</td>\n",
              "    </tr>\n",
              "    <tr>\n",
              "      <th>1486</th>\n",
              "      <td>Women's share of population ages 15+ living wi...</td>\n",
              "      <td>SH.DYN.AIDS.FE.ZS</td>\n",
              "    </tr>\n",
              "    <tr>\n",
              "      <th>1487</th>\n",
              "      <td>Young people (ages 15-24) newly infected with HIV</td>\n",
              "      <td>SH.HIV.INCD.YG</td>\n",
              "    </tr>\n",
              "  </tbody>\n",
              "</table>\n",
              "<p>1488 rows × 2 columns</p>\n",
              "</div>"
            ],
            "text/plain": [
              "                                         Indicator Name     Indicator Code\n",
              "0     Access to clean fuels and technologies for coo...     EG.CFT.ACCS.ZS\n",
              "1     Access to clean fuels and technologies for coo...  EG.CFT.ACCS.RU.ZS\n",
              "2     Access to clean fuels and technologies for coo...  EG.CFT.ACCS.UR.ZS\n",
              "3               Access to electricity (% of population)     EG.ELC.ACCS.ZS\n",
              "4     Access to electricity, rural (% of rural popul...  EG.ELC.ACCS.RU.ZS\n",
              "...                                                 ...                ...\n",
              "1483  Women who believe a husband is justified in be...     SG.VAW.REFU.ZS\n",
              "1484  Women who were first married by age 15 (% of w...  SP.M15.2024.FE.ZS\n",
              "1485  Women who were first married by age 18 (% of w...  SP.M18.2024.FE.ZS\n",
              "1486  Women's share of population ages 15+ living wi...  SH.DYN.AIDS.FE.ZS\n",
              "1487  Young people (ages 15-24) newly infected with HIV     SH.HIV.INCD.YG\n",
              "\n",
              "[1488 rows x 2 columns]"
            ]
          },
          "execution_count": 21,
          "metadata": {},
          "output_type": "execute_result"
        }
      ],
      "source": [
        "# Drop duplicate rows based on 'Indicator Name' and 'Indicator Code' columns\n",
        "\n",
        "wdi[['Indicator Name', 'Indicator Code']].drop_duplicates()"
      ]
    },
    {
      "cell_type": "markdown",
      "metadata": {
        "id": "YDkKM4-dNwGw"
      },
      "source": [
        "**13.** Create a new DataFrame named **indicators** made up of the columns 'Indicator Name' and 'Indicator Code'. Then, delete all the duplicated entries. Finally, set the column 'Indicator Code' as the index of **indicators**.\n",
        "\n",
        "*Note: Try to perform all these steps in a single line of code.*"
      ]
    },
    {
      "cell_type": "code",
      "execution_count": 22,
      "metadata": {
        "id": "2ToE9cRmNwGw"
      },
      "outputs": [
        {
          "data": {
            "text/html": [
              "<div>\n",
              "<style scoped>\n",
              "    .dataframe tbody tr th:only-of-type {\n",
              "        vertical-align: middle;\n",
              "    }\n",
              "\n",
              "    .dataframe tbody tr th {\n",
              "        vertical-align: top;\n",
              "    }\n",
              "\n",
              "    .dataframe thead th {\n",
              "        text-align: right;\n",
              "    }\n",
              "</style>\n",
              "<table border=\"1\" class=\"dataframe\">\n",
              "  <thead>\n",
              "    <tr style=\"text-align: right;\">\n",
              "      <th></th>\n",
              "      <th>Indicator Name</th>\n",
              "    </tr>\n",
              "    <tr>\n",
              "      <th>Indicator Code</th>\n",
              "      <th></th>\n",
              "    </tr>\n",
              "  </thead>\n",
              "  <tbody>\n",
              "    <tr>\n",
              "      <th>EG.CFT.ACCS.ZS</th>\n",
              "      <td>Access to clean fuels and technologies for coo...</td>\n",
              "    </tr>\n",
              "    <tr>\n",
              "      <th>EG.CFT.ACCS.RU.ZS</th>\n",
              "      <td>Access to clean fuels and technologies for coo...</td>\n",
              "    </tr>\n",
              "    <tr>\n",
              "      <th>EG.CFT.ACCS.UR.ZS</th>\n",
              "      <td>Access to clean fuels and technologies for coo...</td>\n",
              "    </tr>\n",
              "    <tr>\n",
              "      <th>EG.ELC.ACCS.ZS</th>\n",
              "      <td>Access to electricity (% of population)</td>\n",
              "    </tr>\n",
              "    <tr>\n",
              "      <th>EG.ELC.ACCS.RU.ZS</th>\n",
              "      <td>Access to electricity, rural (% of rural popul...</td>\n",
              "    </tr>\n",
              "    <tr>\n",
              "      <th>...</th>\n",
              "      <td>...</td>\n",
              "    </tr>\n",
              "    <tr>\n",
              "      <th>SG.VAW.REFU.ZS</th>\n",
              "      <td>Women who believe a husband is justified in be...</td>\n",
              "    </tr>\n",
              "    <tr>\n",
              "      <th>SP.M15.2024.FE.ZS</th>\n",
              "      <td>Women who were first married by age 15 (% of w...</td>\n",
              "    </tr>\n",
              "    <tr>\n",
              "      <th>SP.M18.2024.FE.ZS</th>\n",
              "      <td>Women who were first married by age 18 (% of w...</td>\n",
              "    </tr>\n",
              "    <tr>\n",
              "      <th>SH.DYN.AIDS.FE.ZS</th>\n",
              "      <td>Women's share of population ages 15+ living wi...</td>\n",
              "    </tr>\n",
              "    <tr>\n",
              "      <th>SH.HIV.INCD.YG</th>\n",
              "      <td>Young people (ages 15-24) newly infected with HIV</td>\n",
              "    </tr>\n",
              "  </tbody>\n",
              "</table>\n",
              "<p>1488 rows × 1 columns</p>\n",
              "</div>"
            ],
            "text/plain": [
              "                                                      Indicator Name\n",
              "Indicator Code                                                      \n",
              "EG.CFT.ACCS.ZS     Access to clean fuels and technologies for coo...\n",
              "EG.CFT.ACCS.RU.ZS  Access to clean fuels and technologies for coo...\n",
              "EG.CFT.ACCS.UR.ZS  Access to clean fuels and technologies for coo...\n",
              "EG.ELC.ACCS.ZS               Access to electricity (% of population)\n",
              "EG.ELC.ACCS.RU.ZS  Access to electricity, rural (% of rural popul...\n",
              "...                                                              ...\n",
              "SG.VAW.REFU.ZS     Women who believe a husband is justified in be...\n",
              "SP.M15.2024.FE.ZS  Women who were first married by age 15 (% of w...\n",
              "SP.M18.2024.FE.ZS  Women who were first married by age 18 (% of w...\n",
              "SH.DYN.AIDS.FE.ZS  Women's share of population ages 15+ living wi...\n",
              "SH.HIV.INCD.YG     Young people (ages 15-24) newly infected with HIV\n",
              "\n",
              "[1488 rows x 1 columns]"
            ]
          },
          "execution_count": 22,
          "metadata": {},
          "output_type": "execute_result"
        }
      ],
      "source": [
        "# Remove duplicates from 'Indicator Name' and 'Indicator Code', then set 'Indicator Code' as the index\n",
        "\n",
        "indicators = wdi[['Indicator Name', 'Indicator Code']].drop_duplicates().set_index('Indicator Code')\n",
        "indicators"
      ]
    },
    {
      "cell_type": "markdown",
      "metadata": {
        "id": "GgPhhfCrNwGw"
      },
      "source": [
        "**The 'indicators' DataFrame can operate now as a dictionary. <br/>**\n",
        "By passing an 'Indicator Code' (key) it returns the associated 'Indicator Name' (value).<br/>\n",
        "\n",
        "**14.** Using the **indicators** DataFrame, find the 'Indicator Code' associated with the following observables:\n",
        "1. 'Population', find the 'Indicator Code' of the total population in a country;\n",
        "2. 'GDP', find the GDP measured in current US Dollars;\n",
        "3. 'GINI index'\n",
        "\n",
        "*Hint: You can use the method STRING.str.contains('substring') to check whether a string contains a substring.*"
      ]
    },
    {
      "cell_type": "code",
      "execution_count": 23,
      "metadata": {
        "id": "bBme5Ag5f_FJ"
      },
      "outputs": [
        {
          "data": {
            "text/html": [
              "<div>\n",
              "<style scoped>\n",
              "    .dataframe tbody tr th:only-of-type {\n",
              "        vertical-align: middle;\n",
              "    }\n",
              "\n",
              "    .dataframe tbody tr th {\n",
              "        vertical-align: top;\n",
              "    }\n",
              "\n",
              "    .dataframe thead th {\n",
              "        text-align: right;\n",
              "    }\n",
              "</style>\n",
              "<table border=\"1\" class=\"dataframe\">\n",
              "  <thead>\n",
              "    <tr style=\"text-align: right;\">\n",
              "      <th></th>\n",
              "      <th>Indicator Name</th>\n",
              "    </tr>\n",
              "    <tr>\n",
              "      <th>Indicator Code</th>\n",
              "      <th></th>\n",
              "    </tr>\n",
              "  </thead>\n",
              "  <tbody>\n",
              "    <tr>\n",
              "      <th>SP.POP.TOTL</th>\n",
              "      <td>Population, total</td>\n",
              "    </tr>\n",
              "  </tbody>\n",
              "</table>\n",
              "</div>"
            ],
            "text/plain": [
              "                   Indicator Name\n",
              "Indicator Code                   \n",
              "SP.POP.TOTL     Population, total"
            ]
          },
          "execution_count": 23,
          "metadata": {},
          "output_type": "execute_result"
        }
      ],
      "source": [
        "# Filter rows where 'Indicator Name' is 'Population, total'\n",
        "# We can see that the indicator code for 'Population, total' is 'SP.POP.TOTL'\n",
        "indicators[indicators['Indicator Name'] == 'Population, total']"
      ]
    },
    {
      "cell_type": "code",
      "execution_count": 24,
      "metadata": {
        "id": "ngDRucUfjDdZ"
      },
      "outputs": [
        {
          "data": {
            "text/html": [
              "<div>\n",
              "<style scoped>\n",
              "    .dataframe tbody tr th:only-of-type {\n",
              "        vertical-align: middle;\n",
              "    }\n",
              "\n",
              "    .dataframe tbody tr th {\n",
              "        vertical-align: top;\n",
              "    }\n",
              "\n",
              "    .dataframe thead th {\n",
              "        text-align: right;\n",
              "    }\n",
              "</style>\n",
              "<table border=\"1\" class=\"dataframe\">\n",
              "  <thead>\n",
              "    <tr style=\"text-align: right;\">\n",
              "      <th></th>\n",
              "      <th>Indicator Name</th>\n",
              "    </tr>\n",
              "    <tr>\n",
              "      <th>Indicator Code</th>\n",
              "      <th></th>\n",
              "    </tr>\n",
              "  </thead>\n",
              "  <tbody>\n",
              "    <tr>\n",
              "      <th>NY.GDP.MKTP.CD</th>\n",
              "      <td>GDP (current US$)</td>\n",
              "    </tr>\n",
              "  </tbody>\n",
              "</table>\n",
              "</div>"
            ],
            "text/plain": [
              "                   Indicator Name\n",
              "Indicator Code                   \n",
              "NY.GDP.MKTP.CD  GDP (current US$)"
            ]
          },
          "execution_count": 24,
          "metadata": {},
          "output_type": "execute_result"
        }
      ],
      "source": [
        "# Filter rows where 'Indicator Name' is 'GDP (current US$)'\n",
        "# We can see that indicator code for GDP (current US$) is NY.GDP.MKTP.CD\n",
        "indicators[indicators['Indicator Name'] == 'GDP (current US$)']"
      ]
    },
    {
      "cell_type": "code",
      "execution_count": 25,
      "metadata": {
        "id": "8elqfRM3NwGw"
      },
      "outputs": [
        {
          "data": {
            "text/html": [
              "<div>\n",
              "<style scoped>\n",
              "    .dataframe tbody tr th:only-of-type {\n",
              "        vertical-align: middle;\n",
              "    }\n",
              "\n",
              "    .dataframe tbody tr th {\n",
              "        vertical-align: top;\n",
              "    }\n",
              "\n",
              "    .dataframe thead th {\n",
              "        text-align: right;\n",
              "    }\n",
              "</style>\n",
              "<table border=\"1\" class=\"dataframe\">\n",
              "  <thead>\n",
              "    <tr style=\"text-align: right;\">\n",
              "      <th></th>\n",
              "      <th>Indicator Name</th>\n",
              "    </tr>\n",
              "    <tr>\n",
              "      <th>Indicator Code</th>\n",
              "      <th></th>\n",
              "    </tr>\n",
              "  </thead>\n",
              "  <tbody>\n",
              "    <tr>\n",
              "      <th>SI.POV.GINI</th>\n",
              "      <td>Gini index</td>\n",
              "    </tr>\n",
              "  </tbody>\n",
              "</table>\n",
              "</div>"
            ],
            "text/plain": [
              "               Indicator Name\n",
              "Indicator Code               \n",
              "SI.POV.GINI        Gini index"
            ]
          },
          "execution_count": 25,
          "metadata": {},
          "output_type": "execute_result"
        }
      ],
      "source": [
        "# Filter rows where 'Indicator Name' is 'gini index'\n",
        "# We can see that the indicator name is 'Gini index' and the indicator code is 'SI.POV.GINI'\n",
        "\n",
        "indicators[indicators['Indicator Name']== 'Gini index']"
      ]
    },
    {
      "cell_type": "markdown",
      "metadata": {
        "id": "wRjyOvEeNwGx"
      },
      "source": [
        "## Extracting and Cleaning Data from WDI and PWT\n",
        "\n",
        "**15.** From **wdi** extract the columns 'Indicator Code', 'Country Code', and '2012'.\n",
        "Save the output in variable **wdi_sample**.\n",
        "\n",
        "*Note: You should be able to perfom all operations in a single line of code. <br/>*"
      ]
    },
    {
      "cell_type": "code",
      "execution_count": 26,
      "metadata": {
        "id": "pqMydOQSNwGx"
      },
      "outputs": [],
      "source": [
        "# Select the 'Indicator Code', 'Country Code', and '2012' columns from the 'wdi' DataFrame\n",
        "wdi_sample = wdi[['Indicator Code', 'Country Code', '2012']]"
      ]
    },
    {
      "cell_type": "code",
      "execution_count": 27,
      "metadata": {
        "id": "T4BXDqGekUfl"
      },
      "outputs": [
        {
          "data": {
            "text/html": [
              "<div>\n",
              "<style scoped>\n",
              "    .dataframe tbody tr th:only-of-type {\n",
              "        vertical-align: middle;\n",
              "    }\n",
              "\n",
              "    .dataframe tbody tr th {\n",
              "        vertical-align: top;\n",
              "    }\n",
              "\n",
              "    .dataframe thead th {\n",
              "        text-align: right;\n",
              "    }\n",
              "</style>\n",
              "<table border=\"1\" class=\"dataframe\">\n",
              "  <thead>\n",
              "    <tr style=\"text-align: right;\">\n",
              "      <th></th>\n",
              "      <th>Indicator Code</th>\n",
              "      <th>Country Code</th>\n",
              "      <th>2012</th>\n",
              "    </tr>\n",
              "  </thead>\n",
              "  <tbody>\n",
              "    <tr>\n",
              "      <th>0</th>\n",
              "      <td>EG.CFT.ACCS.ZS</td>\n",
              "      <td>AFG</td>\n",
              "      <td>22.900000</td>\n",
              "    </tr>\n",
              "    <tr>\n",
              "      <th>1</th>\n",
              "      <td>EG.CFT.ACCS.RU.ZS</td>\n",
              "      <td>AFG</td>\n",
              "      <td>8.000000</td>\n",
              "    </tr>\n",
              "    <tr>\n",
              "      <th>2</th>\n",
              "      <td>EG.CFT.ACCS.UR.ZS</td>\n",
              "      <td>AFG</td>\n",
              "      <td>74.300000</td>\n",
              "    </tr>\n",
              "    <tr>\n",
              "      <th>3</th>\n",
              "      <td>EG.ELC.ACCS.ZS</td>\n",
              "      <td>AFG</td>\n",
              "      <td>69.100000</td>\n",
              "    </tr>\n",
              "    <tr>\n",
              "      <th>4</th>\n",
              "      <td>EG.ELC.ACCS.RU.ZS</td>\n",
              "      <td>AFG</td>\n",
              "      <td>60.800000</td>\n",
              "    </tr>\n",
              "    <tr>\n",
              "      <th>...</th>\n",
              "      <td>...</td>\n",
              "      <td>...</td>\n",
              "      <td>...</td>\n",
              "    </tr>\n",
              "    <tr>\n",
              "      <th>322891</th>\n",
              "      <td>SG.VAW.REFU.ZS</td>\n",
              "      <td>ZWE</td>\n",
              "      <td>NaN</td>\n",
              "    </tr>\n",
              "    <tr>\n",
              "      <th>322892</th>\n",
              "      <td>SP.M15.2024.FE.ZS</td>\n",
              "      <td>ZWE</td>\n",
              "      <td>NaN</td>\n",
              "    </tr>\n",
              "    <tr>\n",
              "      <th>322893</th>\n",
              "      <td>SP.M18.2024.FE.ZS</td>\n",
              "      <td>ZWE</td>\n",
              "      <td>NaN</td>\n",
              "    </tr>\n",
              "    <tr>\n",
              "      <th>322894</th>\n",
              "      <td>SH.DYN.AIDS.FE.ZS</td>\n",
              "      <td>ZWE</td>\n",
              "      <td>59.241862</td>\n",
              "    </tr>\n",
              "    <tr>\n",
              "      <th>322895</th>\n",
              "      <td>SH.HIV.INCD.YG</td>\n",
              "      <td>ZWE</td>\n",
              "      <td>21000.000000</td>\n",
              "    </tr>\n",
              "  </tbody>\n",
              "</table>\n",
              "<p>322896 rows × 3 columns</p>\n",
              "</div>"
            ],
            "text/plain": [
              "           Indicator Code Country Code          2012\n",
              "0          EG.CFT.ACCS.ZS          AFG     22.900000\n",
              "1       EG.CFT.ACCS.RU.ZS          AFG      8.000000\n",
              "2       EG.CFT.ACCS.UR.ZS          AFG     74.300000\n",
              "3          EG.ELC.ACCS.ZS          AFG     69.100000\n",
              "4       EG.ELC.ACCS.RU.ZS          AFG     60.800000\n",
              "...                   ...          ...           ...\n",
              "322891     SG.VAW.REFU.ZS          ZWE           NaN\n",
              "322892  SP.M15.2024.FE.ZS          ZWE           NaN\n",
              "322893  SP.M18.2024.FE.ZS          ZWE           NaN\n",
              "322894  SH.DYN.AIDS.FE.ZS          ZWE     59.241862\n",
              "322895     SH.HIV.INCD.YG          ZWE  21000.000000\n",
              "\n",
              "[322896 rows x 3 columns]"
            ]
          },
          "execution_count": 27,
          "metadata": {},
          "output_type": "execute_result"
        }
      ],
      "source": [
        "wdi_sample"
      ]
    },
    {
      "cell_type": "markdown",
      "metadata": {
        "id": "SmOdLVtuNwGx"
      },
      "source": [
        "**16.** Select from **wdi_sample** the lines associated with the Indicator Codes that you found in question 14., which concern the data of the 'Population total','GDP', and 'GINI index'."
      ]
    },
    {
      "cell_type": "code",
      "execution_count": 28,
      "metadata": {
        "id": "gWG3oq0MNwGx"
      },
      "outputs": [
        {
          "data": {
            "text/html": [
              "<div>\n",
              "<style scoped>\n",
              "    .dataframe tbody tr th:only-of-type {\n",
              "        vertical-align: middle;\n",
              "    }\n",
              "\n",
              "    .dataframe tbody tr th {\n",
              "        vertical-align: top;\n",
              "    }\n",
              "\n",
              "    .dataframe thead th {\n",
              "        text-align: right;\n",
              "    }\n",
              "</style>\n",
              "<table border=\"1\" class=\"dataframe\">\n",
              "  <thead>\n",
              "    <tr style=\"text-align: right;\">\n",
              "      <th></th>\n",
              "      <th>Indicator Code</th>\n",
              "      <th>Country Code</th>\n",
              "      <th>2012</th>\n",
              "    </tr>\n",
              "  </thead>\n",
              "  <tbody>\n",
              "    <tr>\n",
              "      <th>473</th>\n",
              "      <td>NY.GDP.MKTP.CD</td>\n",
              "      <td>AFG</td>\n",
              "      <td>19,907,329,778</td>\n",
              "    </tr>\n",
              "    <tr>\n",
              "      <th>497</th>\n",
              "      <td>SI.POV.GINI</td>\n",
              "      <td>AFG</td>\n",
              "      <td>NaN</td>\n",
              "    </tr>\n",
              "    <tr>\n",
              "      <th>1080</th>\n",
              "      <td>SP.POP.TOTL</td>\n",
              "      <td>AFG</td>\n",
              "      <td>30,466,479</td>\n",
              "    </tr>\n",
              "    <tr>\n",
              "      <th>1961</th>\n",
              "      <td>NY.GDP.MKTP.CD</td>\n",
              "      <td>ALB</td>\n",
              "      <td>12,319,834,195</td>\n",
              "    </tr>\n",
              "    <tr>\n",
              "      <th>1985</th>\n",
              "      <td>SI.POV.GINI</td>\n",
              "      <td>ALB</td>\n",
              "      <td>29.00</td>\n",
              "    </tr>\n",
              "    <tr>\n",
              "      <th>...</th>\n",
              "      <td>...</td>\n",
              "      <td>...</td>\n",
              "      <td>...</td>\n",
              "    </tr>\n",
              "    <tr>\n",
              "      <th>320417</th>\n",
              "      <td>SI.POV.GINI</td>\n",
              "      <td>ZMB</td>\n",
              "      <td>NaN</td>\n",
              "    </tr>\n",
              "    <tr>\n",
              "      <th>321000</th>\n",
              "      <td>SP.POP.TOTL</td>\n",
              "      <td>ZMB</td>\n",
              "      <td>14,744,658</td>\n",
              "    </tr>\n",
              "    <tr>\n",
              "      <th>321881</th>\n",
              "      <td>NY.GDP.MKTP.CD</td>\n",
              "      <td>ZWE</td>\n",
              "      <td>17,114,849,900</td>\n",
              "    </tr>\n",
              "    <tr>\n",
              "      <th>321905</th>\n",
              "      <td>SI.POV.GINI</td>\n",
              "      <td>ZWE</td>\n",
              "      <td>NaN</td>\n",
              "    </tr>\n",
              "    <tr>\n",
              "      <th>322488</th>\n",
              "      <td>SP.POP.TOTL</td>\n",
              "      <td>ZWE</td>\n",
              "      <td>13,265,331</td>\n",
              "    </tr>\n",
              "  </tbody>\n",
              "</table>\n",
              "<p>651 rows × 3 columns</p>\n",
              "</div>"
            ],
            "text/plain": [
              "        Indicator Code Country Code           2012\n",
              "473     NY.GDP.MKTP.CD          AFG 19,907,329,778\n",
              "497        SI.POV.GINI          AFG            NaN\n",
              "1080       SP.POP.TOTL          AFG     30,466,479\n",
              "1961    NY.GDP.MKTP.CD          ALB 12,319,834,195\n",
              "1985       SI.POV.GINI          ALB          29.00\n",
              "...                ...          ...            ...\n",
              "320417     SI.POV.GINI          ZMB            NaN\n",
              "321000     SP.POP.TOTL          ZMB     14,744,658\n",
              "321881  NY.GDP.MKTP.CD          ZWE 17,114,849,900\n",
              "321905     SI.POV.GINI          ZWE            NaN\n",
              "322488     SP.POP.TOTL          ZWE     13,265,331\n",
              "\n",
              "[651 rows x 3 columns]"
            ]
          },
          "execution_count": 28,
          "metadata": {},
          "output_type": "execute_result"
        }
      ],
      "source": [
        "# Set display format for floating-point numbers, showing large numbers with commas and smaller ones with 2 decimal places\n",
        "\n",
        "pd.set_option('display.float_format', lambda x: f'{x:,.0f}' if abs(x) > 1e6 else f'{x:.2f}')\n",
        "\n",
        "# Filter 'wdi_sample' to include only rows where 'Indicator Code' is one of the specified codes\n",
        "# SP.POP.TOTL\n",
        "# NY.GDP.MKTP.CD\n",
        "# SI.POV.GINI\n",
        "wdi_sample = wdi_sample[wdi_sample['Indicator Code'].isin(['SP.POP.TOTL', 'NY.GDP.MKTP.CD', 'SI.POV.GINI'])]\n",
        "\n",
        "# Convert the '2012' column to numeric, handling non-numeric values if needed (optional: use 'errors=coerce' to handle conversion errors)\n",
        "\n",
        "wdi_sample.loc[:,'2012'] = pd.to_numeric(wdi_sample['2012'])\n",
        "\n",
        "\n",
        "wdi_sample"
      ]
    },
    {
      "cell_type": "markdown",
      "metadata": {
        "id": "wkCqhDNqNwGx"
      },
      "source": [
        "**17.** Create a pivot table, in which the **values** are column '2012', the **index** is 'Country Code', and the **columns** are the Indicator Codes. <br/>\n",
        "\n",
        "*Hint: Pandas has a very useful method to create pivot tables.*"
      ]
    },
    {
      "cell_type": "code",
      "execution_count": 29,
      "metadata": {
        "id": "ajHyncr8NwGx",
        "scrolled": true
      },
      "outputs": [
        {
          "data": {
            "text/html": [
              "<div>\n",
              "<style scoped>\n",
              "    .dataframe tbody tr th:only-of-type {\n",
              "        vertical-align: middle;\n",
              "    }\n",
              "\n",
              "    .dataframe tbody tr th {\n",
              "        vertical-align: top;\n",
              "    }\n",
              "\n",
              "    .dataframe thead th {\n",
              "        text-align: right;\n",
              "    }\n",
              "</style>\n",
              "<table border=\"1\" class=\"dataframe\">\n",
              "  <thead>\n",
              "    <tr style=\"text-align: right;\">\n",
              "      <th>Indicator Code</th>\n",
              "      <th>NY.GDP.MKTP.CD</th>\n",
              "      <th>SI.POV.GINI</th>\n",
              "      <th>SP.POP.TOTL</th>\n",
              "    </tr>\n",
              "    <tr>\n",
              "      <th>Country Code</th>\n",
              "      <th></th>\n",
              "      <th></th>\n",
              "      <th></th>\n",
              "    </tr>\n",
              "  </thead>\n",
              "  <tbody>\n",
              "    <tr>\n",
              "      <th>ABW</th>\n",
              "      <td>2,615,208,380</td>\n",
              "      <td>NaN</td>\n",
              "      <td>102112.00</td>\n",
              "    </tr>\n",
              "    <tr>\n",
              "      <th>AFG</th>\n",
              "      <td>19,907,329,778</td>\n",
              "      <td>NaN</td>\n",
              "      <td>30,466,479</td>\n",
              "    </tr>\n",
              "    <tr>\n",
              "      <th>AGO</th>\n",
              "      <td>128,052,915,766</td>\n",
              "      <td>NaN</td>\n",
              "      <td>25,188,292</td>\n",
              "    </tr>\n",
              "    <tr>\n",
              "      <th>ALB</th>\n",
              "      <td>12,319,834,195</td>\n",
              "      <td>29.00</td>\n",
              "      <td>2,900,401</td>\n",
              "    </tr>\n",
              "    <tr>\n",
              "      <th>AND</th>\n",
              "      <td>3,188,652,765</td>\n",
              "      <td>NaN</td>\n",
              "      <td>71013.00</td>\n",
              "    </tr>\n",
              "    <tr>\n",
              "      <th>...</th>\n",
              "      <td>...</td>\n",
              "      <td>...</td>\n",
              "      <td>...</td>\n",
              "    </tr>\n",
              "    <tr>\n",
              "      <th>XKX</th>\n",
              "      <td>6,163,484,245</td>\n",
              "      <td>29.00</td>\n",
              "      <td>1,807,106</td>\n",
              "    </tr>\n",
              "    <tr>\n",
              "      <th>YEM</th>\n",
              "      <td>35,401,331,610</td>\n",
              "      <td>NaN</td>\n",
              "      <td>26,223,391</td>\n",
              "    </tr>\n",
              "    <tr>\n",
              "      <th>ZAF</th>\n",
              "      <td>434,400,545,086</td>\n",
              "      <td>NaN</td>\n",
              "      <td>53,145,033</td>\n",
              "    </tr>\n",
              "    <tr>\n",
              "      <th>ZMB</th>\n",
              "      <td>25,503,060,420</td>\n",
              "      <td>NaN</td>\n",
              "      <td>14,744,658</td>\n",
              "    </tr>\n",
              "    <tr>\n",
              "      <th>ZWE</th>\n",
              "      <td>17,114,849,900</td>\n",
              "      <td>NaN</td>\n",
              "      <td>13,265,331</td>\n",
              "    </tr>\n",
              "  </tbody>\n",
              "</table>\n",
              "<p>217 rows × 3 columns</p>\n",
              "</div>"
            ],
            "text/plain": [
              "Indicator Code  NY.GDP.MKTP.CD  SI.POV.GINI  SP.POP.TOTL\n",
              "Country Code                                            \n",
              "ABW              2,615,208,380          NaN    102112.00\n",
              "AFG             19,907,329,778          NaN   30,466,479\n",
              "AGO            128,052,915,766          NaN   25,188,292\n",
              "ALB             12,319,834,195        29.00    2,900,401\n",
              "AND              3,188,652,765          NaN     71013.00\n",
              "...                        ...          ...          ...\n",
              "XKX              6,163,484,245        29.00    1,807,106\n",
              "YEM             35,401,331,610          NaN   26,223,391\n",
              "ZAF            434,400,545,086          NaN   53,145,033\n",
              "ZMB             25,503,060,420          NaN   14,744,658\n",
              "ZWE             17,114,849,900          NaN   13,265,331\n",
              "\n",
              "[217 rows x 3 columns]"
            ]
          },
          "execution_count": 29,
          "metadata": {},
          "output_type": "execute_result"
        }
      ],
      "source": [
        "# Create a pivot table, in which the values are column '2012', the index is 'Country Code', and the columns are the Indicator Codes\n",
        "wdi_sample = wdi_sample.pivot_table(values='2012', index='Country Code', columns='Indicator Code')\n",
        "wdi_sample"
      ]
    },
    {
      "cell_type": "markdown",
      "metadata": {
        "id": "zOqkPmBQNwGx"
      },
      "source": [
        "**18.** Rename the column names of **wdi_sample** to 'Population', 'GDP', and 'GINI', accordingly."
      ]
    },
    {
      "cell_type": "code",
      "execution_count": 30,
      "metadata": {
        "id": "sZ_jBP07NwGx"
      },
      "outputs": [],
      "source": [
        "# Rename the column names of wdi_sample to 'Population', 'GDP', and 'GINI'\n",
        "wdi_sample.columns = ['GDP', 'GINI', 'Population']\n"
      ]
    },
    {
      "cell_type": "markdown",
      "metadata": {
        "id": "7i9_Ywp2NwGx"
      },
      "source": [
        "**19.** From **pwt** select only the values of the year 2012. <br/>\n",
        "Then, extract the columns 'countrycode' and 'hc' into a new variable **pwt_sample**. <br/>\n",
        "Rename 'countrycode' to 'Country Code', so that it matches the same column in **wdi_sample**<br/>\n",
        "\n",
        "*Note: in this case 'hc' stands for the Human Capital Index.<br/>*"
      ]
    },
    {
      "cell_type": "code",
      "execution_count": 31,
      "metadata": {
        "id": "_vxX3UY4mhbY"
      },
      "outputs": [
        {
          "name": "stdout",
          "output_type": "stream",
          "text": [
            "Index(['Country Code', 'hc'], dtype='object')\n",
            "182\n"
          ]
        }
      ],
      "source": [
        "# Filter the 'pwt' DataFrame for rows where 'year' is 2012 and select the 'countrycode' and 'hc' columns\n",
        "\n",
        "pwt_sample = pwt[pwt['year'] == 2012][['countrycode', 'hc']]\n",
        "\n",
        "# Rename 'countrycode' to 'Country Code', so that it matches the same column in wdi_sample\n",
        "pwt_sample.rename(columns={'countrycode': 'Country Code'}, inplace=True)\n",
        "\n",
        "# Print the column names of 'pwt_sample' and the number of rows in it\n",
        "\n",
        "print(pwt_sample.columns)\n",
        "\n",
        "# Print the number of rows in pwt sample\n",
        "print(len(pwt_sample))\n"
      ]
    },
    {
      "cell_type": "code",
      "execution_count": 32,
      "metadata": {
        "id": "BOUY-b-koKQc"
      },
      "outputs": [
        {
          "data": {
            "text/html": [
              "<div>\n",
              "<style scoped>\n",
              "    .dataframe tbody tr th:only-of-type {\n",
              "        vertical-align: middle;\n",
              "    }\n",
              "\n",
              "    .dataframe tbody tr th {\n",
              "        vertical-align: top;\n",
              "    }\n",
              "\n",
              "    .dataframe thead th {\n",
              "        text-align: right;\n",
              "    }\n",
              "</style>\n",
              "<table border=\"1\" class=\"dataframe\">\n",
              "  <thead>\n",
              "    <tr style=\"text-align: right;\">\n",
              "      <th></th>\n",
              "      <th>Country Code</th>\n",
              "      <th>hc</th>\n",
              "    </tr>\n",
              "  </thead>\n",
              "  <tbody>\n",
              "    <tr>\n",
              "      <th>62</th>\n",
              "      <td>ABW</td>\n",
              "      <td>NaN</td>\n",
              "    </tr>\n",
              "    <tr>\n",
              "      <th>127</th>\n",
              "      <td>AGO</td>\n",
              "      <td>1.43</td>\n",
              "    </tr>\n",
              "    <tr>\n",
              "      <th>192</th>\n",
              "      <td>AIA</td>\n",
              "      <td>NaN</td>\n",
              "    </tr>\n",
              "    <tr>\n",
              "      <th>257</th>\n",
              "      <td>ALB</td>\n",
              "      <td>2.92</td>\n",
              "    </tr>\n",
              "    <tr>\n",
              "      <th>322</th>\n",
              "      <td>ARE</td>\n",
              "      <td>2.72</td>\n",
              "    </tr>\n",
              "    <tr>\n",
              "      <th>...</th>\n",
              "      <td>...</td>\n",
              "      <td>...</td>\n",
              "    </tr>\n",
              "    <tr>\n",
              "      <th>11567</th>\n",
              "      <td>VNM</td>\n",
              "      <td>2.53</td>\n",
              "    </tr>\n",
              "    <tr>\n",
              "      <th>11632</th>\n",
              "      <td>YEM</td>\n",
              "      <td>1.49</td>\n",
              "    </tr>\n",
              "    <tr>\n",
              "      <th>11697</th>\n",
              "      <td>ZAF</td>\n",
              "      <td>2.60</td>\n",
              "    </tr>\n",
              "    <tr>\n",
              "      <th>11762</th>\n",
              "      <td>ZMB</td>\n",
              "      <td>2.33</td>\n",
              "    </tr>\n",
              "    <tr>\n",
              "      <th>11827</th>\n",
              "      <td>ZWE</td>\n",
              "      <td>2.46</td>\n",
              "    </tr>\n",
              "  </tbody>\n",
              "</table>\n",
              "<p>182 rows × 2 columns</p>\n",
              "</div>"
            ],
            "text/plain": [
              "      Country Code   hc\n",
              "62             ABW  NaN\n",
              "127            AGO 1.43\n",
              "192            AIA  NaN\n",
              "257            ALB 2.92\n",
              "322            ARE 2.72\n",
              "...            ...  ...\n",
              "11567          VNM 2.53\n",
              "11632          YEM 1.49\n",
              "11697          ZAF 2.60\n",
              "11762          ZMB 2.33\n",
              "11827          ZWE 2.46\n",
              "\n",
              "[182 rows x 2 columns]"
            ]
          },
          "execution_count": 32,
          "metadata": {},
          "output_type": "execute_result"
        }
      ],
      "source": [
        "pwt_sample"
      ]
    },
    {
      "cell_type": "markdown",
      "metadata": {
        "id": "C1gdR6i_NwGx"
      },
      "source": [
        "**20.** Finally, create a new dataframe named **data** that contains the columns from **wdi_sample** and **pwt_sample**, matched by 'Country Code'.\n",
        "\n",
        "*Hint: Use the method concat(), and make sure both dataframes have the same index ('Country Code').*"
      ]
    },
    {
      "cell_type": "code",
      "execution_count": 33,
      "metadata": {
        "id": "RoZO0aRDpLol"
      },
      "outputs": [
        {
          "data": {
            "text/plain": [
              "Index(['ABW', 'AFG', 'AGO', 'ALB', 'AND', 'ARE', 'ARG', 'ARM', 'ASM', 'ATG',\n",
              "       ...\n",
              "       'VGB', 'VIR', 'VNM', 'VUT', 'WSM', 'XKX', 'YEM', 'ZAF', 'ZMB', 'ZWE'],\n",
              "      dtype='object', name='Country Code', length=217)"
            ]
          },
          "execution_count": 33,
          "metadata": {},
          "output_type": "execute_result"
        }
      ],
      "source": [
        "# Display the index of the 'wdi_sample' DataFrame\n",
        "wdi_sample.index"
      ]
    },
    {
      "cell_type": "code",
      "execution_count": 34,
      "metadata": {
        "id": "fMSKz1UnNwGx"
      },
      "outputs": [],
      "source": [
        "# Make Country Code the index in pwt_sample\n",
        "pwt_sample.set_index('Country Code', inplace=True) # This will raise an error if run multiple times because the index is already set \n",
        "                                                    # But we ran this cell 1 time only so that we could set the index to 'Country Code'"
      ]
    },
    {
      "cell_type": "code",
      "execution_count": 35,
      "metadata": {
        "id": "JRg6GJWMpO-Y"
      },
      "outputs": [
        {
          "data": {
            "text/plain": [
              "Index(['ABW', 'AGO', 'AIA', 'ALB', 'ARE', 'ARG', 'ARM', 'ATG', 'AUS', 'AUT',\n",
              "       ...\n",
              "       'USA', 'UZB', 'VCT', 'VEN', 'VGB', 'VNM', 'YEM', 'ZAF', 'ZMB', 'ZWE'],\n",
              "      dtype='object', name='Country Code', length=182)"
            ]
          },
          "execution_count": 35,
          "metadata": {},
          "output_type": "execute_result"
        }
      ],
      "source": [
        "pwt_sample.index # We can see that the index of pwt_sample is now 'Country Code'"
      ]
    },
    {
      "cell_type": "code",
      "execution_count": 36,
      "metadata": {},
      "outputs": [
        {
          "data": {
            "text/html": [
              "<div>\n",
              "<style scoped>\n",
              "    .dataframe tbody tr th:only-of-type {\n",
              "        vertical-align: middle;\n",
              "    }\n",
              "\n",
              "    .dataframe tbody tr th {\n",
              "        vertical-align: top;\n",
              "    }\n",
              "\n",
              "    .dataframe thead th {\n",
              "        text-align: right;\n",
              "    }\n",
              "</style>\n",
              "<table border=\"1\" class=\"dataframe\">\n",
              "  <thead>\n",
              "    <tr style=\"text-align: right;\">\n",
              "      <th></th>\n",
              "      <th>GDP</th>\n",
              "      <th>GINI</th>\n",
              "      <th>Population</th>\n",
              "    </tr>\n",
              "    <tr>\n",
              "      <th>Country Code</th>\n",
              "      <th></th>\n",
              "      <th></th>\n",
              "      <th></th>\n",
              "    </tr>\n",
              "  </thead>\n",
              "  <tbody>\n",
              "    <tr>\n",
              "      <th>ABW</th>\n",
              "      <td>2,615,208,380</td>\n",
              "      <td>NaN</td>\n",
              "      <td>102112.00</td>\n",
              "    </tr>\n",
              "    <tr>\n",
              "      <th>AFG</th>\n",
              "      <td>19,907,329,778</td>\n",
              "      <td>NaN</td>\n",
              "      <td>30,466,479</td>\n",
              "    </tr>\n",
              "    <tr>\n",
              "      <th>AGO</th>\n",
              "      <td>128,052,915,766</td>\n",
              "      <td>NaN</td>\n",
              "      <td>25,188,292</td>\n",
              "    </tr>\n",
              "    <tr>\n",
              "      <th>ALB</th>\n",
              "      <td>12,319,834,195</td>\n",
              "      <td>29.00</td>\n",
              "      <td>2,900,401</td>\n",
              "    </tr>\n",
              "    <tr>\n",
              "      <th>AND</th>\n",
              "      <td>3,188,652,765</td>\n",
              "      <td>NaN</td>\n",
              "      <td>71013.00</td>\n",
              "    </tr>\n",
              "  </tbody>\n",
              "</table>\n",
              "</div>"
            ],
            "text/plain": [
              "                         GDP  GINI  Population\n",
              "Country Code                                  \n",
              "ABW            2,615,208,380   NaN   102112.00\n",
              "AFG           19,907,329,778   NaN  30,466,479\n",
              "AGO          128,052,915,766   NaN  25,188,292\n",
              "ALB           12,319,834,195 29.00   2,900,401\n",
              "AND            3,188,652,765   NaN    71013.00"
            ]
          },
          "execution_count": 36,
          "metadata": {},
          "output_type": "execute_result"
        }
      ],
      "source": [
        "# Set the index of 'wdi_sample' to 'Country Code' as well so that we can merge the two DataFrames on the 'Country Code' index\n",
        "#wdi_sample.set_index('Country Code', inplace=True)\n",
        "\n",
        "wdi_sample.head()"
      ]
    },
    {
      "cell_type": "code",
      "execution_count": 37,
      "metadata": {
        "id": "nV9v77phspj_"
      },
      "outputs": [
        {
          "data": {
            "text/html": [
              "<div>\n",
              "<style scoped>\n",
              "    .dataframe tbody tr th:only-of-type {\n",
              "        vertical-align: middle;\n",
              "    }\n",
              "\n",
              "    .dataframe tbody tr th {\n",
              "        vertical-align: top;\n",
              "    }\n",
              "\n",
              "    .dataframe thead th {\n",
              "        text-align: right;\n",
              "    }\n",
              "</style>\n",
              "<table border=\"1\" class=\"dataframe\">\n",
              "  <thead>\n",
              "    <tr style=\"text-align: right;\">\n",
              "      <th></th>\n",
              "      <th>GDP</th>\n",
              "      <th>GINI</th>\n",
              "      <th>Population</th>\n",
              "      <th>hc</th>\n",
              "    </tr>\n",
              "    <tr>\n",
              "      <th>Country Code</th>\n",
              "      <th></th>\n",
              "      <th></th>\n",
              "      <th></th>\n",
              "      <th></th>\n",
              "    </tr>\n",
              "  </thead>\n",
              "  <tbody>\n",
              "    <tr>\n",
              "      <th>ABW</th>\n",
              "      <td>2,615,208,380</td>\n",
              "      <td>NaN</td>\n",
              "      <td>102112.00</td>\n",
              "      <td>NaN</td>\n",
              "    </tr>\n",
              "    <tr>\n",
              "      <th>AFG</th>\n",
              "      <td>19,907,329,778</td>\n",
              "      <td>NaN</td>\n",
              "      <td>30,466,479</td>\n",
              "      <td>NaN</td>\n",
              "    </tr>\n",
              "    <tr>\n",
              "      <th>AGO</th>\n",
              "      <td>128,052,915,766</td>\n",
              "      <td>NaN</td>\n",
              "      <td>25,188,292</td>\n",
              "      <td>1.43</td>\n",
              "    </tr>\n",
              "    <tr>\n",
              "      <th>ALB</th>\n",
              "      <td>12,319,834,195</td>\n",
              "      <td>29.00</td>\n",
              "      <td>2,900,401</td>\n",
              "      <td>2.92</td>\n",
              "    </tr>\n",
              "    <tr>\n",
              "      <th>AND</th>\n",
              "      <td>3,188,652,765</td>\n",
              "      <td>NaN</td>\n",
              "      <td>71013.00</td>\n",
              "      <td>NaN</td>\n",
              "    </tr>\n",
              "    <tr>\n",
              "      <th>...</th>\n",
              "      <td>...</td>\n",
              "      <td>...</td>\n",
              "      <td>...</td>\n",
              "      <td>...</td>\n",
              "    </tr>\n",
              "    <tr>\n",
              "      <th>ZMB</th>\n",
              "      <td>25,503,060,420</td>\n",
              "      <td>NaN</td>\n",
              "      <td>14,744,658</td>\n",
              "      <td>2.33</td>\n",
              "    </tr>\n",
              "    <tr>\n",
              "      <th>ZWE</th>\n",
              "      <td>17,114,849,900</td>\n",
              "      <td>NaN</td>\n",
              "      <td>13,265,331</td>\n",
              "      <td>2.46</td>\n",
              "    </tr>\n",
              "    <tr>\n",
              "      <th>AIA</th>\n",
              "      <td>NaN</td>\n",
              "      <td>NaN</td>\n",
              "      <td>NaN</td>\n",
              "      <td>NaN</td>\n",
              "    </tr>\n",
              "    <tr>\n",
              "      <th>MSR</th>\n",
              "      <td>NaN</td>\n",
              "      <td>NaN</td>\n",
              "      <td>NaN</td>\n",
              "      <td>NaN</td>\n",
              "    </tr>\n",
              "    <tr>\n",
              "      <th>TWN</th>\n",
              "      <td>NaN</td>\n",
              "      <td>NaN</td>\n",
              "      <td>NaN</td>\n",
              "      <td>3.14</td>\n",
              "    </tr>\n",
              "  </tbody>\n",
              "</table>\n",
              "<p>220 rows × 4 columns</p>\n",
              "</div>"
            ],
            "text/plain": [
              "                         GDP  GINI  Population   hc\n",
              "Country Code                                       \n",
              "ABW            2,615,208,380   NaN   102112.00  NaN\n",
              "AFG           19,907,329,778   NaN  30,466,479  NaN\n",
              "AGO          128,052,915,766   NaN  25,188,292 1.43\n",
              "ALB           12,319,834,195 29.00   2,900,401 2.92\n",
              "AND            3,188,652,765   NaN    71013.00  NaN\n",
              "...                      ...   ...         ...  ...\n",
              "ZMB           25,503,060,420   NaN  14,744,658 2.33\n",
              "ZWE           17,114,849,900   NaN  13,265,331 2.46\n",
              "AIA                      NaN   NaN         NaN  NaN\n",
              "MSR                      NaN   NaN         NaN  NaN\n",
              "TWN                      NaN   NaN         NaN 3.14\n",
              "\n",
              "[220 rows x 4 columns]"
            ]
          },
          "execution_count": 37,
          "metadata": {},
          "output_type": "execute_result"
        }
      ],
      "source": [
        "# Concatenate 'wdi_sample' and 'pwt_sample' DataFrames along the columns (axis=1)\n",
        "# The resulting DataFrame will have the 'Country Code' as the index\n",
        "data = pd.concat([wdi_sample, pwt_sample], axis=1)\n",
        "data"
      ]
    },
    {
      "cell_type": "code",
      "execution_count": 38,
      "metadata": {
        "id": "efktvBnMOrVw"
      },
      "outputs": [
        {
          "data": {
            "text/plain": [
              "GDP             9\n",
              "GINI          136\n",
              "Population      3\n",
              "hc             76\n",
              "dtype: int64"
            ]
          },
          "execution_count": 38,
          "metadata": {},
          "output_type": "execute_result"
        }
      ],
      "source": [
        "# There are quite a few NaN in data\n",
        "data.isna().sum()"
      ]
    },
    {
      "cell_type": "markdown",
      "metadata": {
        "id": "pXU9Ag39NwGy"
      },
      "source": [
        "# <span style=\"color:brown\"> Part 3 - Analysing a Dataset </span>"
      ]
    },
    {
      "cell_type": "markdown",
      "metadata": {
        "id": "WQKnP9Q8NwGy"
      },
      "source": [
        "**21.** Perform the necessary manipulations to answer the following questions, unless otherwise stated you can use the country codes to represent the countries in your solutions:\n",
        "1. Which countries have a **population size of 10 million habitations +/- 1 million**?\n",
        "2. What is  the **average** and the **standard deviation in the GDP** for the countries listed in 1?\n",
        "3. What is  the **average** and the **standard deviation in the GDP per capita** for the countries listed in 1?\n",
        "4. Consider the following classification of country size: <br/>\n",
        "    Tiny - population < 1 000 000 <br/>\n",
        "    Very Small - 1 000 000 <= population < 5 000 000 <br/>\n",
        "    Small - 5 000 000 <= population < 15 000 000 <br/>\n",
        "    Medium - 15 000 000 <= population < 30 000 000 <br/>\n",
        "    Large - 30 000 000 <= population < 100 000 000 <br/>\n",
        "    Huge - 100 000 000 <= population <br/>\n",
        "   What is  the **average** and the **standard deviation in the GDP per capita for the countries in each size classification**?   \n",
        "5. Create a **function** that will take a dataframe and a column name. This function should **return** a series with binary values indicating whether the **values from the column are above the mean value of that column** (indicated with a value of 1 or 0 otherwise). If the value in the column is missing (NaN) the value in the series should also be missing (NaN). Test your function. *Hint:* search how to check if something is None so that we can return None. <br/>\n",
        "6. What is the **average GDP per capita of the countries after being grouped by size classification and whether the human capital was above or below average**? *Hint: as an example, two of the groups should be (1) tiny and human capital below average, (2) tiny and human capital above average.*\n",
        "7. What is the **average GDP per capita of the countries after being grouped by whether the human capital was above or below average and whether the gini coefficient was above or below average?**\n",
        "8. What is the **name of the country** that has the **highest GDP per capita, a Gini coefficient below average and a level of human capital below average**?\n",
        "9. What is the **name of the country** that has the **highest GDP per capita, a Gini coefficient below average for its size classification, and a level of human capital below average for its size classification**?\n",
        "10. What is the **name of the country** that has the **largest % increase in GDP between 1980 and 2010?** *HINT: You will need to use the wdi dataframe.*\n",
        "\n",
        "Write the necessary code to answer each question in a single cell. <br/>\n",
        "Print the answer at the end of that cell."
      ]
    },
    {
      "cell_type": "code",
      "execution_count": 39,
      "metadata": {
        "id": "ylI8cUQxf-gA"
      },
      "outputs": [
        {
          "data": {
            "text/html": [
              "<div>\n",
              "<style scoped>\n",
              "    .dataframe tbody tr th:only-of-type {\n",
              "        vertical-align: middle;\n",
              "    }\n",
              "\n",
              "    .dataframe tbody tr th {\n",
              "        vertical-align: top;\n",
              "    }\n",
              "\n",
              "    .dataframe thead th {\n",
              "        text-align: right;\n",
              "    }\n",
              "</style>\n",
              "<table border=\"1\" class=\"dataframe\">\n",
              "  <thead>\n",
              "    <tr style=\"text-align: right;\">\n",
              "      <th></th>\n",
              "      <th>GDP</th>\n",
              "      <th>GINI</th>\n",
              "      <th>Population</th>\n",
              "      <th>hc</th>\n",
              "    </tr>\n",
              "    <tr>\n",
              "      <th>Country Code</th>\n",
              "      <th></th>\n",
              "      <th></th>\n",
              "      <th></th>\n",
              "      <th></th>\n",
              "    </tr>\n",
              "  </thead>\n",
              "  <tbody>\n",
              "    <tr>\n",
              "      <th>ABW</th>\n",
              "      <td>2,615,208,380</td>\n",
              "      <td>NaN</td>\n",
              "      <td>102112.00</td>\n",
              "      <td>NaN</td>\n",
              "    </tr>\n",
              "    <tr>\n",
              "      <th>AFG</th>\n",
              "      <td>19,907,329,778</td>\n",
              "      <td>NaN</td>\n",
              "      <td>30,466,479</td>\n",
              "      <td>NaN</td>\n",
              "    </tr>\n",
              "    <tr>\n",
              "      <th>AGO</th>\n",
              "      <td>128,052,915,766</td>\n",
              "      <td>NaN</td>\n",
              "      <td>25,188,292</td>\n",
              "      <td>1.43</td>\n",
              "    </tr>\n",
              "    <tr>\n",
              "      <th>ALB</th>\n",
              "      <td>12,319,834,195</td>\n",
              "      <td>29.00</td>\n",
              "      <td>2,900,401</td>\n",
              "      <td>2.92</td>\n",
              "    </tr>\n",
              "    <tr>\n",
              "      <th>AND</th>\n",
              "      <td>3,188,652,765</td>\n",
              "      <td>NaN</td>\n",
              "      <td>71013.00</td>\n",
              "      <td>NaN</td>\n",
              "    </tr>\n",
              "    <tr>\n",
              "      <th>...</th>\n",
              "      <td>...</td>\n",
              "      <td>...</td>\n",
              "      <td>...</td>\n",
              "      <td>...</td>\n",
              "    </tr>\n",
              "    <tr>\n",
              "      <th>ZMB</th>\n",
              "      <td>25,503,060,420</td>\n",
              "      <td>NaN</td>\n",
              "      <td>14,744,658</td>\n",
              "      <td>2.33</td>\n",
              "    </tr>\n",
              "    <tr>\n",
              "      <th>ZWE</th>\n",
              "      <td>17,114,849,900</td>\n",
              "      <td>NaN</td>\n",
              "      <td>13,265,331</td>\n",
              "      <td>2.46</td>\n",
              "    </tr>\n",
              "    <tr>\n",
              "      <th>AIA</th>\n",
              "      <td>NaN</td>\n",
              "      <td>NaN</td>\n",
              "      <td>NaN</td>\n",
              "      <td>NaN</td>\n",
              "    </tr>\n",
              "    <tr>\n",
              "      <th>MSR</th>\n",
              "      <td>NaN</td>\n",
              "      <td>NaN</td>\n",
              "      <td>NaN</td>\n",
              "      <td>NaN</td>\n",
              "    </tr>\n",
              "    <tr>\n",
              "      <th>TWN</th>\n",
              "      <td>NaN</td>\n",
              "      <td>NaN</td>\n",
              "      <td>NaN</td>\n",
              "      <td>3.14</td>\n",
              "    </tr>\n",
              "  </tbody>\n",
              "</table>\n",
              "<p>220 rows × 4 columns</p>\n",
              "</div>"
            ],
            "text/plain": [
              "                         GDP  GINI  Population   hc\n",
              "Country Code                                       \n",
              "ABW            2,615,208,380   NaN   102112.00  NaN\n",
              "AFG           19,907,329,778   NaN  30,466,479  NaN\n",
              "AGO          128,052,915,766   NaN  25,188,292 1.43\n",
              "ALB           12,319,834,195 29.00   2,900,401 2.92\n",
              "AND            3,188,652,765   NaN    71013.00  NaN\n",
              "...                      ...   ...         ...  ...\n",
              "ZMB           25,503,060,420   NaN  14,744,658 2.33\n",
              "ZWE           17,114,849,900   NaN  13,265,331 2.46\n",
              "AIA                      NaN   NaN         NaN  NaN\n",
              "MSR                      NaN   NaN         NaN  NaN\n",
              "TWN                      NaN   NaN         NaN 3.14\n",
              "\n",
              "[220 rows x 4 columns]"
            ]
          },
          "execution_count": 39,
          "metadata": {},
          "output_type": "execute_result"
        }
      ],
      "source": [
        "data"
      ]
    },
    {
      "cell_type": "code",
      "execution_count": 40,
      "metadata": {
        "id": "MgkBkvHZNwGy"
      },
      "outputs": [
        {
          "name": "stdout",
          "output_type": "stream",
          "text": [
            "The countries that have a population size between 9 million and 11 million are: \n",
            "  ['AZE', 'BDI', 'BEN', 'BLR', 'BOL', 'CZE', 'DOM', 'GIN', 'HTI', 'HUN', 'PRT', 'RWA', 'SSD', 'SWE']\n"
          ]
        }
      ],
      "source": [
        "#1 Which countries have a population size of 10 million habitations +/- 1 million?\n",
        "\n",
        "lower_bound =  9_000_000\n",
        "upper_bound =  11_000_000\n",
        "\n",
        "# Filter 'data' DataFrame for rows where 'Population' is between the lower and upper bounds\n",
        "index_countries_filter = data[(data['Population'] >= lower_bound) & (data['Population'] <= upper_bound )].index\n",
        "\n",
        "\n",
        "# Print the list of countries that have a population size between 9 million and 11 million\n",
        "# Convert the index of filtered countries to a list for easier reading\n",
        "print(f\"The countries that have a population size between 9 million and 11 million are: \\n  {index_countries_filter.tolist()}\")"
      ]
    },
    {
      "cell_type": "code",
      "execution_count": 41,
      "metadata": {
        "id": "IAj_Cs-5SEMf"
      },
      "outputs": [
        {
          "name": "stdout",
          "output_type": "stream",
          "text": [
            "The average and standard deviation in GDP for the countries listed in ex. 1 are (in US dollars): \n",
            " mean     98,851,409,946\n",
            "std     149,245,794,399\n",
            "Name: GDP, dtype: object\n"
          ]
        }
      ],
      "source": [
        "#2 What is the average and the standard deviation in the GDP for the countries listed in 1?\n",
        "\n",
        "# Calculate the mean and standard deviation of the 'GDP' for countries with a population between 9 and 11 million\n",
        "# Format the output: large values with comma separators and small values with two decimal places\n",
        "formatted_gdp_stats = data.loc[index_countries_filter]['GDP'].describe().loc[['mean', 'std']].apply(lambda x: f'{x:,.0f}' if abs(x) > 1e6 else f'{x:.2f}')\n",
        "\n",
        "print(f\"The average and standard deviation in GDP for the countries listed in ex. 1 are (in US dollars): \\n {formatted_gdp_stats}\")"
      ]
    },
    {
      "cell_type": "code",
      "execution_count": 42,
      "metadata": {
        "id": "jnBdqrMFUYzm"
      },
      "outputs": [
        {
          "data": {
            "text/plain": [
              "Index(['GDP', 'GINI', 'Population', 'hc'], dtype='object')"
            ]
          },
          "execution_count": 42,
          "metadata": {},
          "output_type": "execute_result"
        }
      ],
      "source": [
        "data.columns"
      ]
    },
    {
      "cell_type": "code",
      "execution_count": 43,
      "metadata": {
        "id": "l6Vhen0KNwGy"
      },
      "outputs": [
        {
          "name": "stdout",
          "output_type": "stream",
          "text": [
            "The average and standard deviation in GDP per capita for the countries listed in ex. 1 are (in US dollars): \n",
            " mean     9982.44\n",
            "std     15473.79\n",
            "Name: GDP per capita, dtype: object\n"
          ]
        }
      ],
      "source": [
        "#3 What is the average and the standard deviation in the GDP per capita for the countries listed in 1?\n",
        "\n",
        "# Create column GDP per capita (GDP divided by Population) in the 'data' DataFrame\n",
        "data['GDP per capita'] = data['GDP'] / data['Population']\n",
        "# Calculate the mean and standard deviation of 'GDP per capita' for countries with a population between 9 and 11 million\n",
        "# Format the output: large values with comma separators and small values with two decimal places\n",
        "formatted_gdp_per_capita_stats = data.loc[index_countries_filter]['GDP per capita'].describe().loc[['mean', 'std']].apply(lambda x: f'{x:,.0f}' if abs(x) > 1e6 else f'{x:.2f}')\n",
        "\n",
        "print(f\"The average and standard deviation in GDP per capita for the countries listed in ex. 1 are (in US dollars): \\n {formatted_gdp_per_capita_stats}\")"
      ]
    },
    {
      "cell_type": "code",
      "execution_count": 44,
      "metadata": {
        "id": "ATCT2vBoNwGy"
      },
      "outputs": [
        {
          "data": {
            "text/html": [
              "<div>\n",
              "<style scoped>\n",
              "    .dataframe tbody tr th:only-of-type {\n",
              "        vertical-align: middle;\n",
              "    }\n",
              "\n",
              "    .dataframe tbody tr th {\n",
              "        vertical-align: top;\n",
              "    }\n",
              "\n",
              "    .dataframe thead th {\n",
              "        text-align: right;\n",
              "    }\n",
              "</style>\n",
              "<table border=\"1\" class=\"dataframe\">\n",
              "  <thead>\n",
              "    <tr style=\"text-align: right;\">\n",
              "      <th></th>\n",
              "      <th>Country Size</th>\n",
              "      <th>GDP_per_Capita</th>\n",
              "      <th>Standard_Deviation</th>\n",
              "    </tr>\n",
              "  </thead>\n",
              "  <tbody>\n",
              "    <tr>\n",
              "      <th>0</th>\n",
              "      <td>Tiny</td>\n",
              "      <td>28226.32</td>\n",
              "      <td>36308.72</td>\n",
              "    </tr>\n",
              "    <tr>\n",
              "      <th>1</th>\n",
              "      <td>Very Small</td>\n",
              "      <td>14177.62</td>\n",
              "      <td>18398.17</td>\n",
              "    </tr>\n",
              "    <tr>\n",
              "      <th>2</th>\n",
              "      <td>Small</td>\n",
              "      <td>16201.66</td>\n",
              "      <td>23617.07</td>\n",
              "    </tr>\n",
              "    <tr>\n",
              "      <th>3</th>\n",
              "      <td>Medium</td>\n",
              "      <td>8903.48</td>\n",
              "      <td>16313.63</td>\n",
              "    </tr>\n",
              "    <tr>\n",
              "      <th>4</th>\n",
              "      <td>Large</td>\n",
              "      <td>13177.43</td>\n",
              "      <td>15611.57</td>\n",
              "    </tr>\n",
              "    <tr>\n",
              "      <th>5</th>\n",
              "      <td>Huge</td>\n",
              "      <td>14158.73</td>\n",
              "      <td>18610.26</td>\n",
              "    </tr>\n",
              "  </tbody>\n",
              "</table>\n",
              "</div>"
            ],
            "text/plain": [
              "  Country Size  GDP_per_Capita  Standard_Deviation\n",
              "0         Tiny        28226.32            36308.72\n",
              "1   Very Small        14177.62            18398.17\n",
              "2        Small        16201.66            23617.07\n",
              "3       Medium         8903.48            16313.63\n",
              "4        Large        13177.43            15611.57\n",
              "5         Huge        14158.73            18610.26"
            ]
          },
          "metadata": {},
          "output_type": "display_data"
        }
      ],
      "source": [
        "# 4. Consider the following classification of country size:\n",
        "#     Tiny - population < 1 000 000\n",
        "#     Very Small - 1 000 000 <= population < 5 000 000\n",
        "#     Small - 5 000 000 <= population < 15 000 000\n",
        "#     Medium - 15 000 000 <= population < 30 000 000\n",
        "#     Large - 30 000 000 <= population < 100 000 000\n",
        "#     Huge - 100 000 000 <= population\n",
        "\n",
        "#    What is  the **average** and the **standard deviation in the GDP per capita for the countries in each size classification**?\n",
        "\n",
        "# Define bins for population size and corresponding labels\n",
        "\n",
        "bins = [0, 1_000_000, 5_000_000, 15_000_000, 30_000_000, 100_000_000, float('inf')]\n",
        "# Categorize countries into size classes based on their population 'labels' that are the same length as 'bins' \n",
        "labels = ['Tiny', 'Very Small', 'Small', 'Medium', 'Large', 'Huge']\n",
        "\n",
        "# Add 'Country Size' column based on the population\n",
        "# Consider upper bound exclusion by setting right=False\n",
        "data['Country Size'] = pd.cut(data['Population'], bins=bins, labels=labels, right=False)\n",
        "\n",
        "# Group the data by 'Country Size' and calculate the mean ('GDP_per_Capita') and standard deviation ('Standard_Deviation') of 'GDP per capita'\n",
        "gdp_stats = data.groupby('Country Size', observed=False)['GDP per capita'].agg(\n",
        "    GDP_per_Capita='mean',\n",
        "    Standard_Deviation='std'\n",
        ").reset_index() # Reset the index for better readability and display the result\n",
        "\n",
        "\n",
        "# Display the result\n",
        "display(gdp_stats)"
      ]
    },
    {
      "cell_type": "code",
      "execution_count": 45,
      "metadata": {
        "id": "h_V89DUANwGy"
      },
      "outputs": [],
      "source": [
        "# Create a function that will take a dataframe and a column name.\n",
        "# This function should return a series with binary values indicating whether\n",
        "# the values from the column are above the mean value of that column\n",
        "# (indicated with a value of 1 or 0 otherwise). If the value in the column is\n",
        "# missing (NaN) the value in the series should also be missing (NaN).\n",
        "# Test your function.\n",
        "# Hint: search how to check if something is None so that we can return None.\n",
        "\n",
        "import pandas as pd\n",
        "\n",
        "def above_mean(df, column_name):\n",
        "    \"\"\"\n",
        "    This function takes a dataframe and a column name as input.\n",
        "    It returns a series with binary values indicating whether the values from the column are above the mean value of that column (indicated with a value of 1 or 0 otherwise).\n",
        "    If the value in the column is missing (NaN), the value in the series should also be missing (NaN).\n",
        "    If the input is None, the function returns None.\n",
        "    \"\"\"\n",
        "    try:\n",
        "        # Check if the inputs are None\n",
        "        if df is None or column_name is None:\n",
        "            return None\n",
        "\n",
        "        # Check if the input is a DataFrame\n",
        "        if not isinstance(df, pd.DataFrame):\n",
        "            raise TypeError(\"The first argument must be a pandas DataFrame.\")\n",
        "\n",
        "        # Check if the column name is a string\n",
        "        if not isinstance(column_name, str):\n",
        "            raise TypeError(\"The column name must be a string.\")\n",
        "\n",
        "        # Check if the column exists in the dataframe\n",
        "        if column_name not in df.columns:\n",
        "            raise ValueError(f\"Column '{column_name}' does not exist in the DataFrame.\")\n",
        "\n",
        "        # Calculate the mean of the column, ignoring NaN values\n",
        "        column_mean = df[column_name].mean()\n",
        "\n",
        "        # Create a series with binary values: 1 if above mean, 0 if not, NaN if value is NaN\n",
        "        above_mean_series = df[column_name].apply(lambda x: 1 if pd.notna(x) and x > column_mean else pd.NA if pd.isna(x) else 0)\n",
        "\n",
        "        return above_mean_series\n",
        "\n",
        "    except Exception as e:\n",
        "        raise e\n",
        "\n"
      ]
    },
    {
      "cell_type": "code",
      "execution_count": 46,
      "metadata": {
        "id": "Rjp6DGoGs_SW"
      },
      "outputs": [
        {
          "name": "stdout",
          "output_type": "stream",
          "text": [
            "0       0\n",
            "1    <NA>\n",
            "2    <NA>\n",
            "3    <NA>\n",
            "Name: GDP, dtype: object\n"
          ]
        }
      ],
      "source": [
        "# Let's test the function\n",
        "\n",
        "# Example DataFrame\n",
        "df_test_data = pd.DataFrame({\n",
        "    'Country': ['Country A', 'Country B', 'Country C', 'Country D'],\n",
        "    'GDP': [15000, None, np.nan, pd.NA]  # Include pd.NA value\n",
        "  })\n",
        "\n",
        "# Test the function with test data\n",
        "result_series = above_mean(df_test_data, 'GDP')\n",
        "print(result_series) # It works as expected , because GDP has None in position 1 and NaN in position 2 and pd.NA in position 3 and the return is the same as expected (NaN)"
      ]
    },
    {
      "cell_type": "code",
      "execution_count": 47,
      "metadata": {
        "id": "ywIkgq1YsTXK"
      },
      "outputs": [
        {
          "data": {
            "text/html": [
              "<div>\n",
              "<style scoped>\n",
              "    .dataframe tbody tr th:only-of-type {\n",
              "        vertical-align: middle;\n",
              "    }\n",
              "\n",
              "    .dataframe tbody tr th {\n",
              "        vertical-align: top;\n",
              "    }\n",
              "\n",
              "    .dataframe thead th {\n",
              "        text-align: right;\n",
              "    }\n",
              "</style>\n",
              "<table border=\"1\" class=\"dataframe\">\n",
              "  <thead>\n",
              "    <tr style=\"text-align: right;\">\n",
              "      <th></th>\n",
              "      <th>GDP</th>\n",
              "      <th>GINI</th>\n",
              "      <th>Population</th>\n",
              "      <th>hc</th>\n",
              "      <th>GDP per capita</th>\n",
              "      <th>Country Size</th>\n",
              "    </tr>\n",
              "    <tr>\n",
              "      <th>Country Code</th>\n",
              "      <th></th>\n",
              "      <th></th>\n",
              "      <th></th>\n",
              "      <th></th>\n",
              "      <th></th>\n",
              "      <th></th>\n",
              "    </tr>\n",
              "  </thead>\n",
              "  <tbody>\n",
              "    <tr>\n",
              "      <th>ABW</th>\n",
              "      <td>2,615,208,380</td>\n",
              "      <td>NaN</td>\n",
              "      <td>102112.00</td>\n",
              "      <td>NaN</td>\n",
              "      <td>25611.18</td>\n",
              "      <td>Tiny</td>\n",
              "    </tr>\n",
              "    <tr>\n",
              "      <th>AFG</th>\n",
              "      <td>19,907,329,778</td>\n",
              "      <td>NaN</td>\n",
              "      <td>30,466,479</td>\n",
              "      <td>NaN</td>\n",
              "      <td>653.42</td>\n",
              "      <td>Large</td>\n",
              "    </tr>\n",
              "    <tr>\n",
              "      <th>AGO</th>\n",
              "      <td>128,052,915,766</td>\n",
              "      <td>NaN</td>\n",
              "      <td>25,188,292</td>\n",
              "      <td>1.43</td>\n",
              "      <td>5083.83</td>\n",
              "      <td>Medium</td>\n",
              "    </tr>\n",
              "    <tr>\n",
              "      <th>ALB</th>\n",
              "      <td>12,319,834,195</td>\n",
              "      <td>29.00</td>\n",
              "      <td>2,900,401</td>\n",
              "      <td>2.92</td>\n",
              "      <td>4247.63</td>\n",
              "      <td>Very Small</td>\n",
              "    </tr>\n",
              "    <tr>\n",
              "      <th>AND</th>\n",
              "      <td>3,188,652,765</td>\n",
              "      <td>NaN</td>\n",
              "      <td>71013.00</td>\n",
              "      <td>NaN</td>\n",
              "      <td>44902.38</td>\n",
              "      <td>Tiny</td>\n",
              "    </tr>\n",
              "    <tr>\n",
              "      <th>...</th>\n",
              "      <td>...</td>\n",
              "      <td>...</td>\n",
              "      <td>...</td>\n",
              "      <td>...</td>\n",
              "      <td>...</td>\n",
              "      <td>...</td>\n",
              "    </tr>\n",
              "    <tr>\n",
              "      <th>ZMB</th>\n",
              "      <td>25,503,060,420</td>\n",
              "      <td>NaN</td>\n",
              "      <td>14,744,658</td>\n",
              "      <td>2.33</td>\n",
              "      <td>1729.65</td>\n",
              "      <td>Small</td>\n",
              "    </tr>\n",
              "    <tr>\n",
              "      <th>ZWE</th>\n",
              "      <td>17,114,849,900</td>\n",
              "      <td>NaN</td>\n",
              "      <td>13,265,331</td>\n",
              "      <td>2.46</td>\n",
              "      <td>1290.19</td>\n",
              "      <td>Small</td>\n",
              "    </tr>\n",
              "    <tr>\n",
              "      <th>AIA</th>\n",
              "      <td>NaN</td>\n",
              "      <td>NaN</td>\n",
              "      <td>NaN</td>\n",
              "      <td>NaN</td>\n",
              "      <td>NaN</td>\n",
              "      <td>NaN</td>\n",
              "    </tr>\n",
              "    <tr>\n",
              "      <th>MSR</th>\n",
              "      <td>NaN</td>\n",
              "      <td>NaN</td>\n",
              "      <td>NaN</td>\n",
              "      <td>NaN</td>\n",
              "      <td>NaN</td>\n",
              "      <td>NaN</td>\n",
              "    </tr>\n",
              "    <tr>\n",
              "      <th>TWN</th>\n",
              "      <td>NaN</td>\n",
              "      <td>NaN</td>\n",
              "      <td>NaN</td>\n",
              "      <td>3.14</td>\n",
              "      <td>NaN</td>\n",
              "      <td>NaN</td>\n",
              "    </tr>\n",
              "  </tbody>\n",
              "</table>\n",
              "<p>220 rows × 6 columns</p>\n",
              "</div>"
            ],
            "text/plain": [
              "                         GDP  GINI  Population   hc  GDP per capita  \\\n",
              "Country Code                                                          \n",
              "ABW            2,615,208,380   NaN   102112.00  NaN        25611.18   \n",
              "AFG           19,907,329,778   NaN  30,466,479  NaN          653.42   \n",
              "AGO          128,052,915,766   NaN  25,188,292 1.43         5083.83   \n",
              "ALB           12,319,834,195 29.00   2,900,401 2.92         4247.63   \n",
              "AND            3,188,652,765   NaN    71013.00  NaN        44902.38   \n",
              "...                      ...   ...         ...  ...             ...   \n",
              "ZMB           25,503,060,420   NaN  14,744,658 2.33         1729.65   \n",
              "ZWE           17,114,849,900   NaN  13,265,331 2.46         1290.19   \n",
              "AIA                      NaN   NaN         NaN  NaN             NaN   \n",
              "MSR                      NaN   NaN         NaN  NaN             NaN   \n",
              "TWN                      NaN   NaN         NaN 3.14             NaN   \n",
              "\n",
              "             Country Size  \n",
              "Country Code               \n",
              "ABW                  Tiny  \n",
              "AFG                 Large  \n",
              "AGO                Medium  \n",
              "ALB            Very Small  \n",
              "AND                  Tiny  \n",
              "...                   ...  \n",
              "ZMB                 Small  \n",
              "ZWE                 Small  \n",
              "AIA                   NaN  \n",
              "MSR                   NaN  \n",
              "TWN                   NaN  \n",
              "\n",
              "[220 rows x 6 columns]"
            ]
          },
          "execution_count": 47,
          "metadata": {},
          "output_type": "execute_result"
        }
      ],
      "source": [
        "data"
      ]
    },
    {
      "cell_type": "code",
      "execution_count": 48,
      "metadata": {
        "id": "nA8Y4PkNNwGy"
      },
      "outputs": [
        {
          "name": "stdout",
          "output_type": "stream",
          "text": [
            "The average GDP per capita of the countries after being grouped by size classification and whether the human capital was above or below average is as follows:\n"
          ]
        },
        {
          "data": {
            "text/plain": [
              "Country Size  Human Capital Class\n",
              "Tiny          0                      7447.42\n",
              "              1                     41099.35\n",
              "Very Small    0                      9522.34\n",
              "              1                     19135.54\n",
              "Small         0                      3093.05\n",
              "              1                     33815.35\n",
              "Medium        0                      1347.64\n",
              "              1                     19389.67\n",
              "Large         0                      3678.65\n",
              "              1                     24249.27\n",
              "Huge          0                      2707.37\n",
              "              1                     27900.36\n",
              "Name: GDP per capita, dtype: float64"
            ]
          },
          "execution_count": 48,
          "metadata": {},
          "output_type": "execute_result"
        }
      ],
      "source": [
        "# 6\n",
        "# What is the average GDP per capita of the countries after being grouped\n",
        "# by size classification and whether the human capital was above or below\n",
        "# average? Hint: as an example, two of the groups should be (1) tiny and\n",
        "# human capital below average, (2) tiny and human capital above average.\n",
        "\n",
        "# Add a new column 'Human Capital Class' to 'data', where values indicate if 'hc' (human capital) is above the mean (1 for above, 0 for below)\n",
        "data['Human Capital Class'] = above_mean(data, 'hc')\n",
        "\n",
        "\n",
        "print(\"The average GDP per capita of the countries after being grouped by size classification and whether the human capital was above or below average is as follows:\")\n",
        "# Group the data by 'Country Size' and 'Human Capital Class', and calculate the mean of 'GDP per capita' for each group\n",
        "data.groupby(['Country Size', 'Human Capital Class'], observed=False)['GDP per capita'].mean()"
      ]
    },
    {
      "cell_type": "code",
      "execution_count": 49,
      "metadata": {
        "id": "lIMzFuvBNwGz"
      },
      "outputs": [
        {
          "name": "stdout",
          "output_type": "stream",
          "text": [
            "The average GDP per capita of the countries after being grouped by whether the human capital is above or below average and whether the Gini coefficient is above or below average is as follows:\n"
          ]
        },
        {
          "data": {
            "text/plain": [
              "Human Capital Class  Gini Class\n",
              "0                    0             6410.52\n",
              "                     1             3785.25\n",
              "1                    0            32470.89\n",
              "                     1            13020.95\n",
              "Name: GDP per capita, dtype: float64"
            ]
          },
          "execution_count": 49,
          "metadata": {},
          "output_type": "execute_result"
        }
      ],
      "source": [
        "#7 What is the average GDP per capita of the countries after being\n",
        "# grouped by whether the human capital was above or below average\n",
        "# and whether the gini coefficient was above or below average?\n",
        "\n",
        "# Add a new column 'Gini Class' to 'data', indicating whether 'GINI' values are above the mean (1 for above, 0 for below)\n",
        "data['Gini Class'] = above_mean(data, 'GINI')\n",
        "\n",
        "print(\"The average GDP per capita of the countries after being grouped by whether the human capital is above or below average and whether the Gini coefficient is above or below average is as follows:\")\n",
        "# Group the data by both 'Human Capital Class' and 'Gini Class', and calculate the mean 'GDP per capita' for each group\n",
        "# observed=False ensures that all possible combinations of 'Human Capital Class' and 'Gini Class' are displayed in the output, \n",
        "# with missing combinations resulting in NaN values\n",
        "data.groupby(['Human Capital Class', 'Gini Class'], observed=False)['GDP per capita'].mean()"
      ]
    },
    {
      "cell_type": "code",
      "execution_count": 50,
      "metadata": {
        "id": "7e5M7WrhNwGz"
      },
      "outputs": [
        {
          "name": "stdout",
          "output_type": "stream",
          "text": [
            "The country with highest GDP per capita, GINI below average, and hc below average is : PRT\n"
          ]
        }
      ],
      "source": [
        "#8 What is the name of the country that has the highest GDP per capita,\n",
        "#  a Gini coefficient below average and a level of human capital below average?\n",
        "\n",
        "\n",
        "# Find the country where both 'Gini Class' and 'Human Capital Class' are below average (i.e., equal to 0) \n",
        "# From these countries, find the index of the country with the highest 'GDP per capita'\n",
        "# Print the result showing the index of the country that meets the conditions\n",
        "# .idxmax() is used because we want to identify which country (by index) has the highest GDP per capita, rather than just \n",
        "# knowing what the highest GDP per capita value is\n",
        "print(f\"The country with highest GDP per capita, GINI below average, and hc below average is : {data[(data['Gini Class'] == 0) & (data['Human Capital Class'] == 0)]['GDP per capita'].idxmax()}\")"
      ]
    },
    {
      "cell_type": "code",
      "execution_count": 51,
      "metadata": {
        "id": "ZWdCvzO765-1"
      },
      "outputs": [
        {
          "data": {
            "text/html": [
              "<div>\n",
              "<style scoped>\n",
              "    .dataframe tbody tr th:only-of-type {\n",
              "        vertical-align: middle;\n",
              "    }\n",
              "\n",
              "    .dataframe tbody tr th {\n",
              "        vertical-align: top;\n",
              "    }\n",
              "\n",
              "    .dataframe thead th {\n",
              "        text-align: right;\n",
              "    }\n",
              "</style>\n",
              "<table border=\"1\" class=\"dataframe\">\n",
              "  <thead>\n",
              "    <tr style=\"text-align: right;\">\n",
              "      <th></th>\n",
              "      <th>GDP</th>\n",
              "      <th>GINI</th>\n",
              "      <th>Population</th>\n",
              "      <th>hc</th>\n",
              "      <th>GDP per capita</th>\n",
              "      <th>Country Size</th>\n",
              "      <th>Human Capital Class</th>\n",
              "      <th>Gini Class</th>\n",
              "    </tr>\n",
              "    <tr>\n",
              "      <th>Country Code</th>\n",
              "      <th></th>\n",
              "      <th></th>\n",
              "      <th></th>\n",
              "      <th></th>\n",
              "      <th></th>\n",
              "      <th></th>\n",
              "      <th></th>\n",
              "      <th></th>\n",
              "    </tr>\n",
              "  </thead>\n",
              "  <tbody>\n",
              "    <tr>\n",
              "      <th>ABW</th>\n",
              "      <td>2,615,208,380</td>\n",
              "      <td>NaN</td>\n",
              "      <td>102112.00</td>\n",
              "      <td>NaN</td>\n",
              "      <td>25611.18</td>\n",
              "      <td>Tiny</td>\n",
              "      <td>&lt;NA&gt;</td>\n",
              "      <td>&lt;NA&gt;</td>\n",
              "    </tr>\n",
              "    <tr>\n",
              "      <th>AFG</th>\n",
              "      <td>19,907,329,778</td>\n",
              "      <td>NaN</td>\n",
              "      <td>30,466,479</td>\n",
              "      <td>NaN</td>\n",
              "      <td>653.42</td>\n",
              "      <td>Large</td>\n",
              "      <td>&lt;NA&gt;</td>\n",
              "      <td>&lt;NA&gt;</td>\n",
              "    </tr>\n",
              "    <tr>\n",
              "      <th>AGO</th>\n",
              "      <td>128,052,915,766</td>\n",
              "      <td>NaN</td>\n",
              "      <td>25,188,292</td>\n",
              "      <td>1.43</td>\n",
              "      <td>5083.83</td>\n",
              "      <td>Medium</td>\n",
              "      <td>0</td>\n",
              "      <td>&lt;NA&gt;</td>\n",
              "    </tr>\n",
              "    <tr>\n",
              "      <th>ALB</th>\n",
              "      <td>12,319,834,195</td>\n",
              "      <td>29.00</td>\n",
              "      <td>2,900,401</td>\n",
              "      <td>2.92</td>\n",
              "      <td>4247.63</td>\n",
              "      <td>Very Small</td>\n",
              "      <td>1</td>\n",
              "      <td>0</td>\n",
              "    </tr>\n",
              "    <tr>\n",
              "      <th>AND</th>\n",
              "      <td>3,188,652,765</td>\n",
              "      <td>NaN</td>\n",
              "      <td>71013.00</td>\n",
              "      <td>NaN</td>\n",
              "      <td>44902.38</td>\n",
              "      <td>Tiny</td>\n",
              "      <td>&lt;NA&gt;</td>\n",
              "      <td>&lt;NA&gt;</td>\n",
              "    </tr>\n",
              "    <tr>\n",
              "      <th>...</th>\n",
              "      <td>...</td>\n",
              "      <td>...</td>\n",
              "      <td>...</td>\n",
              "      <td>...</td>\n",
              "      <td>...</td>\n",
              "      <td>...</td>\n",
              "      <td>...</td>\n",
              "      <td>...</td>\n",
              "    </tr>\n",
              "    <tr>\n",
              "      <th>ZMB</th>\n",
              "      <td>25,503,060,420</td>\n",
              "      <td>NaN</td>\n",
              "      <td>14,744,658</td>\n",
              "      <td>2.33</td>\n",
              "      <td>1729.65</td>\n",
              "      <td>Small</td>\n",
              "      <td>0</td>\n",
              "      <td>NaN</td>\n",
              "    </tr>\n",
              "    <tr>\n",
              "      <th>ZWE</th>\n",
              "      <td>17,114,849,900</td>\n",
              "      <td>NaN</td>\n",
              "      <td>13,265,331</td>\n",
              "      <td>2.46</td>\n",
              "      <td>1290.19</td>\n",
              "      <td>Small</td>\n",
              "      <td>0</td>\n",
              "      <td>NaN</td>\n",
              "    </tr>\n",
              "    <tr>\n",
              "      <th>AIA</th>\n",
              "      <td>NaN</td>\n",
              "      <td>NaN</td>\n",
              "      <td>NaN</td>\n",
              "      <td>NaN</td>\n",
              "      <td>NaN</td>\n",
              "      <td>NaN</td>\n",
              "      <td>&lt;NA&gt;</td>\n",
              "      <td>NaN</td>\n",
              "    </tr>\n",
              "    <tr>\n",
              "      <th>MSR</th>\n",
              "      <td>NaN</td>\n",
              "      <td>NaN</td>\n",
              "      <td>NaN</td>\n",
              "      <td>NaN</td>\n",
              "      <td>NaN</td>\n",
              "      <td>NaN</td>\n",
              "      <td>&lt;NA&gt;</td>\n",
              "      <td>NaN</td>\n",
              "    </tr>\n",
              "    <tr>\n",
              "      <th>TWN</th>\n",
              "      <td>NaN</td>\n",
              "      <td>NaN</td>\n",
              "      <td>NaN</td>\n",
              "      <td>3.14</td>\n",
              "      <td>NaN</td>\n",
              "      <td>NaN</td>\n",
              "      <td>1</td>\n",
              "      <td>NaN</td>\n",
              "    </tr>\n",
              "  </tbody>\n",
              "</table>\n",
              "<p>220 rows × 8 columns</p>\n",
              "</div>"
            ],
            "text/plain": [
              "                         GDP  GINI  Population   hc  GDP per capita  \\\n",
              "Country Code                                                          \n",
              "ABW            2,615,208,380   NaN   102112.00  NaN        25611.18   \n",
              "AFG           19,907,329,778   NaN  30,466,479  NaN          653.42   \n",
              "AGO          128,052,915,766   NaN  25,188,292 1.43         5083.83   \n",
              "ALB           12,319,834,195 29.00   2,900,401 2.92         4247.63   \n",
              "AND            3,188,652,765   NaN    71013.00  NaN        44902.38   \n",
              "...                      ...   ...         ...  ...             ...   \n",
              "ZMB           25,503,060,420   NaN  14,744,658 2.33         1729.65   \n",
              "ZWE           17,114,849,900   NaN  13,265,331 2.46         1290.19   \n",
              "AIA                      NaN   NaN         NaN  NaN             NaN   \n",
              "MSR                      NaN   NaN         NaN  NaN             NaN   \n",
              "TWN                      NaN   NaN         NaN 3.14             NaN   \n",
              "\n",
              "             Country Size Human Capital Class Gini Class  \n",
              "Country Code                                              \n",
              "ABW                  Tiny                <NA>       <NA>  \n",
              "AFG                 Large                <NA>       <NA>  \n",
              "AGO                Medium                   0       <NA>  \n",
              "ALB            Very Small                   1          0  \n",
              "AND                  Tiny                <NA>       <NA>  \n",
              "...                   ...                 ...        ...  \n",
              "ZMB                 Small                   0        NaN  \n",
              "ZWE                 Small                   0        NaN  \n",
              "AIA                   NaN                <NA>        NaN  \n",
              "MSR                   NaN                <NA>        NaN  \n",
              "TWN                   NaN                   1        NaN  \n",
              "\n",
              "[220 rows x 8 columns]"
            ]
          },
          "execution_count": 51,
          "metadata": {},
          "output_type": "execute_result"
        }
      ],
      "source": [
        "data "
      ]
    },
    {
      "cell_type": "code",
      "execution_count": 52,
      "metadata": {
        "id": "B7fdYB-t2OTD"
      },
      "outputs": [
        {
          "name": "stdout",
          "output_type": "stream",
          "text": [
            "The countries, grouped by their population size classification that have the highest gdp per capita with hc lower than hc mean and gini lower than gini mean are: \n",
            "Large: IRN\n",
            "Small: PRT\n",
            "Huge: NGA\n"
          ]
        }
      ],
      "source": [
        "#9\n",
        "\n",
        "print(\"The countries, grouped by their population size classification that have the highest gdp per capita with hc lower than hc mean and gini lower than gini mean are: \")\n",
        "\n",
        "# Calculate the mean values of 'hc' and 'GINI' to compare against\n",
        "hc_mean = data['hc'].mean()\n",
        "gini_mean = data['GINI'].mean()\n",
        "\n",
        "# For each size classification (Tiny, Large, Medium, etc.), filter the data for countries where both 'hc' and 'GINI' are below the mean and the \n",
        "# 'Country Size' matches the current size in the loop (e.g., 'Tiny', 'Large', etc.)\n",
        "\n",
        "for size in ['Tiny', 'Large', 'Medium', 'Very Small', 'Small','Huge']:\n",
        "    # Filter the data to include only countries where:\n",
        "    # 1. 'hc' (human capital) is below the mean ('hc_mean')\n",
        "    # 2. 'GINI' (income inequality) is below the mean ('gini_mean')\n",
        "    # 3. 'Country Size' matches the current 'size' being iterated over\n",
        "    filtered_data = data[\n",
        "    (data[\"hc\"] < hc_mean) & (data[\"GINI\"] < gini_mean) & (data[\"Country Size\"] == size)\n",
        "    ]\n",
        "\n",
        "    # Sort the filtered data in descending order by 'GDP per capita'\n",
        "    # This will rank countries by GDP per capita, with the highest GDP per capita at the top\n",
        "    sorted_data = filtered_data.sort_values(by=\"GDP per capita\", ascending=False)\n",
        "\n",
        "    # Get the index of the top country (highest GDP per capita)\n",
        "    top_country = sorted_data.index\n",
        "\n",
        "    # If there are any countries in the filtered and sorted data, print the first one (the highest GDP per capita country)\n",
        "    # Otherwise, move to the next iteration (continue)\n",
        "    if len(top_country) > 0:\n",
        "        print(f\"{size}: {top_country[0]}\")\n",
        "    else:\n",
        "        continue \n",
        "\n",
        "# We only got values for 'Large', 'Small', and 'Huge' because:\n",
        "# 1. The filtering condition requires both 'hc' (human capital) and 'GINI' to be below their respective means.\n",
        "# 2. It's possible that no countries in the 'Tiny', 'Medium', and 'Very Small' size classifications meet this condition.\n",
        "# 3. If no countries in these size classifications have 'hc' and 'GINI' values below the mean, the filtered data for these sizes would be empty.\n",
        "# 4. As a result, when the loop reaches those size classifications, the condition \"if len(top_country) > 0\" fails, and nothing is printed for those sizes."
      ]
    },
    {
      "cell_type": "code",
      "execution_count": 53,
      "metadata": {
        "id": "s1kGHC43CNpu"
      },
      "outputs": [
        {
          "name": "stdout",
          "output_type": "stream",
          "text": [
            "The country that grew the most between 1980 and 2010 was: GNQ , growing astonishing 32114.68286761945 %.\n"
          ]
        }
      ],
      "source": [
        "#10 \n",
        "\n",
        "# 1 Select GDP data for each country from 1980 to 2010:\n",
        "#    - Filter the 'wdi' DataFrame for rows where \"Indicator Code\" matches 'i_GDP' which is equal to 'NY.GDP.MKTP.CD'\n",
        "#    - Select the 'Indicator Code', 'Country Code', and the \"+\"\" condition selects columns corresponding to each year from 1980 to 2010.\n",
        "#    - Reset the index for better readability\n",
        "\n",
        "wdi_10 = wdi.loc[wdi[\"Indicator Code\"] == 'NY.GDP.MKTP.CD' , [\"Indicator Code\",\"Country Code\"] + [str(year) for year in range(1980, 2011)]].reset_index()\n",
        "\n",
        "# 2 Create a list of the year columns (1980 to 2010) for easier access to GDP data.\n",
        "gdp_years = [str(year) for year in range(1980, 2011)]\n",
        "\n",
        "# Calculate the median GDP for each country across the selected years (1980 to 2010)\n",
        "# Then , apply the median function across columns (axis=1) for each row (country) to deal with missing values\n",
        "wdi_10[\"GDP Median\"] = wdi_10[gdp_years].median(axis=1)\n",
        "\n",
        "# 3 Fill NaN values in the GDP columns with the median for each country\n",
        "# - We use .T to transpose, apply .fillna with the \"GDP Median\", then transpose back.\n",
        "# In our DataFrame, each row represents a country, and each column (from 1980 to 2010) represents a year. When we apply .fillna(), pandas \n",
        "# operates column-wise, meaning it will fill NaN values year by year across all countries.\n",
        "# Since .fillna() by default operates column-wise, you need to temporarily switch the rows and columns so that .fillna() works within \n",
        "# each country (across years). After filling the NaNs, we transpose the DataFrame back to its original shape, where rows represent countries and \n",
        "# columns represent years\n",
        "\n",
        "wdi_10[gdp_years] = wdi_10[gdp_years].T.fillna(wdi_10[\"GDP Median\"]).T\n",
        "\n",
        "# Step 4: Optionally, drop the temporary \"GDP Median\" column as it is no longer needed\n",
        "#wdi_10.drop(columns=[\"GDP Median\"], inplace=True)\n",
        "\n",
        "# 6 Drop the unnecessary \"index\" column if it exists.\n",
        "wdi_10.drop(columns=\"index\",inplace=True)\n",
        "\n",
        "# Calculate the % increase in the GDP between 2010 and 1980 and add a column to wdi_10 dataset\n",
        "\n",
        "wdi_10[\"GDP Growth between 1980 and 2010\"] = ((wdi_10[\"2010\"] - wdi_10[\"1980\"]) / wdi_10[\"1980\"])*100\n",
        "\n",
        "\n",
        "# 8 Find the index of the country with the maximum GDP growth between 1980 and 2010.\n",
        "max_gdp_growth_index = wdi_10[\"GDP Growth between 1980 and 2010\"].idxmax(axis=0)\n",
        "\n",
        "# 9 Retrieve the 'Country Code' and GDP growth value for the country with the highest GDP growth.\n",
        "max_gdp_growth_country  = wdi_10.loc[max_gdp_growth_index,\"Country Code\"]\n",
        "max_gdp_growth_value = wdi_10.loc[max_gdp_growth_index,\"GDP Growth between 1980 and 2010\"]\n",
        "\n",
        "# 10. Print the country code and GDP growth percentage for the country that grew the most.\n",
        "print(f\"The country that grew the most between 1980 and 2010 was: {max_gdp_growth_country} , growing astonishing {max_gdp_growth_value} %.\")"
      ]
    }
  ],
  "metadata": {
    "colab": {
      "provenance": []
    },
    "kernelspec": {
      "display_name": "Python 3",
      "language": "python",
      "name": "python3"
    },
    "language_info": {
      "codemirror_mode": {
        "name": "ipython",
        "version": 3
      },
      "file_extension": ".py",
      "mimetype": "text/x-python",
      "name": "python",
      "nbconvert_exporter": "python",
      "pygments_lexer": "ipython3",
      "version": "3.8.5"
    }
  },
  "nbformat": 4,
  "nbformat_minor": 0
}
